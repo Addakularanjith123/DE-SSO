{
  "nbformat": 4,
  "nbformat_minor": 0,
  "metadata": {
    "colab": {
      "provenance": [],
      "include_colab_link": true
    },
    "kernelspec": {
      "name": "python3",
      "display_name": "Python 3"
    },
    "language_info": {
      "name": "python"
    }
  },
  "cells": [
    {
      "cell_type": "markdown",
      "metadata": {
        "id": "view-in-github",
        "colab_type": "text"
      },
      "source": [
        "<a href=\"https://colab.research.google.com/github/Addakularanjith123/DE-SSO/blob/main/Copy_of_test_git.ipynb\" target=\"_parent\"><img src=\"https://colab.research.google.com/assets/colab-badge.svg\" alt=\"Open In Colab\"/></a>"
      ]
    },
    {
      "cell_type": "code",
      "execution_count": null,
      "metadata": {
        "id": "_BKnrtU6Qjce"
      },
      "outputs": [],
      "source": []
    },
    {
      "cell_type": "code",
      "source": [],
      "metadata": {
        "id": "STt965ZmQyMP"
      },
      "execution_count": null,
      "outputs": []
    },
    {
      "cell_type": "code",
      "source": [],
      "metadata": {
        "id": "mtDzYd8cT2ym"
      },
      "execution_count": null,
      "outputs": []
    },
    {
      "cell_type": "markdown",
      "source": [
        "*  operator\n",
        "--------------\n",
        "1) What  is  the  result  of  25 * 4 ?  ---> 100\n",
        "    What  is  the  result  of  '25' * 4 ?  ---> '25252525'\n",
        "\n",
        "2) What  does  non-seqeunce  *  non-sequence  do  ?  ---> Multiplication\n",
        "     What  does  sequence *  integer   do  ? --->  Repeats  sequence  for  'n'  times\n",
        "     What  does  *sequence  do  ? ---> Unpacks  sequence  into  elements\n",
        "    \n",
        "3) Is  *  operator  overloaded ? --->  Yes  becoz   *  operator  does  multiplication ,  repetition  and  unpacks  object\n",
        "\n",
        "4) Is  sequence *  float  valid ?  --->  No  becoz  operand2  should  be  an  integer  when  operand1  is  a  sequence\n",
        "\n",
        "5) Is  sequence * sequence  valid  ?  --->  No  becoz  operand2  should  be  an  integer  when  operand1  is  a  sequence\n",
        "      \n",
        "6) Which  sequences  can  not  be  repeated (Total  :  3) ?  --->  set , dictionary , range"
      ],
      "metadata": {
        "id": "GaDsNvPvV210"
      }
    },
    {
      "cell_type": "code",
      "source": [],
      "metadata": {
        "id": "Xj-nmo-FWNvm"
      },
      "execution_count": null,
      "outputs": []
    },
    {
      "cell_type": "code",
      "source": [],
      "metadata": {
        "id": "12K4wRLBWOq-"
      },
      "execution_count": null,
      "outputs": []
    },
    {
      "cell_type": "code",
      "source": [],
      "metadata": {
        "id": "Wf1BAG0cWPUc"
      },
      "execution_count": null,
      "outputs": []
    },
    {
      "cell_type": "code",
      "source": [],
      "metadata": {
        "id": "8gc55mOhWN41"
      },
      "execution_count": null,
      "outputs": []
    },
    {
      "cell_type": "code",
      "source": [],
      "metadata": {
        "id": "AGtviBAuV8cl"
      },
      "execution_count": null,
      "outputs": []
    },
    {
      "cell_type": "markdown",
      "source": [
        "bold text#print({10 , 20} + {30 , 40}) # Error : sets  cannot be concatenated  with  +  operator\n",
        "#print({10 : 'Hyd'} + {20 : 'Sec'}) # Error : dictionaries cannot be concatenated  with  + operator\n",
        "#print(range(4) + range(5))  # Error  :  range  objects  cannot be  concatenated\n",
        "#print(10 + '20') # Error :  Operand2  should  be  a  non-sequence   as  operand1   is  a  non-sequence\n",
        "#print([10 , 20 , 30] + 5) # Error :  list  and  int  can  not  be  concatenated\n",
        "#print([10 , 20 , 30] + (40 , 50 , 60)) # Error  :  list  and   tuple  can  not  be  concatenated\n"
      ],
      "metadata": {
        "id": "asNa__VKQrR5"
      }
    },
    {
      "cell_type": "code",
      "source": [],
      "metadata": {
        "id": "5wnz4cTUWJcA"
      },
      "execution_count": null,
      "outputs": []
    },
    {
      "cell_type": "code",
      "source": [],
      "metadata": {
        "id": "sllpZ6yHWK89"
      },
      "execution_count": null,
      "outputs": []
    },
    {
      "cell_type": "code",
      "source": [],
      "metadata": {
        "id": "iBGScwLNWLX0"
      },
      "execution_count": null,
      "outputs": []
    },
    {
      "cell_type": "code",
      "source": [
        "# Find outputs (Home work)\n",
        "print(10 + 20) # 30\n",
        "print(10.8 + 20.6) #  31.4\n",
        "print(3 + 4j + 5 + 6j) # 8+10j\n",
        "print(True + False) #  1 + 0 = 1\n",
        "print('Hyder' + 'abad') # Hyderabad\n",
        "print('Sankar' + 'Dayal' + 'Sarma') #SankarDayalSarma\n",
        "print('10' + '20') # 1020\n",
        "print([10 , 20 , 30] + [1 , 2 , 3]) # [10, 20, 30, 1, 2, 3]\n",
        "print((25 , 10.8 , 'Hyd') + (3 + 4j , True , None)) # (25, 10.8, 'Hyd', (3+4j), True, None)"
      ],
      "metadata": {
        "id": "-9CvjBskT66d",
        "outputId": "2be80ad0-5cb8-4c13-86da-05a2a6f33499",
        "colab": {
          "base_uri": "https://localhost:8080/"
        }
      },
      "execution_count": null,
      "outputs": [
        {
          "output_type": "stream",
          "name": "stdout",
          "text": [
            "30\n",
            "31.400000000000002\n",
            "(8+10j)\n",
            "1\n",
            "Hyderabad\n",
            "SankarDayalSarma\n",
            "1020\n",
            "[10, 20, 30, 1, 2, 3]\n",
            "(25, 10.8, 'Hyd', (3+4j), True, None)\n"
          ]
        }
      ]
    },
    {
      "cell_type": "code",
      "source": [
        "# Find outputs (Home work)\n",
        "print(25 * 3) # 75\n",
        "print(10.8 * 25.6) # 276.48\n",
        "print(True * False) # 1 * 0 = 0\n",
        "print((3 + 4j) * (5 + 6j)) # 15+18j+20j-24 = -9 + 38j\n",
        "print(3 + 4j * 5 + 6j) #  3 + 20j + 6j = 3 + 26j\n",
        "print('25' * 3) # 252525\n",
        "print(3 * '25') # 252525\n",
        "print('Hyd' * 4) # HydHydHydHyd\n",
        "print([10 , 20 , 15] * 2) # [10, 20, 15, 10, 20, 15]\n",
        "print((25, 10.8, 'Hyd', True) * 3) # (25, 10.8, 'Hyd', True, 25, 10.8, 'Hyd', True, 25, 10.8, 'Hyd', True)\n",
        "#print([10 , 20 , 15] * 3.0)  #  Error  due  to  float  operand  3.0\n",
        "#print({10 , 20 , 15} * 2) # Error : set cannot  be  repeated\n",
        "#print({10 : 20 , 30 : 40} * 2) # Error : dict cannot be  repeated\n",
        "#print([10] * [20]) # Error :  2nd  opernad is  non-int   i.e.  list\n",
        "\n",
        "\n",
        "\n",
        "'''\n",
        "What  is  operand2  of  *  operator  when  operand1  is  a  sequence ?  --->   Integer\n",
        "'''"
      ],
      "metadata": {
        "id": "Iq5-XgPAT6qW"
      },
      "execution_count": null,
      "outputs": []
    },
    {
      "cell_type": "code",
      "source": [
        "# Find outputs (Home work)\n",
        "print(25 * 3) # 75\n",
        "print(10.8 * 25.6) # 276.48\n",
        "print(True * False) # 1 * 0 = 0\n",
        "print((3 + 4j) * (5 + 6j)) # 15+18j+20j-24 = -9 + 38j\n",
        "print(3 + 4j * 5 + 6j) #  3 + 20j + 6j = 3 + 26j\n",
        "print('25' * 3) # 252525\n",
        "print(3 * '25') # 252525\n",
        "print('Hyd' * 4) # HydHydHydHyd\n",
        "print([10 , 20 , 15] * 2) # [10, 20, 15, 10, 20, 15]\n",
        "print((25, 10.8, 'Hyd', True) * 3) # (25, 10.8, 'Hyd', True, 25, 10.8, 'Hyd', True, 25, 10.8, 'Hyd', True)\n",
        "#print([10 , 20 , 15] * 3.0)  #  Error  due  to  float  operand  3.0\n",
        "#print({10 , 20 , 15} * 2) # Error : set cannot  be  repeated\n",
        "#print({10 : 20 , 30 : 40} * 2) # Error : dict cannot be  repeated\n",
        "#print([10] * [20]) # Error :  2nd  opernad is  non-int   i.e.  list\n",
        "\n",
        "\n",
        "\n",
        "'''\n",
        "What  is  operand2  of  *  operator  when  operand1  is  a  sequence ?  --->   Integer\n",
        "'''"
      ],
      "metadata": {
        "id": "v9Kw1RvVWG6X"
      },
      "execution_count": null,
      "outputs": []
    },
    {
      "cell_type": "code",
      "source": [
        "#  /  operator  demo  program\n",
        "print(9.0 / 2)    #  4.5\n",
        "print(9 / 2.0)  #  4.5\n",
        "print(9.0 / 2.0)  #   4.5\n",
        "print(9 / 2)  #  4.5\n",
        "print(10.5 / 2)  #   5.25\n",
        "print(10 / 3)  #   3.3333\n",
        "print(10 / 2) #  5.0\n",
        "\n",
        "\n",
        "\n",
        "'''\n",
        "What  does  /  operator  do  ?  --->  Peforms  division   and  returns  float  quotient\n",
        "'''"
      ],
      "metadata": {
        "id": "MWaJ_u8QWofg"
      },
      "execution_count": null,
      "outputs": []
    },
    {
      "cell_type": "code",
      "source": [
        "#  //  operator  demo  program\n",
        "print(9 // 2)   # Previous  integer  of  4.5 = 4\n",
        "print(9.0 // 2)  #  Prev  integer  of  4.5 = 4.0\n",
        "print(9 // 2.0)  #  Prev  integer  of  4.5 = 4.0\n",
        "print(9.0 // 2.0)   # Prev  integer  of  4.5 = 4.0\n",
        "print(10.5 // 2)   #  Prev  integer  of  5.25 = 5.0\n",
        "print(10 // 3)   # Prev  integer  of   3.333 = 3\n",
        "print(10.0 // 3)  # Prev  integer  of  3.33 = 3.0\n",
        "print(8.5 // 3)  #   Prev  integer  of  2.8 = 2.0\n",
        "print(18 // 4)   # Prev  integer  of  4.5  = 4\n",
        "print(-18 // 4)  # Prev  integer  of  -4.5  = -5\n",
        "print(-(18 // 4))    #  -(prev  integer  of  4.5) =  -4\n",
        "\n",
        "\n",
        "'''\n",
        "//  operator\n",
        "--------------\n",
        "1) What  does  //  operator do ?  --->  Same  as  /  operator  but  returns  previous  integer  of  /  result\n",
        "\n",
        "2) What  is  the  result  of  integer // integer ?  --->  Integer  quotient\n",
        "    What  is  the  result  of  integer // float ?  ---> Float  quotient  with  .0\n",
        "    What  is  the  result  of  float // integer ?  ---> Float  quotient  with  .0\n",
        "    What  is  the  result  of  float // float ?  ---> Float  quotient  with  .0\n",
        "\n",
        "3) What  is  the  result  of  integer / integer ?  ---> Float  quotient\n",
        "    What  is  the  result  of  integer / float ?  ---> Float  quotient\n",
        "    What  is  the  result  of  float / integer ?  ---> Float  quotient\n",
        "    What  is  the  result  of  float / float ?  ---> Float  quotient\n",
        "\n",
        "4) When  is  the  result  of  //  operator  integer ?  ---> When  both  the  operands  are  integers\n",
        "    When  is  the  result  of   //  operator  float  with  .0 ?  ---> When  at  least  one  operand  is  float\n",
        "'''"
      ],
      "metadata": {
        "id": "mAFno-hnWYs_"
      },
      "execution_count": null,
      "outputs": []
    },
    {
      "cell_type": "code",
      "source": [
        "# % operator demo program\n",
        "print(9 % 5)   #  4\n",
        "print(9.0 % 5)  #  4.0\n",
        "print(9 % 5.0)  #  4.0\n",
        "print(9.0 % 5.0) #  4.0\n",
        "print(10.5 % 2) #  0.5\n",
        "print(8.9 % 3)  #  2.9\n",
        "\n",
        "\n",
        "\n",
        "'''\n",
        "%   operator\n",
        "---------------\n",
        "1) What  does  %  operator  do ?  --->  Performs  division  and  returns  remainder\n",
        "\n",
        "2) When  is  the  result  of  %  operator  integer ?  --->  When  both  the  operands  are  integers\n",
        "    When  is  the  result  of  %  operator  float ?  ---> When  at  least  one  operand  is  float\n",
        "'''"
      ],
      "metadata": {
        "id": "K3hXKEtbWYS3"
      },
      "execution_count": null,
      "outputs": []
    },
    {
      "cell_type": "code",
      "source": [
        "# Find outputs\n",
        "#print(7 / 0) # Error :  Division  by  zero  is  not  permitted\n",
        "#print(7 // 0) # Error :  Division  by  zero  is  not  permitted\n",
        "#print(7 % 0) # Error :  Division  by  zero  is  not  permitted\n",
        "\n",
        "\n",
        "\n",
        "'''\n",
        "What  does  division  by  zero  do ?  ---> Throws  error\n",
        "'''"
      ],
      "metadata": {
        "id": "1gwMtBNlW8y7"
      },
      "execution_count": null,
      "outputs": []
    },
    {
      "cell_type": "code",
      "source": [
        "# ** operator demo program\n",
        "print(3 ** 4)   #  3 ^ 4 = 81\n",
        "print(10 ** -2) #  10 ^ -2 = 0.01\n",
        "print(4 ** 3 ** 2) #  4 ^ 3 ^ 2 = 4 ^ 9 = 262144\n",
        "print(3 + 4 * 5 - 32 / 2 ** 3) #19.0\n",
        "\n",
        "\n",
        "\n",
        "'''\n",
        "**  operator\n",
        "---------------\n",
        "1) What  is  **  operator  called ?  --->  Exponential  operator\n",
        "\n",
        "2) What  is  the  result  of  a ** b ?  --->  a ^ b\n",
        "\n",
        "3) What  is  the  result  of  a ** b  ** c ?   --->  a ^ b ^ c\n",
        "\n",
        "4) What  is  the  associativity  of  **  operator ?  ---> Right  to  left\n",
        "    What  is  the  associativity  of  remaining  arithmetic  operators ?  ---> Left  to  right\n",
        "\n",
        "5) 3 + 4 * 5 - 32 / 2 ** 3\n",
        "     = 3 + 4 * 5 - 32 / 8\n",
        "     = 3 + 20 - 32 / 8\n",
        "     = 3 + 20 - 4.0\n",
        "     = 23 - 4.0\n",
        "     = 19.0\n",
        "'''"
      ],
      "metadata": {
        "id": "JCrWpUMvW7sm"
      },
      "execution_count": null,
      "outputs": []
    },
    {
      "cell_type": "code",
      "source": [
        "Relational  Operators\n",
        "--------------------------\n",
        "1) What  are  the  six  different  relational  operators ?  --->  > , < , == , >= , <= , !=\n",
        "\n",
        "2) What  does  relational  operators  do ?  ---> Compares  objects   but  not  references\n",
        "     How  to  compare  references ?  --->  With  is  operator\n",
        "\n",
        "3) What  is  the  result  of  relational  operators ?  ---> True  (or)  False\n",
        "\n",
        "4) Which  operators  have  got  higher  priority  in  relational  operators  ?  --->  > , < , >= , <=\n",
        "     Which  operators  have  got  lower  priority ?  ---> == , !=\n",
        "\n",
        "5) Which  operators  have  got  higher  priority  between  arithmetic  and  relational  operators ?  --->  Arithmetic  operators"
      ],
      "metadata": {
        "id": "7l4Z_jwtXZwP"
      },
      "execution_count": null,
      "outputs": []
    },
    {
      "cell_type": "code",
      "source": [
        "#  Relational  operators  demo  program (Home  work)\n",
        "print(9 >= 5)  #   True :  >  is  satisfied\n",
        "print(9 >= 9)   #   True :  =  is  satisfied\n",
        "print(9 >= 12)   #  False :  Both  are  not  satisfied\n",
        "print(6 <= 8)  #  True :  <  is  satisfied\n",
        "print(6 <= 6) #   True :  =  is  satisfied\n",
        "print(6 <= 4)  #  False :  Both  are  not  satisfied\n",
        "print(9 != 7)   #  True\n",
        "print(6 == 8) #  False\n",
        "print(True  >  False) #   1 > 0  is  True\n",
        "print(3 + 4j == 3 + 4j)  #  True :  Same  complex  numbers\n",
        "print(3 + 4j == 5 + 6j)  #  False :  Different  complex  numbers\n",
        "print(3 + 4j != 5 + 6j)  #  True\n",
        "print(10 == 10.0)#   True\n",
        "#print(3 + 4j >  3 + 4j)   #  Error :  complex  numbers  can  not  be  compared  with   >\n",
        "\n",
        "\n",
        "'''\n",
        "1) Can  complex  numbers   be  compared ?   ---> Yes  with  ==  and  !=\n",
        "\n",
        "2) When  can  complex  numbers   be  not  compared  ?  ---> Wiith  > , <  , >=  and  <=\n",
        "'''"
      ],
      "metadata": {
        "id": "9h9ADx87W64C"
      },
      "execution_count": null,
      "outputs": []
    },
    {
      "cell_type": "markdown",
      "source": [],
      "metadata": {
        "id": "qxXKmmkYZUeD"
      }
    },
    {
      "cell_type": "code",
      "source": [
        "#  Find  outputs  (Home  work)\n",
        "print('Rama'   >  'Rajesh')   # True :   'm' > 'j'\n",
        "print('Rama'  <  'Sita') #  True :   'R' < 'S'\n",
        "print('Hyd'  ==  'Hyd') # True :  Same  strings\n",
        "print('Rama'  <=   'Ramana') # True :  '' <= 'n'\n",
        "print('Rama  Rao'  >=  'Rama')  # True :  ' ' >= ''\n",
        "print('Hyd'  != 'Sec') # True\n",
        "print('HYD'  <   'hyd') # True  :   'H' < 'h'\n",
        "\n",
        "\n",
        "'''\n",
        "1) Can  strings  be  compared  with  > ,  < , == ,  >= , <=  and  != ?  --->  Yes  only  in  python  but  not  in  other  languages\n",
        "\n",
        "2) What  are  compared  internally  when  strings  are  compared ? --->  1st  non-matching  characters\n",
        "\n",
        "3) Are  characters  compared  (or)  their  unicode  values ?  --->  Unicode  values\n",
        "\n",
        "4) How  many  unicode  values  exist ?  ---> 512\n",
        "\n",
        "5) What  is  the  range  of  unicode  values ?  ---> 0  to  511\n",
        "\n",
        "6) What  are  the  unicode  values  of  'A'  to  'Z'  ?  --->  65  to  90\n",
        "    What  are  the  unicode  values  of  'a'  to   'z'  ?  ---> 97  to  122\n",
        "    What  are  the  unicode  values  of   '0'  to  '9' ?  --->  48  to  57\n",
        "    What  is  the  unicode  value  of   '$' ?  ---> 36\n",
        "    What  is  the  unicode  value  of  space ?  --->  32\n",
        "\n",
        "7) What  is  another  name  of  unicode ?  --->  Extended  Ascii (American  standard  code  for  information  and  interchange)\n",
        "'''"
      ],
      "metadata": {
        "id": "BhGcnfsFXu2l"
      },
      "execution_count": null,
      "outputs": []
    },
    {
      "cell_type": "code",
      "source": [
        "# Chaining  relational  opeartors  (Home work)\n",
        "print(10 < 20 < 30)    #  True :  Both  are  True\n",
        "print(10 >= 20 < 30)  #  False  :  10  is  not  >= 20\n",
        "print(10 < 20 > 30) #  False  :   20  is  not  > 30\n",
        "print(1 < 2 < 3 < 4)   #  True :  All conditions  are  True\n",
        "print(1 < 2 > 3 > 1) #  False  :  2  is  not  > 3\n",
        "print(4 > 3 >= 3 > 2)   #  True : All conditions  are  True\n",
        "\n",
        "\n",
        "'''\n",
        "1) Can  relational  operators  be  chained  ?  --->  Yes  only  in  python  but  not  in  other  languages\n",
        "\n",
        "2) When  is  the  result  True ?  --->  When  all  the  conditions  are  True\n",
        "    When  is  the  result  False ?  ---> When  at  least  one  condition  is  False\n",
        "'''"
      ],
      "metadata": {
        "id": "eNVa_VFiXuGo"
      },
      "execution_count": null,
      "outputs": []
    },
    {
      "cell_type": "code",
      "source": [],
      "metadata": {
        "id": "-YAL5p4aZpvx"
      },
      "execution_count": null,
      "outputs": []
    },
    {
      "cell_type": "code",
      "source": [],
      "metadata": {
        "id": "O1UMWKSeXtwJ"
      },
      "execution_count": null,
      "outputs": []
    },
    {
      "cell_type": "markdown",
      "source": [
        "Logical  operators\n",
        "----------------------\n",
        "1) What  are  the  three  different  logical  operators ?  ---> and , or , not\n",
        "\n",
        "2) Which  operator  has  got  highest  priority  in  logical  operators ?  --->  not\n",
        "     Which  operator  has  got  2nd  higher  priority ?  ---> and\n",
        "     Which  operator  has  got  lowest  priority ?  --->  or\n",
        "\n",
        "3) Which  operator  has  got  higher  priority  between  relational  and  logical  operators ?  ---> Relational  operators"
      ],
      "metadata": {
        "id": "yrSquZ-bZoyK"
      }
    },
    {
      "cell_type": "code",
      "source": [
        "#  and  operator  demo  program\n",
        "print(True  and  False)   #   False\n",
        "print(False  and  True)  #   False\n",
        "print(False  and   False)  #   False\n",
        "print(True  and  True)    #  True\n",
        "print(10  and  20)  #  20\n",
        "print(0  and  20)  #  0\n",
        "print(-25  and  0)   #  0\n",
        "print(''  and  25) #  Empty  string\n",
        "print(6j  and  'Hyd')  # Hyd\n",
        "print(0j  and  'Sec')  #   0j\n",
        "print('Hyd'   and  10.8)  #  10.8\n",
        "print(10  and  20  and  30)  #   20  and   30 = 30\n",
        "\n",
        "\n",
        "\n",
        "\n",
        "'''\n",
        "and  operator\n",
        "----------------\n",
        "1) When  is  the  result  of  and  operator  False ?  --->  When  at  least  one  operand  is  False\n",
        "    When  is  the  result  of  and  operator  True ?  ---> When  both  the  operands  are  True\n",
        "\n",
        "2) What  is  the  result  of  op1  and  op2  when  op1  is  True ?  --->  op2\n",
        "    What  is  the  result  of  op1  and  op2  when  op1  is  False ?  ---> op1\n",
        "\n",
        "3) Is  0  True  (or)  False  ?  --->  False\n",
        "     What  about  Non-zero ? ---> True\n",
        "\n",
        "4) Is  ''  True  (or)  False  ?   --->  False  due  to  empty  string\n",
        "     What  about  non-empty  string ?  ---> True\n",
        "\n",
        "5) What  is  0j  --->  False  due  to  zero  imag\n",
        "    What  is  4j  ---> True  due  to  non-zero  imag\n",
        "    What  is  3 + 0j ?  ---> True  due  to  non-zero  real\n",
        "'''"
      ],
      "metadata": {
        "id": "5IHeOLf2Xsn9"
      },
      "execution_count": null,
      "outputs": []
    },
    {
      "cell_type": "markdown",
      "source": [],
      "metadata": {
        "id": "YZnMsHCVXsSH"
      }
    },
    {
      "cell_type": "code",
      "source": [
        "#  or  operator  demo program\n",
        "print(True  or  False)  #  True\n",
        "print(False  or  True)   #  True\n",
        "print(True  or  True)   #  True\n",
        "print(False  or   False)  #  False\n",
        "print(10  or  20)  #    10\n",
        "print(0   or  20) #   20\n",
        "print(-25  or  0) #-25\n",
        "print(''  or  35) # 35\n",
        "print(6j  or  'Hyd')# 6j\n",
        "print(0.0  or  3 + 4j) # 3 + 4j\n",
        "print('Hyd'   or   10.8) # Hyd\n",
        "\n",
        "'''\n",
        "or  operator\n",
        "--------------\n",
        "1) When  is  the  result  of  or  operator  True ?  --->  When  at  least  one  operand  is  True\n",
        "    When  is  the  result  of  or  operator  False ?  ---> When  both  the  operands  are  False\n",
        "\n",
        "2) What  is  the  result  of  op1  or  op2  when  op1  is  False ?  ---> op2\n",
        "    What  is  the  result  of  op1  or  op2  when  op1  is  True ?  --->\top1\n",
        "\n",
        "3) and ,  or  operators  are  quite  opposite\n",
        "'''"
      ],
      "metadata": {
        "id": "iPcpi0Y3W6Kk"
      },
      "execution_count": null,
      "outputs": []
    },
    {
      "cell_type": "code",
      "source": [
        "# not  operator  demo  program\n",
        "print(not  True) #  False\n",
        "print(not  False)   # True\n",
        "print(not  25) #  not  True   --->  False\n",
        "print(not  0)  #  not  False   --->   True\n",
        "print(not  'Hyd') #  not  True   --->   False\n",
        "print(not  '') #  not  False   --->  True\n",
        "print(not  -10) #  not  True   --->   False\n",
        "print(not  not  'Hyd') #  not  not  True  --->  not  False   --->   True\n",
        "\n",
        "\n",
        "'''\n",
        "not  operator\n",
        "----------------\n",
        "1) What  does  not  operator  do ?  --->  Complement  operation\n",
        "\n",
        "2) Is  not  a  unary  operator  ?  --->  Yes  due  to  single  operand\n",
        "    What  about  and ,  or ? --->  Binary  operators  due  to  two  operands\n",
        "\n",
        "3) What  is  the  associativity  of  unary  operators ?  ---> Right  to  Left\n",
        "    What  is  the  associativity  of  binary  operators ?  ---> Left  to  Right  except  for  **\n",
        "'''"
      ],
      "metadata": {
        "id": "nrCBky6cW5HH"
      },
      "execution_count": null,
      "outputs": []
    },
    {
      "cell_type": "code",
      "source": [
        "#  Find   outputs (Home work)\n",
        "i = 10\n",
        "i = not  i > 14 # not  10 > 14  --->  not  False   --->   True\n",
        "print(i) # True\n",
        "print(not(6 < 4  or  9 >= 5  and  6 != 6))# True\n",
        "\n",
        "\n",
        "'''\n",
        "1) i = not  i >  14\n",
        "   Why  is  >  operator  evaluated  before  not  operator ?  --->\n",
        "                                                     Since  relational  operator  '>'  has  got  higher  priority  over  logical  operator  not\n",
        "\n",
        "2) ! (6 < 4  ||  9 >= 5  &&  6 != 6)\n",
        "    = !(false  ||  true  &&  false)\n",
        "    = !(false  ||  false)\n",
        "    = !false\n",
        "    = true\n",
        "'''"
      ],
      "metadata": {
        "id": "n4YBG76KWX52"
      },
      "execution_count": null,
      "outputs": []
    },
    {
      "cell_type": "code",
      "source": [],
      "metadata": {
        "id": "5ONRV-rvaFIv"
      },
      "execution_count": null,
      "outputs": []
    },
    {
      "cell_type": "markdown",
      "source": [
        "Assignment  operators\n",
        "-------------------------\n",
        "1)  =\n",
        "\n",
        "2) +=\n",
        "\n",
        "3) -=\n",
        "\n",
        "4) *=\n",
        "\n",
        "5) /=\n",
        "\n",
        "6) //=\n",
        "\n",
        "7) %=\n",
        "\n",
        "8) **="
      ],
      "metadata": {
        "id": "HHRnO1-yaYnO"
      }
    },
    {
      "cell_type": "code",
      "source": [
        "Assignment  Statement\n",
        "----------------------------\n",
        "1) What  is  =  operator  called ?  ---> Assignment  operator\n",
        "\n",
        "2) What  does  =  operator  do ? --->  Assigns  reference  to  an  object\n",
        "\n",
        "3) What  is  the  statement  with  =  operator  called  ? --->  Assignment  statement\n",
        "\n",
        "4) What  does  a = 25  do  ?  --->  Assigns  reference  to  object  25\n",
        "\n",
        "5) a = [10 , 20 , 15 , 18]\n",
        "    b = a\n",
        "    What  does  b = a  do ? --->  Assigns  reference  'b'  to  same  list  where  'a'  points.\n",
        " \t\t\t\t\t         Finally  both  the  references  point  to  same  list\n",
        "\n",
        "6) a = 4\n",
        "    b = 5\n",
        "    What  does  c = a + b * 6  do ?  --->  Assigns  reference  'c'  to  object  34(i.e. Result  of  the  expression)"
      ],
      "metadata": {
        "id": "LhhxbqCOaEeg"
      },
      "execution_count": null,
      "outputs": []
    },
    {
      "cell_type": "markdown",
      "source": [
        "=    Vs   ==\n",
        "---------------\n",
        "1) What  is  =  operator  called ?  ---> Assignment  operator\n",
        "    What  is  ==  operator  called ?  ---> Relational  operator\n",
        "\n",
        "2) What  does  =  operator  do ?  ---> Assigns  reference  to  an  object\n",
        "     What  does  ==   operator  do ?  ---> Compares  objects\n",
        "\n",
        "3) What  does  a = 7  do  ?  ---> Assigns  reference  'a'  to  int  object  '7'\n",
        "     What  does  a == 7  do ? ---> Compares  value  of  object  'a'   with  7\n",
        "\n",
        "4) What  is  the  result  of  the  statement  a = 7 ?  --->  No  result\n",
        "     What  is  the  result  of  a == 7 ?  --->  True  /  False\n",
        "\n",
        "5) Are  a = b  and  b = a  same ?  ---> No  and  they  are  quite  opposite\n",
        "    Are  a == b  and  b == a  same ?  ---> Yes  and  objects  'a'  and  'b'  are  compared\n",
        "\n",
        "6) What  is  operand1  in  operand1 = operand2  ?   ---> Only  reference\n",
        "    What  is  operand1  in  operand1 == operand2  ? --->  Anything\n",
        "\t\t\t\t\t\t\t\t\t\t       i.e. Either  reference  (or)  object\n",
        "    What  is  operand2  for  both  =  and  == ?  ---> Anything"
      ],
      "metadata": {
        "id": "J5BTwGpeaxLW"
      }
    },
    {
      "cell_type": "code",
      "source": [],
      "metadata": {
        "id": "jPHe-kZnaD1v"
      },
      "execution_count": null,
      "outputs": []
    },
    {
      "cell_type": "code",
      "source": [],
      "metadata": {
        "id": "4KhZ_WoSaDEs"
      },
      "execution_count": null,
      "outputs": []
    },
    {
      "cell_type": "markdown",
      "source": [
        "Membership    operators\n",
        "------------------------------\n",
        "1) What  are  the  two  membership  operators ?  ---> in  and  not  in\n",
        "\n",
        "2) What  is  the  syntax  of  'in'  operator ?  ---> element  in  sequence\n",
        "\n",
        "3) What  does  in  operator  do ? ---> Returns  True  when  element  is  in  the  sequence  and  False  otherwise\n",
        "\n",
        "4) What  does  not  in  operator  do ? ---> Quite  opposite  to  in  operator"
      ],
      "metadata": {
        "id": "NVeqB71KcG-r"
      }
    },
    {
      "cell_type": "code",
      "source": [
        "Precedence  of  operators\n",
        "------------------------------\n",
        "1) Which  operator  has  got  highest  priority ?  --->  ()\n",
        "\n",
        "2) Which  operator  has  got  2nd  highest  priority ?  --->  Arithmetic  operators\n",
        "\n",
        "3) Which  operators  have  got  3rd  highest  priority ?  --->  Relational  operators\n",
        "\n",
        "4) Which  operators  have  got  4th  highest  priority ?  --->  Assignment  operators\n",
        "\n",
        "5) Which  operators  have  got  5th  highest  priority ?  --->  Identity  operators\n",
        "\n",
        "6) Which  operators  have  got  6th  highest  priority ?  ---> Membership  operators\n",
        "\n",
        "7) Which  operators  have  got  lowest  priority ?  --->  Logical  operators"
      ],
      "metadata": {
        "id": "nlZA_FWjaCuf"
      },
      "execution_count": null,
      "outputs": []
    },
    {
      "cell_type": "code",
      "source": [],
      "metadata": {
        "id": "BWreLiCKWXYr"
      },
      "execution_count": null,
      "outputs": []
    },
    {
      "cell_type": "code",
      "source": [],
      "metadata": {
        "id": "C05CO2E7WWwO"
      },
      "execution_count": null,
      "outputs": []
    },
    {
      "cell_type": "markdown",
      "source": [],
      "metadata": {
        "id": "YFk9X8CdcCyg"
      }
    },
    {
      "cell_type": "code",
      "source": [
        "#  Assignment  operators  demo  program  (Home  work)\n",
        "a = 25\n",
        "print(a) #25\n",
        "b =  a\n",
        "print(b) #25\n",
        "print(a  is  b) #true\n",
        "x = 4\n",
        "y = 5\n",
        "z = x + y * 6\n",
        "print(z)#29\n",
        "# 25 = a\n",
        "# a + b = x + y #error\n",
        "# Find outputs (Home work)\n",
        "a = b = c = 25\n",
        "print(id(a)) #say 6789\n",
        "print(id(b))#same 6789\n",
        "print(id(c)) #same 6789\n",
        "print(a , b , c) #25 25 25\n",
        "# Multiple  Assignment (Home work)\n",
        "x , y , z = 25 , 10.8 , 'Hyd'\n",
        "print(x) #25\n",
        "print(y) #10.8\n",
        "print(z) #'Hyd'\n",
        "# Find outputs (Home work)\n",
        "a , b , c = 3 , 4 , 5\n",
        "a *= b + c\n",
        "print(a) #27\n",
        "# Identity operators demo program\n",
        "a = 25\n",
        "b = 25\n",
        "print(a  is  b) #true\n",
        "print(a  is  not  b) #false\n",
        "print(a == b) #true\n",
        "# Find outputs (Home work)\n",
        "a = 3\n",
        "a **= 4\n",
        "print(a) #81\n",
        "# Find outputs (Home work)\n",
        "a = 20\n",
        "a %= 3 + 2 * 4\n",
        "print(a) #9\n",
        "# Find outputs (Home work)\n",
        "x = [1 , 2 , 3 , 4]\n",
        "y = [1 , 2 , 4 , 3]\n",
        "print(x == y) # false\n",
        "a = (4 , 1 , 3 , 2)\n",
        "b = (4 , 2 , 3 , 1)\n",
        "print(a == b) #false\n",
        "p = {1 , 2 , 3 , 4}\n",
        "q = {4 , 1 , 3 , 2}\n",
        "print(p == q) #true\n",
        "m = range(5)\n",
        "n = range(5)\n",
        "print(m == n) #true\n",
        "# Find outputs (Home work)\n",
        "a = [10,20,30]\n",
        "b = (10,20,30)\n",
        "print(a  is  b)  #false\n",
        "print(a  ==  b) #false\n",
        "# Membership operators demo program (Home work)\n",
        "list = [10 , 20 , 15 , 12 , 18]\n",
        "print(15 in list) #true\n",
        "print(19 in list) #false\n",
        "print(14 not in list) #true\n",
        "print(15 not in list) ##false\n",
        "s = 'Hyd is green city'\n",
        "print( 'is' in s) #true\n",
        "print('was' in s) #false\n",
        "print('g' in s) #true\n",
        "print('z' in s) #false\n",
        "print(' ' in s) #true\n",
        "print('gre' in s) #True\n",
        "print('yd i' in s) #true\n",
        "print('' in s) #true\n",
        "print('' not in s) #false\n",
        "# Find outputs (Home work)\n",
        "a = 25\n",
        "b = 25.0\n",
        "print(a  is  b) # false\n",
        "print(a  is  not  b) #true\n",
        "print(a == b) #true\n",
        "# Find outputs (Home work)\n",
        "a = 'Hyd'\n",
        "b = 'Hyd'\n",
        "print(a  is  b) #false\n",
        "print(a  is  not  b) #true\n",
        "print(a == b) #true\n",
        "print()\n",
        "x = [1 , 2 , 3 , 4]\n",
        "y = [1 , 2 , 3 , 4]\n",
        "print(x is y) #false\n",
        "print(x  is  not  y) #true\n",
        "print(x == y) #true\n",
        "print()\n",
        "m = (1 , 2 , 3 , 4)\n",
        "n = (1 , 2 , 3 , 4)\n",
        "print(m  is  n) #False\n",
        "print(m  is  not  n) #true\n",
        "print(m == n) #true\n",
        "print(x == m) #false"
      ],
      "metadata": {
        "id": "Gyz8G5Kra9lR",
        "outputId": "d1b85503-885b-490b-a669-60819847b68b",
        "colab": {
          "base_uri": "https://localhost:8080/"
        }
      },
      "execution_count": null,
      "outputs": [
        {
          "output_type": "stream",
          "name": "stdout",
          "text": [
            "25\n",
            "25\n",
            "True\n",
            "34\n",
            "10758504\n",
            "10758504\n",
            "10758504\n",
            "25 25 25\n",
            "25\n",
            "10.8\n",
            "Hyd\n",
            "27\n",
            "True\n",
            "False\n",
            "True\n",
            "81\n",
            "9\n",
            "False\n",
            "False\n",
            "True\n",
            "True\n",
            "False\n",
            "False\n",
            "True\n",
            "False\n",
            "True\n",
            "False\n",
            "True\n",
            "False\n",
            "True\n",
            "False\n",
            "True\n",
            "True\n",
            "True\n",
            "True\n",
            "False\n",
            "False\n",
            "True\n",
            "True\n",
            "True\n",
            "False\n",
            "True\n",
            "\n",
            "False\n",
            "True\n",
            "True\n",
            "\n",
            "False\n",
            "True\n",
            "True\n",
            "False\n"
          ]
        }
      ]
    },
    {
      "cell_type": "code",
      "source": [
        "# Find outputs (Home work)\n",
        "a = b = c = 25 # Assigns  references  a , b  and  c  to  object 25\n",
        "print(id(a)) #   Address  of  object  25 (say 1000)\n",
        "print(id(b))  #   Address  of  object  25 (1000)\n",
        "print(id(c))  #   Address  of  object  25 (1000)\n",
        "print(a , b , c)  #   25  <space> 25  <space>  25\n",
        "\n",
        "\n",
        "'''\n",
        "a = b = c = 25\n",
        "How  many  objects  are  there ?  --->  Just  one  object  with  three  references\n",
        "'''"
      ],
      "metadata": {
        "id": "D6acSO8_S2hD"
      },
      "execution_count": null,
      "outputs": []
    },
    {
      "cell_type": "markdown",
      "source": [],
      "metadata": {
        "id": "xi7axbmrTE0C"
      }
    },
    {
      "cell_type": "code",
      "source": [
        "# Multiple  Assignment (Home work)\n",
        "x , y , z = 25 , 10.8 , 'Hyd'    #  Multiple  assignment\n",
        "print(x) # 25\n",
        "print(y) # 10.8\n",
        "print(z) # Hyd\n",
        "\n",
        "\n",
        "'''\n",
        "x , y , z  = 25 , 10.8 , 'Hyd'\n",
        "How  to  divide  the  statement  into  three  statements ?  --->  x = 25\n",
        "\t\t\t\t\t\t\t\t\t\t\t\t\t\t\t\t\t\t\t\t\t\t\t\t\t y = 10.8\n",
        "\t\t\t\t\t\t\t\t\t\t\t\t\t\t\t\t\t\t\t\t\t\t\t\t\t z = 'Hyd'\n",
        "'''"
      ],
      "metadata": {
        "id": "bd7lMUH2S0fj"
      },
      "execution_count": null,
      "outputs": []
    },
    {
      "cell_type": "code",
      "source": [
        "#  Find  outputs\n",
        "a = 7\n",
        "print(a , id(a))   #  7  <space> Address  of  object  7\n",
        "a += 5 #  a = a + (5)   --->  a = 7 + (5) = 12\n",
        "print(a , id(a))   #   12 <space> Address  of  object  12\n",
        "\n",
        "\n",
        "'''\n",
        "1) What  is  the  expansion  of  LHS  op=  RHS ?   --->  LHS  =  LHS  op  (RHS)  where  op  is  any  operator\n",
        "\n",
        "2) What  does  a += 5  do ?  --->  Modifies  ref  'a'  to  object  12\n",
        "'''"
      ],
      "metadata": {
        "id": "qa6EsPQ3VOrw"
      },
      "execution_count": null,
      "outputs": []
    },
    {
      "cell_type": "code",
      "source": [
        "# Find outputs (Home work)\n",
        "a , b , c = 3 , 4 , 5\n",
        "a *= b + c # a = a * (b + c)  --->  a =  3 * (4 + 5) = 27\n",
        "print(a) # 27"
      ],
      "metadata": {
        "id": "xzjyzgM0VOWu"
      },
      "execution_count": null,
      "outputs": []
    },
    {
      "cell_type": "code",
      "source": [
        "# Find outputs (Home work)\n",
        "a = 20\n",
        "a %= 3 + 2 * 4  #   a = a % (3 + 2 * 4)   --->  a = 20 % 11 = 9\n",
        "print(a) # 9"
      ],
      "metadata": {
        "id": "Ovw4ELEEVN3a"
      },
      "execution_count": null,
      "outputs": []
    },
    {
      "cell_type": "code",
      "source": [
        "# Find outputs (Home work)\n",
        "a = 3\n",
        "a **= 4  #  a = a ** (4)  --->  a =  81\n",
        "print(a) # 81"
      ],
      "metadata": {
        "id": "OhaxRJFoSz_h"
      },
      "execution_count": null,
      "outputs": []
    },
    {
      "cell_type": "markdown",
      "source": [
        "Identity    operators\n",
        "-------------------------\n",
        "1) What  are  the  two  identity  operators ? --->  is  and  is  not\n",
        "\n",
        "2) What  does  ref1  is  ref2  do ?  ---> Compares  references\n",
        "     What  does   ref1 == ref2  do ?  ---> Compares  objects  pointed  by  ref1  and  ref2\n",
        "\n",
        "3) What  is  the  result  of  ref1  is  ref2 ?  --->\n",
        "\t\t\t\t\t\t\t\tTrue  when  both  the  references  point  to  same  object  and  False  otherwise\n",
        "    What  is  the  result  of  ref1  ==  ref2 ?  --->  True  when  both  the  objects  have  same  value  and  False  otherwise\n",
        "\n",
        "4) is  and  is  not  are  quite  opposite  operators"
      ],
      "metadata": {
        "id": "pEusT_MZVsg0"
      }
    },
    {
      "cell_type": "code",
      "source": [
        "# Identity operators demo program\n",
        "a = 25 #  Assigns  reference  'a'  to  object  25\n",
        "b = 25 #  Assigns  ref  'b'  to  same  object  25\n",
        "print(a  is  b) # True  :  References  'a'  and  'b'  point  to  same  object  25\n",
        "print(a  is  not  b) # False\n",
        "print(a == b) # True  :  Objects  'a'  and  'b'  have  same  value   25"
      ],
      "metadata": {
        "id": "nOzrLx4ySzc5"
      },
      "execution_count": null,
      "outputs": []
    },
    {
      "cell_type": "markdown",
      "source": [],
      "metadata": {
        "id": "LXQH7wyISy2x"
      }
    },
    {
      "cell_type": "code",
      "source": [
        "# Find outputs (Home work)\n",
        "a = 25   #  Ref  'a'  points  to   int   object  25\n",
        "b = 25.0    #  Ref  'b'  points  to  float object  25.0\n",
        "print(a  is  b) # False :  'a'   and  'b'  point  to  different  objects\n",
        "print(a  is  not  b) # True\n",
        "print(a == b) # True :  Objects  'a'  and  'b' have  same  value  i.e.  25  and  25.0\n",
        "\n",
        "\n",
        "'''\n",
        "Are  25  and  25.0  same ?   --->  Yes\n",
        "'''"
      ],
      "metadata": {
        "id": "3-bjqfUjC7PE"
      },
      "execution_count": null,
      "outputs": []
    },
    {
      "cell_type": "markdown",
      "source": [],
      "metadata": {
        "id": "m0-qzv1Da9Bs"
      }
    },
    {
      "cell_type": "code",
      "source": [
        "# Find outputs (Home work)\n",
        "a = 'Hyd'   #  Ref  'a'  points  to  object  'Hyd'\n",
        "b = 'Hyd'   #  Ref  'b'  points  to  same  object  'Hyd'\n",
        "print(a  is  b) # True  :  References  'a'  and  'b'  point  to  same  object  'Hyd'\n",
        "print(a  is  not  b) # False\n",
        "print(a == b) # True  : Objects  'a'  and 'b' have  same  string  'Hyd'\n",
        "print()\n",
        "x = [1 , 2 , 3 , 4]  # Ref  'x'  points  to  list\n",
        "y = [1 , 2 , 3 , 4]  #  Ref  'y'  points  to  a  different  list  as  list  is  mutable  and  not  reusable\n",
        "print(x  is  y) # False  :  References  'x'  and  'y'  point  to  different  lists\n",
        "print(x  is  not  y) # True\n",
        "print(x == y) # True :  Lists  'x'  and 'y'  have  same  elements\n",
        "print()\n",
        "m = (1 , 2 , 3 , 4)  # Ref  'm'  points  to   tuple\n",
        "n = (1 , 2 , 3 , 4)  #  Ref  'n'  points  to  same  tuple\n",
        "print(m  is  n) # True  :  References  'm'  and  'n'  point  to  same  tuple\n",
        "print(m  is  not  n) # False\n",
        "print(m == n) # True  :  Tuples  'm'  and 'n'  have  same  elements\n",
        "print(x == m) #  False :  References  x  and  m  point  to  different  objects\n",
        "\n",
        "\n",
        "'''\n",
        "list == tuple\n",
        "What  does  ==  do ?  --->\n",
        "\n",
        "\n",
        "Compares  references  but  not  objects  becoz  they  are  different  class  objects\n",
        "'''"
      ],
      "metadata": {
        "id": "KmDg9RxBV62S"
      },
      "execution_count": null,
      "outputs": []
    },
    {
      "cell_type": "code",
      "source": [
        "# Find outputs (Home work)\n",
        "x = [1 , 2 , 3 , 4]\n",
        "y = [1 , 2 , 4 , 3]\n",
        "print(x == y) # False :  3 == 4  is  False\n",
        "a = (4 , 1 , 3 , 2)\n",
        "b = (4 , 2 , 3 , 1)\n",
        "print(a == b)  # False  :  1 == 2  is  False\n",
        "p = {1 , 2 , 3 , 4}\n",
        "q = {4 , 1 , 3 , 2}\n",
        "print(p == q) # True :  Sets  p  and  q  have  same  elements\n",
        "m = range(5)\n",
        "n = range(5)\n",
        "print(m == n) #   True  :  Objects  'm'  and  'n'  have   same  elements\n",
        "\n",
        "\n",
        "'''\n",
        "1) What  is  the  key  when  sequences  are  compared  with  ==  operator ?  --->  1st  non-matching  elements\n",
        "\n",
        "2) What  about  set ?  --->  Elements  but  not  order  becoz  set  is  unordered\n",
        "'''"
      ],
      "metadata": {
        "id": "2BMrqN_OV6WQ"
      },
      "execution_count": null,
      "outputs": []
    },
    {
      "cell_type": "code",
      "source": [],
      "metadata": {
        "id": "5neKdo77WBse"
      },
      "execution_count": null,
      "outputs": []
    },
    {
      "cell_type": "markdown",
      "source": [
        "Membership    operators\n",
        "------------------------------\n",
        "1) What  are  the  two  membership  operators ?  ---> in  and  not  in\n",
        "\n",
        "2) What  is  the  syntax  of  'in'  operator ?  ---> element  in  sequence\n",
        "\n",
        "3) What  does  in  operator  do ? ---> Returns  True  when  element  is  in  the  sequence  and  False  otherwise\n",
        "\n",
        "4) What  does  not  in  operator  do ? ---> Quite  opposite  to  in  operator"
      ],
      "metadata": {
        "id": "otsTCNzOWa3R"
      }
    },
    {
      "cell_type": "code",
      "source": [
        "# Membership operators demo program (Home work)\n",
        "list = [10 , 20 , 15 , 12 , 18]\n",
        "print(15 in list) # True\n",
        "print(19 in list) # False\n",
        "print(14 not in list) # True\n",
        "print(15 not in list) # False\n",
        "s = 'Hyd is green city'\n",
        "print( 'is' in s) # True\n",
        "print('was' in s) # False\n",
        "print('g' in s) # True\n",
        "print('z' in s) # False\n",
        "print(' ' in s) # True\n",
        "print('gre' in s) # True\n",
        "print('yd i' in s) # True\n",
        "print('' in s) # True :  Every  string  has  empty string\n",
        "print('' not in s) # False"
      ],
      "metadata": {
        "id": "iwx9jjKtWaUu"
      },
      "execution_count": null,
      "outputs": []
    },
    {
      "cell_type": "code",
      "source": [
        "Precedence  of  operators\n",
        "------------------------------\n",
        "1) Which  operator  has  got  highest  priority ?  --->  ()\n",
        "\n",
        "2) Which  operator  has  got  2nd  highest  priority ?  --->  Arithmetic  operators\n",
        "\n",
        "3) Which  operators  have  got  3rd  highest  priority ?  --->  Relational  operators\n",
        "\n",
        "4) Which  operators  have  got  4th  highest  priority ?  --->  Assignment  operators\n",
        "\n",
        "5) Which  operators  have  got  5th  highest  priority ?  --->  Identity  operators\n",
        "\n",
        "6) Which  operators  have  got  6th  highest  priority ?  ---> Membership  operators\n",
        "\n",
        "7) Which  operators  have  got  lowest  priority ?  --->  Logical  operators"
      ],
      "metadata": {
        "id": "jqsQTPP0WA-n"
      },
      "execution_count": null,
      "outputs": []
    },
    {
      "cell_type": "code",
      "source": [],
      "metadata": {
        "id": "-HhwMeMFWAfS"
      },
      "execution_count": null,
      "outputs": []
    },
    {
      "cell_type": "markdown",
      "source": [],
      "metadata": {
        "id": "wJz7ci7dV_80"
      }
    },
    {
      "cell_type": "code",
      "source": [],
      "metadata": {
        "id": "rFFilLDLWVJQ"
      },
      "execution_count": null,
      "outputs": []
    },
    {
      "cell_type": "markdown",
      "source": [
        "print(\"testing github\")"
      ],
      "metadata": {
        "id": "d29po_yAQ0c0"
      }
    }
  ]
}