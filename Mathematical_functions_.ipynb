{
  "nbformat": 4,
  "nbformat_minor": 0,
  "metadata": {
    "colab": {
      "provenance": [],
      "authorship_tag": "ABX9TyNuy9kKROirsB7mTHff6g7I",
      "include_colab_link": true
    },
    "kernelspec": {
      "name": "python3",
      "display_name": "Python 3"
    },
    "language_info": {
      "name": "python"
    }
  },
  "cells": [
    {
      "cell_type": "markdown",
      "metadata": {
        "id": "view-in-github",
        "colab_type": "text"
      },
      "source": [
        "<a href=\"https://colab.research.google.com/github/Addakularanjith123/DE-SSO/blob/main/Mathematical_functions_.ipynb\" target=\"_parent\"><img src=\"https://colab.research.google.com/assets/colab-badge.svg\" alt=\"Open In Colab\"/></a>"
      ]
    },
    {
      "cell_type": "code",
      "execution_count": null,
      "metadata": {
        "id": "FNOTTALBYatE"
      },
      "outputs": [],
      "source": []
    },
    {
      "cell_type": "markdown",
      "source": [
        "Mathematical  Functions\n",
        "----------------------------\n",
        "1) sqrt()\n",
        "\n",
        "2) pow()\n",
        "\n",
        "3) fabs()\n",
        "\n",
        "4) floor()\n",
        "\n",
        "5) ceil()\n",
        "\n",
        "6) degrees()\n",
        "\n",
        "7) radians()\n",
        "\n",
        "8) gcd()\n",
        "\n",
        "9) factorial()\n",
        "\n",
        "10) exp()\n",
        "\n",
        "11) pi  variable  (or)  object\n",
        "\n",
        "\n",
        "1) Where  are  they  defined ?  --->  In  math  module\n",
        "\n",
        "2) What  is  a  module ?  --->  File\n",
        "\n",
        "3) What  does  a  module  contain ?  --->  Statements , objects (i.e. variables) , functions  and  classes"
      ],
      "metadata": {
        "id": "Ns4PQU1fYq_u"
      }
    },
    {
      "cell_type": "code",
      "source": [
        "#pow()  function  demo  program\n",
        "import  math\n",
        "print(math . pow(2 , 3))  #  2 ^ 3 = 8.0\n",
        "print(math . pow(-2 , -3))  # -2 ^ -3\n",
        "print(math . pow(10 , -2)) #  10 ^ -2 = 0.01\n",
        "print(math . pow(4 , math . pow(3 , 2))) #   4 ^ 3 ^ 2 = 4 ^ 9\n",
        "\n",
        "\n",
        "'''\n",
        "1) What  are  the  two  ways  to  obtain  a ^ b ? --->  a ** b   and   math . pow(a , b)\n",
        "\n",
        "2) Can  a  module  be  used  without  import ?  ---> No\n",
        "\n",
        "3) What  is  the  pre-requisite  to  use  a  module ?  --->  It  has  to  be  imported\n",
        "'''"
      ],
      "metadata": {
        "id": "2KUywIkEY27A"
      },
      "execution_count": null,
      "outputs": []
    },
    {
      "cell_type": "markdown",
      "source": [],
      "metadata": {
        "id": "sBt02M14ZDAB"
      }
    },
    {
      "cell_type": "code",
      "source": [
        "# sqrt()  function  demo  program\n",
        "import  math\n",
        "print(math . sqrt(25))  #  5.0\n",
        "print(math . sqrt(10)) #   3.16\n",
        "print(math . sqrt(6.25))  #  2.5\n",
        "print(math . sqrt(True))  #  1.0\n",
        "#print(math . sqrt(3+4j)) #  Error :   sqrt(complex-number)  can not  be  determined\n",
        "print(math . sqrt(math . sqrt(256)))  #  math . sqr(16.0) = 4.0\n",
        "print(math . sqrt(math . pow(3 , 4)))  #  math . sqrt(81.0) = 9.0\n",
        "#print(math . sqrt(-16))  #  Error :  sqrt(-ve  number)  can  not  be  determined\n",
        "#print(sqrt(49))  #  Error  :  No  sqrt()  function  in  current  module\n",
        "\n",
        "\n",
        "'''\n",
        "1) math . sqrt(x)\n",
        "    Where  is  sqrt()  function  searched ?  ---> In  math  module\n",
        "\n",
        "2) sqrt(x)\n",
        "    Where  is   sqrt()  function  searched ? --->  In  current  module  (or)  program\n",
        "'''"
      ],
      "metadata": {
        "id": "puJ4QViDYso2"
      },
      "execution_count": null,
      "outputs": []
    },
    {
      "cell_type": "code",
      "source": [
        "# fabs()  function  demo   program\n",
        "import  math\n",
        "print(math . fabs(-10)) #   10.0\n",
        "print(math . fabs(-25.6)) #  25.6\n",
        "print(math . fabs(20)) #  20.0\n",
        "print(math . fabs(35.8))  #  35.8\n",
        "#print(fabs(-25))  #   Error :  No  fabs()  function  in  current  module\n",
        "\n",
        "\n",
        "\n",
        "'''\n",
        "fabs()  function\n",
        "-------------------\n",
        "1) What  does  fabs(-ve  value)  do ?  --->  Returns  +ve   value\n",
        "\n",
        "2) What  does  fabs(+ve  value)  do ?  --->  Returns  same  value\n",
        "\n",
        "3) What  is  the  result  of  fabs(integer (or) float)  --->  Always  float  irrespective  of  the  argument\n",
        "'''"
      ],
      "metadata": {
        "id": "Wb_kgPZIYxuK"
      },
      "execution_count": null,
      "outputs": []
    },
    {
      "cell_type": "code",
      "source": [
        "#  pi  variable ,   degrees()  and  radians()   functions  demo  program\n",
        "import  math\n",
        "print(math . pi)  #  22 / 7 = 3.14159\n",
        "print(math . degrees(math . pi))  #  Converts  pi  radians  to  180  degrees\n",
        "print(math . degrees(math . pi / 2))  #  Converts  pi / 2  radians  to  90  degrees\n",
        "print(math . radians(180))  #  Converts  180  degrees  to  pi  radians = 3.14159\n",
        "print(math . radians(90))   #  Converts  90  degrees  to  pi / 2  radians =  1.57\n",
        "#print(pi)  #  Error  : No  object  pi  in  current  module\n",
        "\n",
        "\n",
        "\n",
        "'''\n",
        "1) What  does  degrees(x)  do ?  --->  Converts   'x'  radians  to  degrees\n",
        "\n",
        "2) What  does  radians(x)  do ?  --->  Converts  'x'  degrees  to  radians\n",
        "\n",
        "3) print(math . pi)\n",
        "    Where  is  pi  searched ?  --->  In  math  module  due  to  the  prefix  math\n",
        "\n",
        "4) print(pi)\n",
        "    Where  is  pi  searched ?  ---> \tIn  current  module  becoz  there  is  no  prefix  math\n",
        "\n",
        "5) math . pi()\n",
        "    Is  the  statement  valid ?  --->  No  becoz  pi  is  an  object  but  not  a  function\n",
        "'''"
      ],
      "metadata": {
        "id": "DNrWP8xIYxHc"
      },
      "execution_count": null,
      "outputs": []
    },
    {
      "cell_type": "code",
      "source": [
        "#  factorial()   function  demo  program\n",
        "import  math\n",
        "print(math . factorial(5)) #  1 * 2 * 3 * 4 * 5 = 120\n",
        "print(math . factorial(0)) #  1\n",
        "print(math . factorial(100)) #  100!\n",
        "#print(math . factorial(-5))  #  Error :  factorial(-ve  number)  can  not  be  determined\n",
        "\n",
        "\n",
        "'''\n",
        "1) What  is  maximum  value  of  integer  in  other  languages ?  --->   2 ^ 31 - 1 = 214  crores (approx)\n",
        "    What  is  maximum  value  of  integer  in  python ? --->  Infinity\n",
        "\n",
        "2) What  is  the  maximum  factorial  permitted  in  other  languages ? --->  20!\n",
        "     What  about  python ? --->  No  limit\n",
        "\n",
        "3) Not  possible  to  determine  21!   in  other  languages  becoz  21!  exceeds  maximum   value  of  integer\n",
        "'''"
      ],
      "metadata": {
        "id": "vC_VJHhKZVPE"
      },
      "execution_count": null,
      "outputs": []
    },
    {
      "cell_type": "code",
      "source": [
        "# exp()  function demo program\n",
        "import  math\n",
        "print(math . exp(1))  #   e ^ 1 = e = 2.71828\n",
        "print(math . exp(2))#   e ^ 2\n",
        "print(math . exp(0))  # e ^ 0 = 1\n",
        "print(math . exp(-2)) #  e ^ -2\n",
        "\n",
        "\n",
        "'''\n",
        "What  is  value  of  'e' ?  ---> 2.71828\n",
        "'''"
      ],
      "metadata": {
        "id": "1zDL6cdmZUzZ"
      },
      "execution_count": null,
      "outputs": []
    },
    {
      "cell_type": "markdown",
      "source": [
        "import  statement\n",
        "---------------------\n",
        "1) What  is  the  syntax  of  import  statement ?  --->  import  modulename\n",
        "\n",
        "2) What  does  module  contain (Total : 4) ?  --->  Statements , objects(i.e. variables) , functions  and  classes\n",
        "\n",
        "3) import  module\n",
        "    What  does   the  statement  do ?  --->  Imports  module  and  also  statements  of  the  module\n",
        "\n",
        "4) What  about  members  of  the  module ?  --->  They  are  not  imported\n",
        "\n",
        "5) What  are  the  members  of  module (Total : 3) ?  --->  Objects(i.e. variables) , functions  and  classes\n",
        "\n",
        "6) What  about  statements  of  the  module  ?  ---> They  are  not  members  of  the  module\n",
        "\n",
        "7) Can  members  of  the  module  be  used ?  --->  Yes  even  though  they  are  not  imported\n",
        "\n",
        "8) How  to  use  members  of  the  module ?  --->  module . member\n",
        "\n",
        "9) Can  member  be  used  directly  without  module  name  prefix ?  ---> No  becoz  members  are  not  imported\n",
        "\n",
        "10) import  math\n",
        "      Is  pow(x , y)  valid ?  ---> No  becoz  function  pow()  is  not  imported  from  math  module\n",
        "      Is  pi  valid ?  --->  No  becoz  object  pi  is  not  imported  from  math  module\n",
        "      Is  math . sqrt(x)  valid ?  ---> Yes\n",
        "      Is  math . pi  valid ?  --->  Yes\n",
        "\n",
        "Note:\n",
        "Let  module  abc.py  contain:\n",
        "x = 25\n",
        "statements\n",
        "def  f1():\n",
        "\tstatements\n",
        "class   c1:\n",
        "\tdef   m1(self):\n",
        "\t\tstatements\n",
        "----------------------------\n",
        "import  abc\n",
        "What  are  imported  ?  ---> module   abc  and  statements  of  the   module\n",
        "What   are  not  imported ?   --->  Object  'x' ,  function  f1   and  class  c1\n",
        "How  to  use  object  'x'  ?   --->   abc . x\n",
        "How  to  use  function  f1  ?   --->  abc . f1()\n",
        "How  to  use  class  c1  ?   --->  abc . c1()\n",
        "Is  f1()  valid ? --->  No  becoz  function  f1   is  not  imported"
      ],
      "metadata": {
        "id": "hJWEN__zZlbO"
      }
    },
    {
      "cell_type": "markdown",
      "source": [
        "from  statement\n",
        "-------------------\n",
        "1) What  is  the  syntax  of  from  statement ?  --->  from  module  import  *\n",
        "\n",
        "2) What  are  imported  ?  --->  Members  and  statements  of  the  module\n",
        "\n",
        "3) What  is  not  imported ?  --->  Module\n",
        "\n",
        "4) How  to  use  members  of  the  module ?  ---> Directly  member  name\n",
        "\n",
        "5) Is  module . member  valid ?  ---> No  becoz  module  is  not  imported\n",
        "\n",
        "6) What  does  *  indicate ?  --->  All  the  members  of  module\n",
        "\n",
        "7) from  math  import   *\n",
        "    Is  math . pow(x , y)  valid ?  --->  No  becoz  math   module  is  not  imported\n",
        "    Is  math . pi  valid ?  --->  No\n",
        "    Is  sqrt(x)  valid ?  --->  Yes  becoz  sqrt()  function  is  imported\n",
        "    Is  pi  valid ?  --->   Yes  becoz  object  pi  is  imported\n",
        "\n",
        "\n",
        "Note:\n",
        "Let  module  abc.py  contain:\n",
        "statements\n",
        "print('Hyd')\n",
        "def  f1():\n",
        "\t statements\n",
        "class   c1:\n",
        "\tdef  m1(self):\n",
        "\t\t statements\n",
        "----------------------------\n",
        "from  abc  import   *\n",
        "What   are  imported ?   ---> Object  'x' , function  f1() ,  class  c1  and  statements  of  the  module\n",
        "What  is  not  imported ?   --->  abc\n",
        "How  to  use  object  'x'  ?   --->  'x'  itself\n",
        "How  to  use  function  f1  ?   ---> f1()\n",
        "How  to  use  class  c1  ?   --->  c1()\n",
        "Is  abc . x  valid ?  --->  No  becoz  module  abc  is  not  imported"
      ],
      "metadata": {
        "id": "YoWofOaiZtPZ"
      }
    },
    {
      "cell_type": "markdown",
      "source": [
        "Functions  of  builtins  module\n",
        "----------------------------------\n",
        "1) abs()\n",
        "\n",
        "2) max()\n",
        "\n",
        "3) min()\n",
        "\n",
        "4) pow()\n",
        "\n",
        "5) print()\n",
        "\n",
        "6) id()\n",
        "\n",
        "7) len()\n",
        "\n",
        "8) int()\n",
        "\n",
        "9) list()  and   so   on\n",
        "\n",
        "\n",
        "1) from  builtins  import   *\n",
        "    Is  the  statement  mandatory  ?  --->  No  becoz  members  of  builtins  module  are  automatically  imported\n",
        "\n",
        "2) In  otherwords,  they  need  not  be  imported  explicitly\n",
        "\n",
        "3) Therefore  they  can  be  used  directly  without  import\n",
        "\n",
        "4) import  builtins\n",
        "    Is  the  import  mandatory  (or)  optional ?  --->  Mandatory  becoz  when  builtins  module  used  becoz\n",
        "\t\t\t\t\t\t\t\t\t        builtins  module  is  not  imported  automatically\n",
        "\n",
        "5) Most  of  the  pre-defined  functions  and  clasess  are  defined  in  builtins  module"
      ],
      "metadata": {
        "id": "fQjv0CNrZ66Y"
      }
    },
    {
      "cell_type": "markdown",
      "source": [],
      "metadata": {
        "id": "E4ob6RpNZs5m"
      }
    },
    {
      "cell_type": "markdown",
      "source": [
        "Keyword\n",
        "-----------\n",
        "1) What  is  a  keyword ?  ---> A  word  with  special  meaning  in  the  computer\n",
        "    What  about  user  defined  word ?  ---> A  word  without  any  meaning\n",
        "\n",
        "2) How  many  keywords  are  in  python ? ---> 35\n",
        "\n",
        "3) What  are  they ?  ---> True , False , None ,  is , in , not , and , or ,  import , from ,  for , while , del ,  yield  ,  .....\n",
        "\n",
        "4) Where  are  all  the  keywords  present ?  ---> In  kwlist\n",
        "\n",
        "5) Where  is  kwlist  defined ?  ---> In  keyword  module\n",
        "\n",
        "6) When  is  kwlist  initialized ?  ---> As  soon  as  it  is  imported\n",
        "\n",
        "7) Are  int , float , str , list , tuple  keywords ?  ---> No  and  they  are  pre-defined  classes  in  builtins  module\n",
        "\n",
        "8) Each  keyword  should  be  used  to  convey  that  meaning  it  is  meant  for\n",
        "\n",
        "9) Can  keyword  be  used  as  a  user  defined  word ?  ---> No\n",
        "\n",
        "10) What  is  another  name  of  keyword ?  ---> System  defined  word  (or)  reserved  word\n",
        "\n",
        "11) Can  function  name , classname  and  object  name  be  keywords ?  ---> No  and  they  should  be  user  defined  words\n",
        "\n",
        "12) Is  yield = 25  valid ?  ---> No  becoz  reference  (or)  object  name  can  not  be  a  keyword   such  as   yield\n",
        "\n",
        "13) Is  sairam  a  keyword ?  --->No  and  it  is  a  user  defined  word"
      ],
      "metadata": {
        "id": "ukY3g3QRZ_28"
      }
    },
    {
      "cell_type": "code",
      "source": [],
      "metadata": {
        "id": "9SpbhdG0ZlD8"
      },
      "execution_count": null,
      "outputs": []
    },
    {
      "cell_type": "code",
      "source": [],
      "metadata": {
        "id": "usYcdw2zZUW7"
      },
      "execution_count": null,
      "outputs": []
    },
    {
      "cell_type": "code",
      "source": [],
      "metadata": {
        "id": "tKz1nu79ZT8V"
      },
      "execution_count": null,
      "outputs": []
    },
    {
      "cell_type": "code",
      "source": [],
      "metadata": {
        "id": "Jl12PvzAZTfZ"
      },
      "execution_count": null,
      "outputs": []
    },
    {
      "cell_type": "code",
      "source": [],
      "metadata": {
        "id": "x_bwwQPrZTAh"
      },
      "execution_count": null,
      "outputs": []
    },
    {
      "cell_type": "markdown",
      "source": [],
      "metadata": {
        "id": "jafSmFIrZSaO"
      }
    },
    {
      "cell_type": "code",
      "source": [],
      "metadata": {
        "id": "KktshuZmYwgV"
      },
      "execution_count": null,
      "outputs": []
    },
    {
      "cell_type": "code",
      "source": [],
      "metadata": {
        "id": "ukmXL4EsYvzI"
      },
      "execution_count": null,
      "outputs": []
    },
    {
      "cell_type": "code",
      "source": [],
      "metadata": {
        "id": "JTum5ZeUYsT_"
      },
      "execution_count": null,
      "outputs": []
    }
  ]
}