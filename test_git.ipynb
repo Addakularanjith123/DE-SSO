{
  "nbformat": 4,
  "nbformat_minor": 0,
  "metadata": {
    "colab": {
      "provenance": [],
      "include_colab_link": true
    },
    "kernelspec": {
      "name": "python3",
      "display_name": "Python 3"
    },
    "language_info": {
      "name": "python"
    }
  },
  "cells": [
    {
      "cell_type": "markdown",
      "metadata": {
        "id": "view-in-github",
        "colab_type": "text"
      },
      "source": [
        "<a href=\"https://colab.research.google.com/github/Addakularanjith123/DE-SSO/blob/main/test_git.ipynb\" target=\"_parent\"><img src=\"https://colab.research.google.com/assets/colab-badge.svg\" alt=\"Open In Colab\"/></a>"
      ]
    },
    {
      "cell_type": "code",
      "execution_count": null,
      "metadata": {
        "id": "_BKnrtU6Qjce"
      },
      "outputs": [],
      "source": []
    },
    {
      "cell_type": "code",
      "source": [],
      "metadata": {
        "id": "STt965ZmQyMP"
      },
      "execution_count": null,
      "outputs": []
    },
    {
      "cell_type": "code",
      "source": [],
      "metadata": {
        "id": "mtDzYd8cT2ym"
      },
      "execution_count": null,
      "outputs": []
    },
    {
      "cell_type": "markdown",
      "source": [
        "*  operator\n",
        "--------------\n",
        "1) What  is  the  result  of  25 * 4 ?  ---> 100\n",
        "    What  is  the  result  of  '25' * 4 ?  ---> '25252525'\n",
        "\n",
        "2) What  does  non-seqeunce  *  non-sequence  do  ?  ---> Multiplication\n",
        "     What  does  sequence *  integer   do  ? --->  Repeats  sequence  for  'n'  times\n",
        "     What  does  *sequence  do  ? ---> Unpacks  sequence  into  elements\n",
        "    \n",
        "3) Is  *  operator  overloaded ? --->  Yes  becoz   *  operator  does  multiplication ,  repetition  and  unpacks  object\n",
        "\n",
        "4) Is  sequence *  float  valid ?  --->  No  becoz  operand2  should  be  an  integer  when  operand1  is  a  sequence\n",
        "\n",
        "5) Is  sequence * sequence  valid  ?  --->  No  becoz  operand2  should  be  an  integer  when  operand1  is  a  sequence\n",
        "      \n",
        "6) Which  sequences  can  not  be  repeated (Total  :  3) ?  --->  set , dictionary , range"
      ],
      "metadata": {
        "id": "GaDsNvPvV210"
      }
    },
    {
      "cell_type": "code",
      "source": [],
      "metadata": {
        "id": "Xj-nmo-FWNvm"
      },
      "execution_count": null,
      "outputs": []
    },
    {
      "cell_type": "code",
      "source": [],
      "metadata": {
        "id": "12K4wRLBWOq-"
      },
      "execution_count": null,
      "outputs": []
    },
    {
      "cell_type": "code",
      "source": [],
      "metadata": {
        "id": "Wf1BAG0cWPUc"
      },
      "execution_count": null,
      "outputs": []
    },
    {
      "cell_type": "code",
      "source": [],
      "metadata": {
        "id": "8gc55mOhWN41"
      },
      "execution_count": null,
      "outputs": []
    },
    {
      "cell_type": "code",
      "source": [],
      "metadata": {
        "id": "AGtviBAuV8cl"
      },
      "execution_count": null,
      "outputs": []
    },
    {
      "cell_type": "markdown",
      "source": [
        "bold text#print({10 , 20} + {30 , 40}) # Error : sets  cannot be concatenated  with  +  operator\n",
        "#print({10 : 'Hyd'} + {20 : 'Sec'}) # Error : dictionaries cannot be concatenated  with  + operator\n",
        "#print(range(4) + range(5))  # Error  :  range  objects  cannot be  concatenated\n",
        "#print(10 + '20') # Error :  Operand2  should  be  a  non-sequence   as  operand1   is  a  non-sequence\n",
        "#print([10 , 20 , 30] + 5) # Error :  list  and  int  can  not  be  concatenated\n",
        "#print([10 , 20 , 30] + (40 , 50 , 60)) # Error  :  list  and   tuple  can  not  be  concatenated\n"
      ],
      "metadata": {
        "id": "asNa__VKQrR5"
      }
    },
    {
      "cell_type": "code",
      "source": [],
      "metadata": {
        "id": "5wnz4cTUWJcA"
      },
      "execution_count": null,
      "outputs": []
    },
    {
      "cell_type": "code",
      "source": [],
      "metadata": {
        "id": "sllpZ6yHWK89"
      },
      "execution_count": null,
      "outputs": []
    },
    {
      "cell_type": "code",
      "source": [],
      "metadata": {
        "id": "iBGScwLNWLX0"
      },
      "execution_count": null,
      "outputs": []
    },
    {
      "cell_type": "code",
      "source": [
        "# Find outputs (Home work)\n",
        "print(10 + 20) # 30\n",
        "print(10.8 + 20.6) #  31.4\n",
        "print(3 + 4j + 5 + 6j) # 8+10j\n",
        "print(True + False) #  1 + 0 = 1\n",
        "print('Hyder' + 'abad') # Hyderabad\n",
        "print('Sankar' + 'Dayal' + 'Sarma') #SankarDayalSarma\n",
        "print('10' + '20') # 1020\n",
        "print([10 , 20 , 30] + [1 , 2 , 3]) # [10, 20, 30, 1, 2, 3]\n",
        "print((25 , 10.8 , 'Hyd') + (3 + 4j , True , None)) # (25, 10.8, 'Hyd', (3+4j), True, None)"
      ],
      "metadata": {
        "id": "-9CvjBskT66d",
        "outputId": "2be80ad0-5cb8-4c13-86da-05a2a6f33499",
        "colab": {
          "base_uri": "https://localhost:8080/"
        }
      },
      "execution_count": null,
      "outputs": [
        {
          "output_type": "stream",
          "name": "stdout",
          "text": [
            "30\n",
            "31.400000000000002\n",
            "(8+10j)\n",
            "1\n",
            "Hyderabad\n",
            "SankarDayalSarma\n",
            "1020\n",
            "[10, 20, 30, 1, 2, 3]\n",
            "(25, 10.8, 'Hyd', (3+4j), True, None)\n"
          ]
        }
      ]
    },
    {
      "cell_type": "code",
      "source": [
        "# Find outputs (Home work)\n",
        "print(25 * 3) # 75\n",
        "print(10.8 * 25.6) # 276.48\n",
        "print(True * False) # 1 * 0 = 0\n",
        "print((3 + 4j) * (5 + 6j)) # 15+18j+20j-24 = -9 + 38j\n",
        "print(3 + 4j * 5 + 6j) #  3 + 20j + 6j = 3 + 26j\n",
        "print('25' * 3) # 252525\n",
        "print(3 * '25') # 252525\n",
        "print('Hyd' * 4) # HydHydHydHyd\n",
        "print([10 , 20 , 15] * 2) # [10, 20, 15, 10, 20, 15]\n",
        "print((25, 10.8, 'Hyd', True) * 3) # (25, 10.8, 'Hyd', True, 25, 10.8, 'Hyd', True, 25, 10.8, 'Hyd', True)\n",
        "#print([10 , 20 , 15] * 3.0)  #  Error  due  to  float  operand  3.0\n",
        "#print({10 , 20 , 15} * 2) # Error : set cannot  be  repeated\n",
        "#print({10 : 20 , 30 : 40} * 2) # Error : dict cannot be  repeated\n",
        "#print([10] * [20]) # Error :  2nd  opernad is  non-int   i.e.  list\n",
        "\n",
        "\n",
        "\n",
        "'''\n",
        "What  is  operand2  of  *  operator  when  operand1  is  a  sequence ?  --->   Integer\n",
        "'''"
      ],
      "metadata": {
        "id": "Iq5-XgPAT6qW"
      },
      "execution_count": null,
      "outputs": []
    },
    {
      "cell_type": "code",
      "source": [
        "# Find outputs (Home work)\n",
        "print(25 * 3) # 75\n",
        "print(10.8 * 25.6) # 276.48\n",
        "print(True * False) # 1 * 0 = 0\n",
        "print((3 + 4j) * (5 + 6j)) # 15+18j+20j-24 = -9 + 38j\n",
        "print(3 + 4j * 5 + 6j) #  3 + 20j + 6j = 3 + 26j\n",
        "print('25' * 3) # 252525\n",
        "print(3 * '25') # 252525\n",
        "print('Hyd' * 4) # HydHydHydHyd\n",
        "print([10 , 20 , 15] * 2) # [10, 20, 15, 10, 20, 15]\n",
        "print((25, 10.8, 'Hyd', True) * 3) # (25, 10.8, 'Hyd', True, 25, 10.8, 'Hyd', True, 25, 10.8, 'Hyd', True)\n",
        "#print([10 , 20 , 15] * 3.0)  #  Error  due  to  float  operand  3.0\n",
        "#print({10 , 20 , 15} * 2) # Error : set cannot  be  repeated\n",
        "#print({10 : 20 , 30 : 40} * 2) # Error : dict cannot be  repeated\n",
        "#print([10] * [20]) # Error :  2nd  opernad is  non-int   i.e.  list\n",
        "\n",
        "\n",
        "\n",
        "'''\n",
        "What  is  operand2  of  *  operator  when  operand1  is  a  sequence ?  --->   Integer\n",
        "'''"
      ],
      "metadata": {
        "id": "v9Kw1RvVWG6X"
      },
      "execution_count": null,
      "outputs": []
    },
    {
      "cell_type": "code",
      "source": [
        "#  /  operator  demo  program\n",
        "print(9.0 / 2)    #  4.5\n",
        "print(9 / 2.0)  #  4.5\n",
        "print(9.0 / 2.0)  #   4.5\n",
        "print(9 / 2)  #  4.5\n",
        "print(10.5 / 2)  #   5.25\n",
        "print(10 / 3)  #   3.3333\n",
        "print(10 / 2) #  5.0\n",
        "\n",
        "\n",
        "\n",
        "'''\n",
        "What  does  /  operator  do  ?  --->  Peforms  division   and  returns  float  quotient\n",
        "'''"
      ],
      "metadata": {
        "id": "MWaJ_u8QWofg"
      },
      "execution_count": null,
      "outputs": []
    },
    {
      "cell_type": "code",
      "source": [
        "#  //  operator  demo  program\n",
        "print(9 // 2)   # Previous  integer  of  4.5 = 4\n",
        "print(9.0 // 2)  #  Prev  integer  of  4.5 = 4.0\n",
        "print(9 // 2.0)  #  Prev  integer  of  4.5 = 4.0\n",
        "print(9.0 // 2.0)   # Prev  integer  of  4.5 = 4.0\n",
        "print(10.5 // 2)   #  Prev  integer  of  5.25 = 5.0\n",
        "print(10 // 3)   # Prev  integer  of   3.333 = 3\n",
        "print(10.0 // 3)  # Prev  integer  of  3.33 = 3.0\n",
        "print(8.5 // 3)  #   Prev  integer  of  2.8 = 2.0\n",
        "print(18 // 4)   # Prev  integer  of  4.5  = 4\n",
        "print(-18 // 4)  # Prev  integer  of  -4.5  = -5\n",
        "print(-(18 // 4))    #  -(prev  integer  of  4.5) =  -4\n",
        "\n",
        "\n",
        "'''\n",
        "//  operator\n",
        "--------------\n",
        "1) What  does  //  operator do ?  --->  Same  as  /  operator  but  returns  previous  integer  of  /  result\n",
        "\n",
        "2) What  is  the  result  of  integer // integer ?  --->  Integer  quotient\n",
        "    What  is  the  result  of  integer // float ?  ---> Float  quotient  with  .0\n",
        "    What  is  the  result  of  float // integer ?  ---> Float  quotient  with  .0\n",
        "    What  is  the  result  of  float // float ?  ---> Float  quotient  with  .0\n",
        "\n",
        "3) What  is  the  result  of  integer / integer ?  ---> Float  quotient\n",
        "    What  is  the  result  of  integer / float ?  ---> Float  quotient\n",
        "    What  is  the  result  of  float / integer ?  ---> Float  quotient\n",
        "    What  is  the  result  of  float / float ?  ---> Float  quotient\n",
        "\n",
        "4) When  is  the  result  of  //  operator  integer ?  ---> When  both  the  operands  are  integers\n",
        "    When  is  the  result  of   //  operator  float  with  .0 ?  ---> When  at  least  one  operand  is  float\n",
        "'''"
      ],
      "metadata": {
        "id": "mAFno-hnWYs_"
      },
      "execution_count": null,
      "outputs": []
    },
    {
      "cell_type": "code",
      "source": [
        "# % operator demo program\n",
        "print(9 % 5)   #  4\n",
        "print(9.0 % 5)  #  4.0\n",
        "print(9 % 5.0)  #  4.0\n",
        "print(9.0 % 5.0) #  4.0\n",
        "print(10.5 % 2) #  0.5\n",
        "print(8.9 % 3)  #  2.9\n",
        "\n",
        "\n",
        "\n",
        "'''\n",
        "%   operator\n",
        "---------------\n",
        "1) What  does  %  operator  do ?  --->  Performs  division  and  returns  remainder\n",
        "\n",
        "2) When  is  the  result  of  %  operator  integer ?  --->  When  both  the  operands  are  integers\n",
        "    When  is  the  result  of  %  operator  float ?  ---> When  at  least  one  operand  is  float\n",
        "'''"
      ],
      "metadata": {
        "id": "K3hXKEtbWYS3"
      },
      "execution_count": null,
      "outputs": []
    },
    {
      "cell_type": "code",
      "source": [
        "# Find outputs\n",
        "#print(7 / 0) # Error :  Division  by  zero  is  not  permitted\n",
        "#print(7 // 0) # Error :  Division  by  zero  is  not  permitted\n",
        "#print(7 % 0) # Error :  Division  by  zero  is  not  permitted\n",
        "\n",
        "\n",
        "\n",
        "'''\n",
        "What  does  division  by  zero  do ?  ---> Throws  error\n",
        "'''"
      ],
      "metadata": {
        "id": "1gwMtBNlW8y7"
      },
      "execution_count": null,
      "outputs": []
    },
    {
      "cell_type": "code",
      "source": [
        "# ** operator demo program\n",
        "print(3 ** 4)   #  3 ^ 4 = 81\n",
        "print(10 ** -2) #  10 ^ -2 = 0.01\n",
        "print(4 ** 3 ** 2) #  4 ^ 3 ^ 2 = 4 ^ 9 = 262144\n",
        "print(3 + 4 * 5 - 32 / 2 ** 3) #19.0\n",
        "\n",
        "\n",
        "\n",
        "'''\n",
        "**  operator\n",
        "---------------\n",
        "1) What  is  **  operator  called ?  --->  Exponential  operator\n",
        "\n",
        "2) What  is  the  result  of  a ** b ?  --->  a ^ b\n",
        "\n",
        "3) What  is  the  result  of  a ** b  ** c ?   --->  a ^ b ^ c\n",
        "\n",
        "4) What  is  the  associativity  of  **  operator ?  ---> Right  to  left\n",
        "    What  is  the  associativity  of  remaining  arithmetic  operators ?  ---> Left  to  right\n",
        "\n",
        "5) 3 + 4 * 5 - 32 / 2 ** 3\n",
        "     = 3 + 4 * 5 - 32 / 8\n",
        "     = 3 + 20 - 32 / 8\n",
        "     = 3 + 20 - 4.0\n",
        "     = 23 - 4.0\n",
        "     = 19.0\n",
        "'''"
      ],
      "metadata": {
        "id": "JCrWpUMvW7sm"
      },
      "execution_count": null,
      "outputs": []
    },
    {
      "cell_type": "code",
      "source": [
        "Relational  Operators\n",
        "--------------------------\n",
        "1) What  are  the  six  different  relational  operators ?  --->  > , < , == , >= , <= , !=\n",
        "\n",
        "2) What  does  relational  operators  do ?  ---> Compares  objects   but  not  references\n",
        "     How  to  compare  references ?  --->  With  is  operator\n",
        "\n",
        "3) What  is  the  result  of  relational  operators ?  ---> True  (or)  False\n",
        "\n",
        "4) Which  operators  have  got  higher  priority  in  relational  operators  ?  --->  > , < , >= , <=\n",
        "     Which  operators  have  got  lower  priority ?  ---> == , !=\n",
        "\n",
        "5) Which  operators  have  got  higher  priority  between  arithmetic  and  relational  operators ?  --->  Arithmetic  operators"
      ],
      "metadata": {
        "id": "7l4Z_jwtXZwP"
      },
      "execution_count": null,
      "outputs": []
    },
    {
      "cell_type": "code",
      "source": [
        "#  Relational  operators  demo  program (Home  work)\n",
        "print(9 >= 5)  #   True :  >  is  satisfied\n",
        "print(9 >= 9)   #   True :  =  is  satisfied\n",
        "print(9 >= 12)   #  False :  Both  are  not  satisfied\n",
        "print(6 <= 8)  #  True :  <  is  satisfied\n",
        "print(6 <= 6) #   True :  =  is  satisfied\n",
        "print(6 <= 4)  #  False :  Both  are  not  satisfied\n",
        "print(9 != 7)   #  True\n",
        "print(6 == 8) #  False\n",
        "print(True  >  False) #   1 > 0  is  True\n",
        "print(3 + 4j == 3 + 4j)  #  True :  Same  complex  numbers\n",
        "print(3 + 4j == 5 + 6j)  #  False :  Different  complex  numbers\n",
        "print(3 + 4j != 5 + 6j)  #  True\n",
        "print(10 == 10.0)#   True\n",
        "#print(3 + 4j >  3 + 4j)   #  Error :  complex  numbers  can  not  be  compared  with   >\n",
        "\n",
        "\n",
        "'''\n",
        "1) Can  complex  numbers   be  compared ?   ---> Yes  with  ==  and  !=\n",
        "\n",
        "2) When  can  complex  numbers   be  not  compared  ?  ---> Wiith  > , <  , >=  and  <=\n",
        "'''"
      ],
      "metadata": {
        "id": "9h9ADx87W64C"
      },
      "execution_count": null,
      "outputs": []
    },
    {
      "cell_type": "code",
      "source": [],
      "metadata": {
        "id": "BhGcnfsFXu2l"
      },
      "execution_count": null,
      "outputs": []
    },
    {
      "cell_type": "code",
      "source": [],
      "metadata": {
        "id": "eNVa_VFiXuGo"
      },
      "execution_count": null,
      "outputs": []
    },
    {
      "cell_type": "code",
      "source": [],
      "metadata": {
        "id": "O1UMWKSeXtwJ"
      },
      "execution_count": null,
      "outputs": []
    },
    {
      "cell_type": "code",
      "source": [],
      "metadata": {
        "id": "5IHeOLf2Xsn9"
      },
      "execution_count": null,
      "outputs": []
    },
    {
      "cell_type": "markdown",
      "source": [],
      "metadata": {
        "id": "YZnMsHCVXsSH"
      }
    },
    {
      "cell_type": "code",
      "source": [],
      "metadata": {
        "id": "iPcpi0Y3W6Kk"
      },
      "execution_count": null,
      "outputs": []
    },
    {
      "cell_type": "code",
      "source": [],
      "metadata": {
        "id": "nrCBky6cW5HH"
      },
      "execution_count": null,
      "outputs": []
    },
    {
      "cell_type": "code",
      "source": [],
      "metadata": {
        "id": "n4YBG76KWX52"
      },
      "execution_count": null,
      "outputs": []
    },
    {
      "cell_type": "code",
      "source": [],
      "metadata": {
        "id": "BWreLiCKWXYr"
      },
      "execution_count": null,
      "outputs": []
    },
    {
      "cell_type": "code",
      "source": [],
      "metadata": {
        "id": "C05CO2E7WWwO"
      },
      "execution_count": null,
      "outputs": []
    },
    {
      "cell_type": "code",
      "source": [],
      "metadata": {
        "id": "rFFilLDLWVJQ"
      },
      "execution_count": null,
      "outputs": []
    },
    {
      "cell_type": "markdown",
      "source": [
        "print(\"testing github\")"
      ],
      "metadata": {
        "id": "d29po_yAQ0c0"
      }
    }
  ]
}