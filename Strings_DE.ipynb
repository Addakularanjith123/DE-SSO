{
  "nbformat": 4,
  "nbformat_minor": 0,
  "metadata": {
    "colab": {
      "provenance": [],
      "include_colab_link": true
    },
    "kernelspec": {
      "name": "python3",
      "display_name": "Python 3"
    },
    "language_info": {
      "name": "python"
    }
  },
  "cells": [
    {
      "cell_type": "markdown",
      "metadata": {
        "id": "view-in-github",
        "colab_type": "text"
      },
      "source": [
        "<a href=\"https://colab.research.google.com/github/Addakularanjith123/DE-SSO/blob/main/Strings_DE.ipynb\" target=\"_parent\"><img src=\"https://colab.research.google.com/assets/colab-badge.svg\" alt=\"Open In Colab\"/></a>"
      ]
    },
    {
      "cell_type": "code",
      "source": [
        "(07-08-2025)\n",
        "\n",
        "\n",
        "'''\n",
        "Write  a  program  to  determine  largest  command  line  input\n",
        "\n",
        "1) py   prog2.py   10     20     30.8   7  40    35.6\n",
        "    What  is  the  largest  command  line  input ?  ---> 40\n",
        "    What  is  argv ?  --->  ['prog2.py' , '10' , '20' , '30.8' , '7' , '40' , '35.6']\n",
        "    What  is  list  'a' ?  --->  [10 , 20 , 30.8 , 7 , 40 , 35.6]\n",
        "    How  to  determine  largest  element  of  list  'a' ?   ---> max(a)  i.e.  40\n",
        "    What  is  the  result  of  max(argv[1:]) ?  ---> '7'\n",
        "    What  is  the  issue  with  max(argv[1:])) ?  --->\n",
        "\t\t\t\tLargest  string  is  obtained  but  not  largest  number\n",
        "\n",
        "2) py  prog2.py\n",
        "    What  is  the  output ?  ---> Pls  send  inputs\n",
        "\n",
        "3) py   prog2.py   'Rama'   'Sita'   'Rajesh'   'Manohar'   'Vamsi'   'Amar'\n",
        "    What  is  the  largest  command  line  input ?  --->  'Vamsi'\n",
        "\n",
        "4) py   prog2.py   25   'Ten'\n",
        "    What  is  the  output ?  --->  Inputs  can  not  be  number  and  string\n",
        "\n",
        "5) Hint1: Use  for  loop\n",
        "\n",
        "6) Hint2: Use  try  and  except\n",
        "\n",
        "'''\n",
        "\n",
        "from sys import argv\n",
        "\n",
        "if len(argv) == 1:\n",
        "    print('Please send inputs')\n",
        "else:\n",
        "    a = [ ]\n",
        "    num = str = False\n",
        "\n",
        "          for i in argv[1:]:\n",
        "                   try:\n",
        "           \t      num = a.append(float(i))\n",
        "            \t      num = True\n",
        "     \texcept:\n",
        "                          a.append(i)\n",
        "                          str = True\n",
        "\n",
        "    if num and str:\n",
        "        print('Inputs can not be number and string')\n",
        "    else:\n",
        "        print('List:', a)\n",
        "        print('Largest:', max(a))\n",
        "\n",
        "#output:\n",
        "\n",
        "List: [10.0, 20.0, 30.8, 7.0, 40.0, 35.6]\n",
        "Largest: 40.0\n",
        "\n",
        "List: ['Rama', 'Sita', 'Rajesh', 'Manohar', 'Vamshi', 'Amar']\n",
        "Largest: Vamshi\n",
        "\n",
        "\n",
        "\n",
        "\n",
        "\n",
        "'''\n",
        "Write  a  program  to  determine  command  line  input  is  even  number  or  odd  number\n",
        "\n",
        "1) py  prog3.py  26\n",
        "    What  is  the  output ?  ---> Even  number\n",
        "\n",
        "2) py  prog3.py  45\n",
        "    What  is  the  output ?  ---> Odd  number\n",
        "\n",
        "3) py  prog3.py\n",
        "    What  is  the  output  ?  ---> Pls  send  an  integer  input\n",
        "\n",
        "4) py  prog3.py  10.8\n",
        "    What  is  the  output ?  --->  Pls  send   an  integer  input\n",
        "\n",
        "5) py  prog3.py  Ten\n",
        "    What  is  the  output  ?  --->  Pls  send   an  integer  input\n",
        " '''\n",
        "\n",
        "from sys import argv\n",
        "print(argv)\n",
        "\n",
        "try:\n",
        "        if int(argv[1])%2==0:\n",
        "                  print('Even Number')\n",
        "        else:\n",
        "                  print('Odd Number')\n",
        "except:\n",
        "         print('Please Send an integer input')\n",
        "\n",
        "#output:\n",
        "\n",
        "['dict.py', '26']\n",
        "Even Number\n",
        "\n",
        "['dict.py', '45']\n",
        "Odd Number\n",
        "\n",
        "\n",
        "\n",
        "\n",
        "\n",
        "'''\n",
        "Write  a  program  to  determine  average  of  command  line  inputs\n",
        "\n",
        "1) py   prog4.py   10.8   25   True   14.6   19   False   7.4\n",
        "    What  is  argv ?  --->['prog4.py' , '10.8' , '25' , 'True' , '14.6' , '19' , 'False' , '7.4']\n",
        "    What  is  list  'a'  ?  ---> \t[10.8 , 25 , True , 14.6 , 19 , False , 7.4]\n",
        "\tHow  to  determine  sum  of  list  elements ?  ---> sum(a)\n",
        "    \tHow  to  determine  number  of  list  elements ?  ---> len(a)\n",
        "\n",
        "2) py   prog4.py\n",
        "    What  is  the  output ?  ---> Pls  send  number  inputs\n",
        "\n",
        "3) py   prog4.py  25   'Ten'\n",
        "    What  is  the  output  ?  --->  Pls  send  number  inputs\n",
        "'''\n",
        "\n",
        "\n",
        "from sys import argv\n",
        "print(argv)\n",
        "\n",
        "if len(argv) == 1:\n",
        "\tprint('Pls send number inputs')\n",
        "else:\n",
        "    \ttry:\n",
        "        \t   nums = []\n",
        "        \t       for x in argv[1:]:\n",
        "            \t\tnums.append(eval(x))\n",
        "         \t   print(f'Average: {sum(nums) // len(nums)}')\n",
        "\texcept:\n",
        "        \t        print('Pls send number inputs')\n",
        "\n",
        "#output:\n",
        "\n",
        "['dict.py', '10.8', '25', 'True', '14.6', '19', 'False', '7.4']\n",
        "Average: 11.0\n",
        "\n",
        "\n",
        "\n",
        "\n",
        "'''\n",
        "Write  a  program  to  sort  command  line  inputs  in  ascending  order  and  descending  order\n",
        "\n",
        "1) py  prog5.py  10   20    15.8   5   12.6\n",
        "    What  is  argv ?  ---> ['prog5.py' , '10' , '20' , '15.8' , '5' , '12.6']\n",
        "    What  is  list  'a' ?  --->  [10 , 20 , 15.8 , 5 , 12.6]\n",
        "    How  to  sort  list  'a' ?  --->  sorted(a)\n",
        "    How  to  sort  list  'a'  in  descending  order  ?  ---> sorted(a , reverse = True)\n",
        "\n",
        "2) py  prog5.py   25   'Ten'\n",
        "    What  is  the  output ?  --->  Pls  don't  send  number  and  string  inputs  together\n",
        "'''\n",
        "\n",
        "from sys import argv\n",
        "print(argv)\n",
        "\n",
        "try:\n",
        "   a = []\n",
        "        for i in argv[1:]:\n",
        "                a.append(eval(i))\n",
        "        print('Ascending order sort:', sorted(a))\n",
        "        print('Descending order sort:', sorted(a, reverse=True))\n",
        "except:\n",
        "        print(\"Please don't send number and string inputs together\")\n",
        "\n",
        "\n",
        "#output:\n",
        "\n",
        "['dict.py', '10.8', '25', 'True', '14.6', '19', 'False', '7.4']\n",
        "Ascending order sort: [False, True, 7.4, 10.8, 14.6, 19, 25]\n",
        "Descending order sort: [25, 19, 14.6, 10.8, 7.4, True, False]\n",
        "\n",
        "\n",
        "\n",
        "\n",
        "# Find outputs  (Home  work)\n",
        "\n",
        "print( 'green'   in   'Hyd  is  green  city')\t#True\n",
        "print('day'   in   'Sankar  dayal  sarma')\t#True\n",
        "print('Green'   in   'Hyd  is  green  city')\t#False\n",
        "print('d  is'   in   'Hyd  is  green  city')\t#True\n",
        "print('dis'   in   'Hyd  is  green  city')\t#False\n",
        "print('iniv'   in   'Srinivas')\t\t#True\n",
        "print('iniv'   not   in   'Srinivas')\t\t#False\n",
        "\n",
        "\n",
        "\n",
        "\n",
        "\n",
        "'''  (Home  work)\n",
        "Slice  demo  program\n",
        "0      1      2       3        4       5       6       7\n",
        "R      a      m       a                R       a       o\n",
        "-8    -7     -6      -5       -4      -3      -2      -1\n",
        "'''\n",
        "a = 'Rama Rao'\n",
        "print(a [ : 7 : 2])\t#  a[ 0 :  7 : 2]   --->  string  from  indexes   0  to   6  in  steps  of  2  \ti.e.  Rm<space>a\n",
        "print(a [ : 7])\t#  a[ 0 :  7 : 1]   --->  string  from  indexes   0  to   6  in  steps  of  1  \ti.e.  Rama<space>Ra\n",
        "print(a [2 : 4])\t#  a[ 2 :  4 : 1]   --->  string  from  indexes   2  to   3  in  steps  of  1  \ti.e.  ma\n",
        "print(a [2 : ])\t#  a[ 2 :  8 : 1]   --->  string  from  indexes   2  to   7  in  steps  of  1  \ti.e.  ma<space>Rao\n",
        "print(a [ : 4 ])\t#  a[ 0 :  4 : 1]   --->  string  from  indexes   0  to   3  in  steps  of  1  \ti.e.  Rama\n",
        "print(a [ : : 2])\t#  a[ 0 :  8 : 2]   --->  string  from  indexes   0  to   7  in  steps  of  2  \ti.e.  Rm<space>a\n",
        "print(a [-6 : -1])\t#  a[-6 : -1 : -1] --->  string  from  indexes  -6  to  -2  in  steps  of -1  i.e.  ma<space>Ra\n",
        "print(a [-6 : ])\t#  a[-6 :  8 : 1]   --->  string  from  indexes  -6  to   7  in  steps  of  1  \ti.e.  ma<space>Rao\n",
        "print(a [: -4 : -1])\t#  a[-1 : -4 : -1] --->  string  from  indexes  -1  to  -3  in  steps  of -1  i.e.  oaR\n",
        "print(a [-3 : -1])\t#  a[-3 : -1 :  1] --->  string  from  indexes  -3  to  -2  in  steps  of -1  i.e.  Ra\n",
        "print(a [-3 : ])\t#  a[-3 :  8 : 1]   --->  string  from  indexes  -3  to   7  in  steps  of  1  \ti.e.  Rao\n",
        "print(a [ : : ])\t#  a[ 0 :  8 : 1]   --->  string  from  indexes   0  to   7  in  steps  of  1  \ti.e.  Rama<space>Rao\n",
        "print(a [ : ])\t#  a[ 0 :  8 : 1]   --->  string  from  indexes   0  to   7  in  steps  of  1  \ti.e.  Rama<space>Rao\n",
        "print(a [ : : -1])\t#  a[-1 : -9 : -1] --->  string  from  indexes  -1  to  -8  in  steps  of -1  i.e.  oaR<space>amaR\n",
        "print(a [ : : -2])\t#  a[-1 : -9 : -2] --->  string  from  indexes  -1  to  -8  in  steps  of -2  i.e.  oRaa\n",
        "print(a [ -2 : : -2])\t#  a[-2 : -9 : -2] --->  string  from  indexes  -2  to  -8  in  steps  of -2  i.e.  a<space>mR\n",
        "print(a [2 : 8])\t#  a[ 2 :  8 : 1]   --->  string  from  indexes   2  to   7  in  steps  of  1  \ti.e.  ma<space>Rao\n",
        "print(a [2 : 8 : -1])\t#  a[ 2 :  8 :-1]   --->  string  from  indexes   2  to   7  in  steps  of -1  \ti.e.  (empty)  as step is negative\n",
        "print(a [ : -6 : -1])\t#  a[-1 : -6 :-1]  --->  string  from  indexes  -1  to  -5  in  steps  of -1 \ti.e.  oaR<space>a\n",
        "print(a [2 : -3])\t#  a[ 2 : -3 : 1]   --->  string  from  indexes   2  to  -4  in  steps  of  1  \ti.e.  ma\n",
        "print(a [1 : 6 : 2])\t#  a[ 1 :  6 : 1]   --->  string  from  indexes   1  to   5  in  steps  of  2  \ti.e.  aaR\n",
        "print(a [ : -5 : -5])\t#  a[-1 : -5 : -5] --->  string  from  indexes  -1  to  -4  in  steps  of -5 \ti.e.  o\n",
        "print(a [2 : -5])\t#  a[ 2 : -5 : 1]   --->  string  from  indexes   2  to  -6  in  steps  of  1  \ti.e.  m\n",
        "print(a [2 : -5 : 2])\t#  a[ 2 : -5 : 2]   --->  string  from  indexes   2  to  -6  in  steps  of  2  \ti.e.  m\n",
        "print(a [ : 0 : -1])\t#  a[-1 :  0 : -1] --->  string  from  indexes  -1  to   1  in  steps  of -1  \ti.e.  oaR<space>ama\n",
        "print(a [-5 : 0 : -2])#  a[-5 :  0 : -2] --->  string  from  indexes  -5  to   1  in  steps  of -2  i.e.  aa\n",
        "\n",
        "\n",
        "\n",
        "\n",
        "\n",
        "\n",
        "'''\n",
        "Write  a  program  to  concatenate  two  strings  separated  by  space  but  swap  first  two\n",
        "characters  of  the  two  strings.\n",
        "Assume  that  each  string  has  a   minimum  of  two  characters\n",
        "\n",
        "Let  inputs  be  Java  and  Python\n",
        "What  are  the  outputs ?  --->  Pyva<space>Jathon\n",
        "\n",
        "Hint:  Use  slice\n",
        "'''\n",
        "\n",
        "s1 = input('Enter first string: ')\n",
        "s2 = input('Enter second string: ')\n",
        "\n",
        "if len(s1) < 2 or len(s2) < 2:\n",
        "\tprint('Input should be a min of 2-char string')\n",
        "else:\n",
        "    \tout = s2[:2] + s1[2:] + \" \" + s1[:2] + s2[2:]\n",
        "   \tprint(\"Result:\", out)\n",
        "\n",
        "#output:\n",
        "\n",
        "Enter first string: Java\n",
        "Enter second string: Python\n",
        "Result  :   Pyva Jathon\n",
        "\n",
        "Enter first string: A\n",
        "Enter second string: HYD\n",
        "Input  should  be  a  min  of  2-char  string\n",
        "\n",
        "\n",
        "\n",
        "\n",
        "\n",
        "\n",
        "'''\n",
        "Write  a  program  to  print  first  two  and  the  last  two  characters  of  the  string\n",
        "Print  an  empty  string  if  string  has  less  than  four  characters\n",
        "\n",
        "1) Let  input  be  PYTHON\n",
        "    What  is  the  output ?  ---> PYON\n",
        "\n",
        "2) Let  input  be  Hyd\n",
        "    What  is  the  output ?  --->  Nothing\n",
        "'''\n",
        "\n",
        "a = input('Enter any string: ')\n",
        "\n",
        "if len(a) < 4:\n",
        "\tprint(\"\")\n",
        "else:\n",
        "   \tprint(a[:2] + a[-2:])\n",
        "\n",
        "#output:\n",
        "\n",
        "Enter any string: PYTHON\n",
        "PYON\n",
        "\n",
        "\n",
        "\n",
        "'''\n",
        "Write  a  program  to  print  characters  of  the  string  in  forward  and  reverse\n",
        "directions  without  slice\n",
        "\n",
        "       \t     \t\t 0      1     2      3     4\n",
        "Let  input  be\t\t  V     A     M     S     I\n",
        "\t\t\t -5    -4    -3    -2    -1\n",
        "\n",
        "What  are  the  outputs ?  --->  Character  at  index  0  :  V\n",
        "\t\t\t\t\t\t\t\t                 Character  at  index  1   :  A\n",
        "\t\t\t\t\t\t\t\t                 Character  at  index  2   :  M\n",
        "\t\t\t\t\t\t\t              \t                 Character  at  index  3   :  S\n",
        "\t\t\t\t\t\t\t\t                 Character  at  index  4   :  I\n",
        "\t\t\t\t\t\t\t\t                 Character  at  index  -1  :  I\n",
        "\t\t\t\t\t\t\t\t                 Character  at  index  -2  :  S\n",
        "\t\t\t\t\t\t\t\t                 Character  at  index  -3  :  M\n",
        "\t\t\t\t\t\t\t\t                 Character  at  index  -4  :  A\n",
        "\t\t\t\t\t\t\t\t                 Character  at  index  -5  :  V\n",
        "\n",
        "Hint:  Use  two  for  loops\n",
        "'''\n",
        "\n",
        "a = input(\"Enter any string: \")\n",
        "\n",
        "print(\"Forward direction:\")\n",
        "for i in range(len(s)):\n",
        "\tprint(f\"Character at index {i} : {a[i]}\")\n",
        "\n",
        "print(\"\\nReverse direction:\")\n",
        "for i in range(-1, -len(a)-1, -1):\n",
        "    \tprint(f\"Character at index {i} : {a[i]}\")\n",
        "\n",
        "#output:\n",
        "\n",
        "Enter any string: VAMSHI\n",
        "Forward direction:\n",
        "Character at index 0 : V\n",
        "Character at index 1 : A\n",
        "Character at index 2 : M\n",
        "Character at index 3 : S\n",
        "Character at index 4 : H\n",
        "Character at index 5 : I\n",
        "\n",
        "Reverse direction:\n",
        "Character at index -1 : I\n",
        "Character at index -2 : H\n",
        "Character at index -3 : S\n",
        "Character at index -4 : M\n",
        "Character at index -5 : A\n",
        "Character at index -6 : V\n",
        "\n",
        "\n",
        "\n",
        "\n",
        "\n",
        "'''\n",
        "Write  a  program  to  print  characters  at  even  and  odd  indexes  without  slice\n",
        "\n",
        "\t\t0      1      2      3     4     5     6      7\n",
        "Let  input  be           R      a     m      a             R     a      o\n",
        "\n",
        "odd =  '' + 'a' + 'a' + 'R' + 'o' = 'aaRo'\n",
        "even =   '' + 'R' + 'm' + ' '  + 'a' = 'Rm a'\n",
        "\n",
        "1) What  action  to  be  made  when  index  is  even ?  --->\n",
        "\t\t\t\tConcatenate  the  character  to  even  object\n",
        "\n",
        "2) What  action  to  be  made  when  index  is  odd ?  --->\n",
        "\t\t\t\tConcatenate  the  characeter  to  odd  object\n",
        "\n",
        "3) Hint: Use  single  for  loop\n",
        "'''\n",
        "\n",
        "a = input(\"Enter any string: \")\n",
        "\n",
        "even = \"\"\n",
        "odd = \"\"\n",
        "\n",
        "for i in range(len(a)):\n",
        " \tif i % 2 == 0:\n",
        "        \t\teven += a[i]\n",
        "    \telse:\n",
        "        \t\todd += a[i]\n",
        "\n",
        "print(\"String at even indexes:\", even)\n",
        "print(\"String at odd indexes:\", odd)\n",
        "\n",
        "#output:\n",
        "\n",
        "Enter  any  string  :  RAMA RAO\n",
        "String  at  even  indexes  : RM A\n",
        "String  at  odd  indexes  : AARO\n",
        "\n",
        "\n",
        "\n",
        "\n",
        "'''\n",
        "Let  input  be    A   4   B   3   C   2   $   5\n",
        "                                 0   1    2   3   4   5   6   7\n",
        "\n",
        "What  is  the  output ?  --->  AAAABBBCC$$$$$\n",
        "\n",
        "1) What  is  the  result  of  'A' * 4  ?  ---> 'AAAA'\n",
        "\n",
        "2)  i        a[i]       a[i + 1]          out\n",
        "   -------------------------------------------------------\n",
        "                                               ''\n",
        "     0        'A'          '4'            '' + 'A' * 4 = 'AAAA'\n",
        "\n",
        "\t 2        'B'          '3'            'AAAA' + 'B' * 3 = 'AAAA' + 'BBB' = 'AAAABBB'\n",
        "\n",
        "\t 4        'C'          '2'            'AAAABBB' + 'C' * 2 = 'AAAABBB' + 'CC' = 'AAAABBBCC'\n",
        "\n",
        "\t 6        '$'          '5'            'AAAABBBCC' + '$' * 5 = 'AAAABBBCC' + '$$$$$' = 'AAAABBBCC$$$$$'\n",
        "   -------------------------------------------------------\n",
        "What  is  the  difference  between  a[i]   and  a[i + 1] ?  --->\n",
        "\ta[i]  is  ith  char  of  string  and  a[i + 1]  is  (i + 1)th  char  of  string\n",
        "'''\n",
        "\n",
        "a = input(\"Enter any string with alternate character and digit: \")\n",
        "\n",
        "if len(a) % 2 != 0:\n",
        "\tprint(\"String should have alternate character 😘 and digit\")\n",
        "\n",
        "else:\n",
        "    \tout = \"\"\n",
        "    \tfor i in range(0, len(a), 2):\n",
        "        \t\tout += a[i] * int(a[i+1])\n",
        "   \t print(\"Result:\", out)\n",
        "\n",
        "#output:\n",
        "\n",
        "Enter  any  string  with  alternate  character  and  digit :  A4B3C2$5\n",
        "Result :   AAAABBBCC$$$$$\n",
        "\n",
        "Enter  any  string  with  alternate  character  and  digit :  HYD\n",
        "String   should  have  alternate  character  and  digit\n",
        "\n",
        "\n",
        "\n",
        "\n",
        "\n",
        "'''\n",
        "Write  a  program  to  merge  two  strings  to  form  a  new  string\n",
        "\n",
        "1) Let  inputs  be    HYD   and   VAMSI\n",
        "   What  is  the  output  ?  --->  HVYADMSI\n",
        "\n",
        "             0     1    2\n",
        "a  --->   H     Y    D\n",
        "\n",
        "              0    1     2     3    4\n",
        "b  --->    V    A    M    S    I\n",
        "\n",
        "\n",
        "i       a[i]        b[i]          c\n",
        "--------------------------------------------------------\n",
        "                                    ''\n",
        "0      'H'        'V'          '' + 'H' + 'V' = 'HV'\n",
        "\n",
        "1      'Y'        'A'          'HV' + 'Y' + 'A' = 'HVYA'\n",
        "\n",
        "2      'D'       'M'          'HVYA' + 'D' + 'M' = 'HVYADM'\n",
        "--------------------------------------------------------\n",
        "Concatenate  remainging  characters   of  the  other  string  to  object  'c'\n",
        "What  is  the  final  result ?  --->  'HVYADMSI'\n",
        "\n",
        "Hint:  Use  single  while  loop  and  slice\n",
        "'''\n",
        "\n",
        "a = input(\"Enter first string: \")\n",
        "b = input(\"Enter second string: \")\n",
        "\n",
        "i = 0\n",
        "c = \"\"\n",
        "while i < len(a) and i < len(b):\n",
        "    c += a[i] + b[i]\n",
        "    i += 1\n",
        "\n",
        "c += a[i:] + b[i:]\n",
        "print(\"Result:\", c)\n",
        "\n",
        "\n",
        "#output:\n",
        "\n",
        "Enter  first  string  :  HYD\n",
        "Enter  second  string  :  VAMSI\n",
        "Result  :   HVYADMSI\n",
        "\n",
        "Enter  first  string  :  SAIRAM\n",
        "Enter  second  string  :  HYD\n",
        "Result  :   SHAYIDRAM\n",
        "\n",
        "\n",
        "\n",
        "\n",
        "'''\n",
        "Write  a  program  to  remove  duplicate  characters  of  the  string  without  using  set\n",
        "\n",
        "1) Let  input  be   RAMA  RAO\n",
        "   What  is  the  output ? ---> RAM<space>O\n",
        "\n",
        "2) out = '' + 'R' = 'R' + 'A' = 'RA' + 'M' = 'RAM' + ' ' = 'RAM ' + 'O' = 'RAM O'\n",
        "\n",
        "3) What  action  to  be  made  if  the  character  is  not  in  out  object ?  --->\n",
        "\t\tConcatenate  the  character  to  out  object\n",
        "\n",
        "4) What  action  to  be  made  if  the  character  is  already  in  out  object ?  --->\n",
        "\t\tIgnore  the  character\n",
        "\n",
        "5) Hint:  Use  not  in   operator\n",
        "'''\n",
        "\n",
        "s = input(\"Enter any string: \")\n",
        "out = \"\"\n",
        "\n",
        "for ch in s:\n",
        "    if ch not in out:\n",
        "        out += ch\n",
        "\n",
        "print(\"String without duplicates:\", out)\n",
        "\n",
        "#output:\n",
        "\n",
        "Enter  any  string  :  MISSISIPI\n",
        "String  without  duplicates  :    MISP\n",
        "\n",
        "\n",
        "\n",
        "\n",
        "\n",
        "# len()  function  demo  program  (Home  work)\n",
        "\n",
        "print(len('Hyd'))\t# 3\n",
        "print(len('Rama Rao'))\t# 8\n",
        "print(len('9247'))\t# 4\n",
        "print(len('+-$'))\t# 3\n",
        "print(len(''))\t\t# 0\n",
        "print(len(' '))\t\t# 1\n",
        "print(len('A2#'))\t# 3\n",
        "print(len(3456))\t\t# error as we can't use len for int\n",
        "print('Sec'. len('12'))\t# error as syntax for str len is not valid\n",
        "\n",
        "\n",
        "\n",
        "\n",
        "# chr()  function  demo  program\n",
        "\n",
        "print(chr(65))\t#   Converts  unicode  value  65  to  'A'\n",
        "print(chr(90))\t#   Converts  unicode  value  90  to  'Z'\n",
        "print(chr(97))\t#   Converts  unicode  value  97  to  'a'\n",
        "print(chr(122))\t#   Converts  unicode  value  122 to  'z'\n",
        "print(chr(48))\t#   Converts  unicode  value  48  to  '0'\n",
        "print(chr(57))\t#   Converts  unicode  value  57  to  '9'\n",
        "print(chr(36))\t#   Converts  unicode  value  36  to  '$'\n",
        "print(chr(32))\t#   Converts  unicode  value  32  to  'space'\n",
        "\n",
        "\n",
        "\n",
        "\n",
        "# ord()  function  demo  program\n",
        "\n",
        "print(ord('A'))\t#  Converts  'A'  to  unicode  value  65\n",
        "print(ord('Z'))\t#  Converts  'Z'  to  unicode  value  90\n",
        "print(ord('a'))\t#  Converts  'a'  to  unicode  value  97\n",
        "print(ord('z'))\t#  Converts  'z'  to  unicode  value  122\n",
        "print(ord('0'))\t#  Converts  '0'  to  unicode  value  48\n",
        "print(ord('9'))\t#  Converts  '9'  to  unicode  value  57\n",
        "print(ord('$'))\t#  Converts  '$'  to  unicode  value  36\n",
        "print(ord(' '))\t#  Converts  ' '  to  unicode  value  32\n",
        "\n",
        "\n",
        "\n",
        "'''\n",
        "Let  input  be  A4M3Z5D2\n",
        "\n",
        "What  is  the  output ?  --->  AEMPZ_DF\n",
        "\n",
        " 0     1     2     3    4    5    6     7\n",
        " A     4     M     3    Z    5    D     2\n",
        "\n",
        "\n",
        "   i       a[i]      a[i + 1]         out\n",
        "--------------------------------------------------------------------------------\n",
        "                                          ''\n",
        "  0       'A'           '4'          '' + 'A' + chr(65 + 4) = '' + 'A' + 'E' = 'AE'\n",
        "\n",
        "  2       'M'           '3'          'AE' + 'M' + chr(77 + 3) = 'AE' + 'M' + 'P' = 'AEMP'\n",
        "\n",
        "  4       'Z'           '5'          'AEMP' + 'Z' + chr(90 + 5) = 'AEMP' + 'Z' + '' = 'AEMPZ'\n",
        "\n",
        "  6       'D'           '2'          'AEMPZ_' + 'D' + chr(68 + 2) = 'AEMPZ_' + 'D' + 'F' = 'AEMPZ_DF'\n",
        "-----------------------------------------------------------------------------------\n",
        "Hint: Use  chr()  and  ord()  functions\n",
        "\n",
        "'''\n",
        "\n",
        "s = input(\"Enter any string with alternate character and digit: \")\n",
        "\n",
        "if len(s) % 2 != 0:\n",
        "    print(\"Pls enter string with alternate char and digit\")\n",
        "else:\n",
        "    out = \"\"\n",
        "    for i in range(0, len(s), 2):\n",
        "        out += s[i] + chr(ord(s[i]) + int(s[i+1]))\n",
        "    print(\"Result:\", out)\n",
        "\n",
        "\n",
        "#output:\n",
        "\n",
        "Enter  any  string  with  alternate  character  and  digit  :  A4M3Z5D2\n",
        "Result  :   AEMPZ_DF\n",
        "\n",
        "Enter  any  string  with  alternate  character  and  digit  :  HYD\n",
        "Pls  enter  string  with  alternate  char and digit"
      ],
      "metadata": {
        "id": "a143PdVdBP7F"
      },
      "execution_count": null,
      "outputs": []
    },
    {
      "cell_type": "code",
      "source": [],
      "metadata": {
        "id": "yMC9eAC_Vvt6"
      },
      "execution_count": null,
      "outputs": []
    },
    {
      "cell_type": "code",
      "source": [],
      "metadata": {
        "id": "XtHS_kyUVvqj"
      },
      "execution_count": null,
      "outputs": []
    },
    {
      "cell_type": "code",
      "source": [
        "#find demo\n",
        "a = 'Hyd is green city. Hyd is hitec city. Hyd is his cityi'\n",
        "index =a.find('is')\n",
        "while  index != -1:\n",
        "  print(index)\n",
        "  index = a . find('is' , index +1)\n",
        "print('End')"
      ],
      "metadata": {
        "colab": {
          "base_uri": "https://localhost:8080/"
        },
        "id": "wZl84a-zJjI0",
        "outputId": "f634ef7b-ecfd-4c21-f322-2e9a8e772801"
      },
      "execution_count": null,
      "outputs": [
        {
          "output_type": "stream",
          "name": "stdout",
          "text": [
            "4\n",
            "23\n",
            "42\n",
            "46\n",
            "End\n"
          ]
        }
      ]
    },
    {
      "cell_type": "code",
      "source": [
        "'''\n",
        "Modify  following  program  with  walrus  operator\n",
        "\n",
        "Hint:  Combine  lines  7 , 8  and  10  to  a  single  line  with  walrus  operator\n",
        "'''\n",
        "a = 'Hyd is green city. Hyd is hitec city. Hyd is his cityi'\n",
        "index = -1\n",
        "while (index := a . find('is' , index +1)) != -1:\n",
        "  print(index)\n",
        "print('End')"
      ],
      "metadata": {
        "colab": {
          "base_uri": "https://localhost:8080/"
        },
        "id": "9iUWkRmRIvV9",
        "outputId": "b7bfe59c-60a6-4fdc-db65-479627a74087"
      },
      "execution_count": null,
      "outputs": [
        {
          "output_type": "stream",
          "name": "stdout",
          "text": [
            "4\n",
            "23\n",
            "42\n",
            "46\n",
            "End\n"
          ]
        }
      ]
    },
    {
      "cell_type": "code",
      "source": [
        "'''  (Home  work)\n",
        "index()  method  demo  program\n",
        "\n",
        "Modify  the  following  program  with  index()  method\n",
        "'''\n",
        "a = 'Hyd is green city. Hyd is hitec city. Hyd is his cityi'\n",
        "index = a . index('is')\n",
        "while  index != -1:\n",
        "\tprint(index)\n",
        "\tindex = a . index('is' , index + 1)\n",
        "print('End')\n",
        "\n",
        "\n",
        "\n",
        "'''\n",
        "index()  method\n",
        "-------------------\n",
        "It  is  same  as  find()  method  except  that  it  throws   error (but  not  -1) when  string  is  not  found\n",
        "\n",
        "Syntax :  Same  as   find()  method\n",
        "'''"
      ],
      "metadata": {
        "colab": {
          "base_uri": "https://localhost:8080/",
          "height": 292
        },
        "id": "ENf8XKwLIvSj",
        "outputId": "5f549864-e2c2-4c55-e3fc-8c0e10a2046a"
      },
      "execution_count": null,
      "outputs": [
        {
          "output_type": "stream",
          "name": "stdout",
          "text": [
            "4\n",
            "23\n",
            "42\n",
            "46\n"
          ]
        },
        {
          "output_type": "error",
          "ename": "ValueError",
          "evalue": "substring not found",
          "traceback": [
            "\u001b[0;31m---------------------------------------------------------------------------\u001b[0m",
            "\u001b[0;31mValueError\u001b[0m                                Traceback (most recent call last)",
            "\u001b[0;32m/tmp/ipython-input-2355061596.py\u001b[0m in \u001b[0;36m<cell line: 0>\u001b[0;34m()\u001b[0m\n\u001b[1;32m      8\u001b[0m \u001b[0;32mwhile\u001b[0m  \u001b[0mindex\u001b[0m \u001b[0;34m!=\u001b[0m \u001b[0;34m-\u001b[0m\u001b[0;36m1\u001b[0m\u001b[0;34m:\u001b[0m\u001b[0;34m\u001b[0m\u001b[0;34m\u001b[0m\u001b[0m\n\u001b[1;32m      9\u001b[0m         \u001b[0mprint\u001b[0m\u001b[0;34m(\u001b[0m\u001b[0mindex\u001b[0m\u001b[0;34m)\u001b[0m\u001b[0;34m\u001b[0m\u001b[0;34m\u001b[0m\u001b[0m\n\u001b[0;32m---> 10\u001b[0;31m         \u001b[0mindex\u001b[0m \u001b[0;34m=\u001b[0m \u001b[0ma\u001b[0m \u001b[0;34m.\u001b[0m \u001b[0mindex\u001b[0m\u001b[0;34m(\u001b[0m\u001b[0;34m'is'\u001b[0m \u001b[0;34m,\u001b[0m \u001b[0mindex\u001b[0m \u001b[0;34m+\u001b[0m \u001b[0;36m1\u001b[0m\u001b[0;34m)\u001b[0m\u001b[0;34m\u001b[0m\u001b[0;34m\u001b[0m\u001b[0m\n\u001b[0m\u001b[1;32m     11\u001b[0m \u001b[0mprint\u001b[0m\u001b[0;34m(\u001b[0m\u001b[0;34m'End'\u001b[0m\u001b[0;34m)\u001b[0m\u001b[0;34m\u001b[0m\u001b[0;34m\u001b[0m\u001b[0m\n\u001b[1;32m     12\u001b[0m \u001b[0;34m\u001b[0m\u001b[0m\n",
            "\u001b[0;31mValueError\u001b[0m: substring not found"
          ]
        }
      ]
    },
    {
      "cell_type": "code",
      "source": [
        "#find()\n",
        "a = 'Hyd is green city. Hyd is hitec city. Hyd is his cityi'\n",
        "index =a.find('ranjith')\n",
        "while index!=-1:\n",
        "  print(index)\n",
        "  index=a.find('ranjith' , index +1)\n",
        "print('End') # it does not throws error because it is find method"
      ],
      "metadata": {
        "colab": {
          "base_uri": "https://localhost:8080/"
        },
        "id": "nqDnOrykhi-m",
        "outputId": "2ced7723-e06f-4758-e09a-8b0213720196"
      },
      "execution_count": null,
      "outputs": [
        {
          "output_type": "stream",
          "name": "stdout",
          "text": [
            "End\n"
          ]
        }
      ]
    },
    {
      "cell_type": "code",
      "source": [
        "#index()\n",
        "try:\n",
        "  a = 'Hyd is green city. Hyd is hitec city. Hyd is his cityi'\n",
        "  index =a.index('is')\n",
        "  while True:\n",
        "      print(index)\n",
        "      index=a.index('is' , index +1)\n",
        "except:\n",
        "  print('End')"
      ],
      "metadata": {
        "colab": {
          "base_uri": "https://localhost:8080/"
        },
        "id": "Y0phMqSVKsa0",
        "outputId": "2cb8fe7d-d737-4497-db82-b076ffeba9af"
      },
      "execution_count": null,
      "outputs": [
        {
          "output_type": "stream",
          "name": "stdout",
          "text": [
            "End\n"
          ]
        }
      ]
    },
    {
      "cell_type": "code",
      "source": [
        "#index() another way\n",
        "a = 'Hyd is green city. Hyd is hitec city. Hyd is his cityi'\n",
        "index =a.index('is')\n",
        "try:\n",
        "  while index!=-1:\n",
        "    print(index)\n",
        "    index=a.index('is' , index +1)\n",
        "except ValueError:\n",
        "  pass #for not printing anything\n",
        "print('End')\n",
        "\n",
        "# a = 'Hyd is green city. Hyd is hitec city. Hyd is his cityi'\n",
        "# index = a . index('is')\n",
        "# try:\n",
        "#     while  index != -1:\n",
        "#         print(index)\n",
        "#         index = a . index('is' , index + 1)\n",
        "# except ValueError:\n",
        "#     print('End')\n"
      ],
      "metadata": {
        "colab": {
          "base_uri": "https://localhost:8080/"
        },
        "id": "bW5wY6GUipfv",
        "outputId": "539fddbc-f70b-48b7-f491-38fb46286ad0"
      },
      "execution_count": null,
      "outputs": [
        {
          "output_type": "stream",
          "name": "stdout",
          "text": [
            "4\n",
            "23\n",
            "42\n",
            "46\n",
            "End\n"
          ]
        }
      ]
    },
    {
      "cell_type": "code",
      "source": [
        "'''(Home  work)\n",
        "rfind()  method  demo  program\n",
        "\n",
        "Modify  following  program  with  rfind()  method\n",
        "'''\n",
        "a = 'Hyd is green city. Hyd is hitec city. Hyd is his cityi'\n",
        "index = a . rfind('is')\n",
        "while  index != -1:\n",
        "\tprint(index)\n",
        "\tindex = a . rfind('is' ,0, index)#if we have str1 . rfind(str2 , x) two argument it will seach from left to right better to use 1 or 3 aguments.\n",
        "print('End')\n",
        "\n",
        "\n",
        "\n",
        "'''\n",
        "rfind()  method\n",
        "-------------------\n",
        "1) What  does  str1 . rfind(str2 , x , y)  do ?  --->   Returns  index  of  str2  in  str1   between  indexes  y - 1  downto  x\n",
        "\t\t\t\t\t\t\t\t\t\t\t\t\t\t\t\t\t\t\t  i.e. right  to  left\n",
        "\n",
        "2) What  does  str1 . rfind(str2)  do ?  --->  Returns index  of  str2  in  str1   between  indexes  len(str1) - 1  downto  0\n",
        "\t\t\t\t\t\t\t\t\t\t\t\t\t\t\t\t     i.e. right  to  left\n",
        "\n",
        "3) What  does  str1 . rfind(str2 , x)  do ?  --->  Returns  index  of  str2  in  str1   between  indexes  x  to  len(str1) - 1\n",
        "\t\t\t\t\t\t\t\t\t\t\t\t\t\t                  i.e.  left  to  right\n",
        "\n",
        "4) How  many  arguments  can  rfind()  method  take ?  --->  1 (or) 3  but  not  2\n",
        "\n",
        "5) What  is  the  issue  with  two  arguments ?  --->  Method  searches  from  left  to  right  even  though  it  is  rfind()  method\n",
        "\n",
        "6) What  does  rfind()  method  return  (+ve  (or)  -ve  index) ?  --->  +ve  index  even  though  search  is  from  right  to  left\n",
        "\n",
        "7) What  does  rfind()  method  do  if  str2  is  not  in  str1 ?  --->  Returns  -1\n",
        "'''"
      ],
      "metadata": {
        "colab": {
          "base_uri": "https://localhost:8080/",
          "height": 200
        },
        "id": "Wnco3XZOMWb2",
        "outputId": "9da3aca3-ef7b-4a72-f6bf-47d971fcde03"
      },
      "execution_count": null,
      "outputs": [
        {
          "output_type": "stream",
          "name": "stdout",
          "text": [
            "46\n",
            "42\n",
            "23\n",
            "4\n",
            "End\n"
          ]
        },
        {
          "output_type": "execute_result",
          "data": {
            "text/plain": [
              "'\\nrfind()  method\\n-------------------\\n1) What  does  str1 . rfind(str2 , x , y)  do ?  --->   Returns  index  of  str2  in  str1   between  indexes  y - 1  downto  x\\n\\t\\t\\t\\t\\t\\t\\t\\t\\t\\t\\t\\t\\t\\t\\t\\t\\t\\t\\t  i.e. right  to  left\\n\\n2) What  does  str1 . rfind(str2)  do ?  --->  Returns index  of  str2  in  str1   between  indexes  len(str1) - 1  downto  0\\n\\t\\t\\t\\t\\t\\t\\t\\t\\t\\t\\t\\t\\t\\t\\t\\t     i.e. right  to  left\\n\\n3) What  does  str1 . rfind(str2 , x)  do ?  --->  Returns  index  of  str2  in  str1   between  indexes  x  to  len(str1) - 1\\n\\t\\t\\t\\t\\t\\t\\t\\t\\t\\t\\t\\t\\t\\t                  i.e.  left  to  right\\n\\n4) How  many  arguments  can  rfind()  method  take ?  --->  1 (or) 3  but  not  2\\n\\n5) What  is  the  issue  with  two  arguments ?  --->  Method  searches  from  left  to  right  even  though  it  is  rfind()  method\\n\\n6) What  does  rfind()  method  return  (+ve  (or)  -ve  index) ?  --->  +ve  index  even  though  search  is  from  right  to  left\\n\\n7) What  does  rfind()  method  do  if  str2  is  not  in  str1 ?  --->\\xa0\\xa0Returns\\xa0\\xa0-1\\n'"
            ],
            "application/vnd.google.colaboratory.intrinsic+json": {
              "type": "string"
            }
          },
          "metadata": {},
          "execution_count": 4
        }
      ]
    },
    {
      "cell_type": "code",
      "source": [
        "'''  (Home  work)\n",
        "rindex()   method  demo  program\n",
        "\n",
        "Modify  following  program  with  rindex()  method\n",
        "\n",
        "Hint: Use   try  and  except\n",
        "'''\n",
        "\n",
        "try:\n",
        "  a = 'Hyd is green city. Hyd is hitec city. Hyd is his cityi'\n",
        "  index = a . rindex('is')\n",
        "  while True:\n",
        "    print(index)\n",
        "    index = a . rindex('is' ,0, index )\n",
        "except:\n",
        "  print('End')\n",
        "\n",
        "\n",
        "'''\n",
        "rindex()  method\n",
        "--------------------\n",
        "It  is  same  as   rfind()  method  except  that  it  throws  error  but  not  -1  when  string  is  not  found\n",
        "'''"
      ],
      "metadata": {
        "colab": {
          "base_uri": "https://localhost:8080/",
          "height": 127
        },
        "id": "P8DPhXT2MWZP",
        "outputId": "47b24a72-3567-4889-b600-f23b470c8391"
      },
      "execution_count": null,
      "outputs": [
        {
          "output_type": "stream",
          "name": "stdout",
          "text": [
            "46\n",
            "42\n",
            "23\n",
            "4\n",
            "End\n"
          ]
        },
        {
          "output_type": "execute_result",
          "data": {
            "text/plain": [
              "'\\nrindex()  method\\n--------------------\\nIt  is  same  as   rfind()  method  except  that  it  throws  error  but  not  -1  when  string  is\\xa0\\xa0not\\xa0\\xa0found\\n'"
            ],
            "application/vnd.google.colaboratory.intrinsic+json": {
              "type": "string"
            }
          },
          "metadata": {},
          "execution_count": 5
        }
      ]
    },
    {
      "cell_type": "code",
      "source": [],
      "metadata": {
        "id": "RQ4pNuaHMWOP"
      },
      "execution_count": null,
      "outputs": []
    },
    {
      "cell_type": "code",
      "source": [
        "#  count()  method  demo  program (Home  work)\n",
        "a = 'Hyd is green city. Hyd is hitec city. Hyd is his city'\n",
        "print(a . count('is')) #4\n",
        "print(a . count('is' , 19 , 48)) #counting 'is' from 19 to 47 indexes of the sting.\n",
        "print(a . count('was')) #0\n",
        "'''\n",
        "count()\n",
        "---------\n",
        "1) What  does  str1 . count(str2)  do ? --->  Returns  number  of  times  str2  is  found  in  str1\n",
        "\n",
        "2) What  does  str1 . count(str2 , x , y)  do ? --->\n",
        "\t\t\t\t\t\t\t\t\t\t\t\t\t\tReturns  number  of  times  str2  is  found  in  str1  between  indexes  x  and  y - 1\n",
        "'''"
      ],
      "metadata": {
        "colab": {
          "base_uri": "https://localhost:8080/",
          "height": 109
        },
        "id": "jfer_avDKsGe",
        "outputId": "2f1caeba-9f30-4902-eedf-173f9c768984"
      },
      "execution_count": null,
      "outputs": [
        {
          "output_type": "stream",
          "name": "stdout",
          "text": [
            "4\n",
            "3\n",
            "0\n"
          ]
        },
        {
          "output_type": "execute_result",
          "data": {
            "text/plain": [
              "'\\ncount()\\n---------\\n1) What  does  str1 . count(str2)  do ? --->  Returns  number  of  times  str2  is  found  in  str1\\n\\n2) What  does  str1 . count(str2 , x , y)  do ? --->\\n\\t\\t\\t\\t\\t\\t\\t\\t\\t\\t\\t\\t\\t\\tReturns  number  of  times  str2  is  found  in  str1  between  indexes  x\\xa0\\xa0and\\xa0\\xa0y\\xa0-\\xa01\\n'"
            ],
            "application/vnd.google.colaboratory.intrinsic+json": {
              "type": "string"
            }
          },
          "metadata": {},
          "execution_count": 6
        }
      ]
    },
    {
      "cell_type": "code",
      "source": [
        "#  Find  outputs  (Home  work)\n",
        "a = 'Hyd is\\tgreen\\ncity.Hyd is\\thitec\\ncity.Hyd is\\this\\ncity'\n",
        "print(a . count(' '))#3\n",
        "print(a . count('\\t'))#3\n",
        "print(a.count('\\n'))#3"
      ],
      "metadata": {
        "colab": {
          "base_uri": "https://localhost:8080/"
        },
        "id": "QuwB04I3Kr1g",
        "outputId": "3d2219e6-b0f9-4dc3-9e5d-12907bee1c86"
      },
      "execution_count": null,
      "outputs": [
        {
          "output_type": "stream",
          "name": "stdout",
          "text": [
            "3\n",
            "3\n",
            "3\n"
          ]
        }
      ]
    },
    {
      "cell_type": "code",
      "source": [
        "'''\n",
        "Write  a  program  to  replace  every  occurance  of  first  character  in  the  string  with  '*'  except  first  character\n",
        "\n",
        "Let  input  be  'babble'\n",
        "What  is  the  output ?  ---> ba**le\n",
        "'''\n",
        "\n",
        "\n",
        "a=input(\"enter the string\")\n",
        "b=a[:1]\n",
        "c=b+a[1:].replace(b,'*')\n",
        "print(c)"
      ],
      "metadata": {
        "id": "v-t-VB5CqxoU",
        "colab": {
          "base_uri": "https://localhost:8080/"
        },
        "outputId": "80a75eb9-08be-48da-a0bf-970f2e7ebf17"
      },
      "execution_count": null,
      "outputs": [
        {
          "output_type": "stream",
          "name": "stdout",
          "text": [
            "enter the stringbabble\n",
            "ba**le\n"
          ]
        }
      ]
    },
    {
      "cell_type": "code",
      "source": [
        "#  Find  outputs  (Home  work)\n",
        "a = '15:36:48'\n",
        "print(a . split(':'))#[15,36,48]\n",
        "print(a)#15:36:48"
      ],
      "metadata": {
        "id": "oKxGuCyyKrRL",
        "colab": {
          "base_uri": "https://localhost:8080/"
        },
        "outputId": "68d29bee-91cc-4604-d396-3c29413c7457"
      },
      "execution_count": null,
      "outputs": [
        {
          "output_type": "stream",
          "name": "stdout",
          "text": [
            "['15', '36', '48']\n",
            "15:36:48\n"
          ]
        }
      ]
    },
    {
      "cell_type": "code",
      "execution_count": null,
      "metadata": {
        "id": "3eO10lv7-t6m",
        "colab": {
          "base_uri": "https://localhost:8080/"
        },
        "outputId": "509758c3-b10f-4102-a4d2-298207918594"
      },
      "outputs": [
        {
          "output_type": "stream",
          "name": "stdout",
          "text": [
            "['Hyd\\nis', 'green\\tcity']\n",
            "['Hyd', 'is', 'green', 'city']\n",
            "['Hyd\\nis ', '\\tcity']\n"
          ]
        }
      ],
      "source": [
        "# Find  outputs  (Home  work)\n",
        "a = 'Hyd\\nis green\\tcity'\n",
        "print(a . split(' '))#['Hyd\\nis','green\\tcity']\n",
        "print(a . split())#it is default white space operator i.e \\t,\\n,\\r and space therefore o/p:-['Hyd','is','green','city']\n",
        "print(a . split('green')) #['Hyd\\nis','green\\tcity']\n",
        "# print(a.split(''))#spliting with the empty string therefore it through error"
      ]
    },
    {
      "cell_type": "code",
      "source": [
        "# Find  outputs  (Home  work)\n",
        "a = 'Hyd\tis\tgreen\tcity' #  There  is  tab  between  the  words\n",
        "print(a . split('\\t'))#the input(a) is tab not space and it is also spliting with the tab so the o/p:-[\"Hyd\",\"is\",\"green\",\"city\"]\n",
        "print(a . split())# the default whitespace operators therefore the o/p:-[\"Hyd\",\"is\",\"green\",\"city\"]\n",
        "print(a.split(' '))#it spliting with the space not with the tab therefore the o/p:-['Hyd\tis\tgreen\tcity']"
      ],
      "metadata": {
        "colab": {
          "base_uri": "https://localhost:8080/"
        },
        "id": "_jfsNWMNW1t_",
        "outputId": "6c7e6e65-ce80-4d52-88df-a0b60171f326"
      },
      "execution_count": null,
      "outputs": [
        {
          "output_type": "stream",
          "name": "stdout",
          "text": [
            "['Hyd', 'is', 'green', 'city']\n",
            "['Hyd', 'is', 'green', 'city']\n",
            "['Hyd\\tis\\tgreen\\tcity']\n"
          ]
        }
      ]
    },
    {
      "cell_type": "code",
      "source": [
        "# Find  outputs (Home  work)\n",
        "a = 'Hyd   is   green   city'  #  There  are  3  spaces  between  the  words\n",
        "#if is space in the input then it gives the empty string ex:\"Ranjith<space><space>Addakula\" then the o/p:-[\"Ranjith\",\"\",\"Addakula\"] insted of space it gives empty string you can see in the list\n",
        "print(a . split())#\n",
        "print(a.split(' '))"
      ],
      "metadata": {
        "colab": {
          "base_uri": "https://localhost:8080/"
        },
        "id": "WR6SbFrYW1qq",
        "outputId": "7caf54ea-11f6-45ca-c6e1-6e7074a2f3c9"
      },
      "execution_count": null,
      "outputs": [
        {
          "output_type": "stream",
          "name": "stdout",
          "text": [
            "['Hyd', 'is', 'green', 'city']\n",
            "['Hyd', '', '', 'is', '', '', 'green', '', '', 'city']\n"
          ]
        }
      ]
    },
    {
      "cell_type": "code",
      "source": [
        "# Find  outputs  (Home  work)\n",
        "a = 'www.gmail.com'\n",
        "print(a.split('.'))#splitting with the dot(.) so o/p:-['www', 'gmail', 'com']"
      ],
      "metadata": {
        "colab": {
          "base_uri": "https://localhost:8080/"
        },
        "id": "uwvhKDxdW1os",
        "outputId": "105f2d32-6649-4f35-bf01-4fb531107029"
      },
      "execution_count": null,
      "outputs": [
        {
          "output_type": "stream",
          "name": "stdout",
          "text": [
            "['www', 'gmail', 'com']\n"
          ]
        }
      ]
    },
    {
      "cell_type": "code",
      "source": [
        "'''\n",
        "Write  a  program  to  evaluate  an  expression  which  contains  only  +  symbols\n",
        "Let  input  be  123+45+6+789\n",
        "Print  the  sum  result\n",
        "'''\n",
        "\n",
        "#this is only work for the integes not for the float or strings or complex and bool inputs\n",
        "a=input(\"enter input:\")\n",
        "b=a.split('+')\n",
        "d=0\n",
        "for i in b:\n",
        "  c=eval(i)\n",
        "  d=d+c\n",
        "print(d)\n"
      ],
      "metadata": {
        "colab": {
          "base_uri": "https://localhost:8080/",
          "height": 274
        },
        "id": "v2yd0UuSW1mO",
        "outputId": "780f207a-6857-4092-c47f-7bef2497b67f"
      },
      "execution_count": null,
      "outputs": [
        {
          "name": "stdout",
          "output_type": "stream",
          "text": [
            "enter input:5+(3+2j)\n"
          ]
        },
        {
          "output_type": "error",
          "ename": "SyntaxError",
          "evalue": "'(' was never closed (<string>, line 1)",
          "traceback": [
            "Traceback \u001b[0;36m(most recent call last)\u001b[0m:\n",
            "  File \u001b[1;32m\"/usr/local/lib/python3.11/dist-packages/IPython/core/interactiveshell.py\"\u001b[0m, line \u001b[1;32m3553\u001b[0m, in \u001b[1;35mrun_code\u001b[0m\n    exec(code_obj, self.user_global_ns, self.user_ns)\n",
            "\u001b[0;36m  File \u001b[0;32m\"/tmp/ipython-input-987117017.py\"\u001b[0;36m, line \u001b[0;32m12\u001b[0;36m, in \u001b[0;35m<cell line: 0>\u001b[0;36m\u001b[0m\n\u001b[0;31m    c=eval(i)\u001b[0m\n",
            "\u001b[0;36m  File \u001b[0;32m\"<string>\"\u001b[0;36m, line \u001b[0;32m1\u001b[0m\n\u001b[0;31m    (3\u001b[0m\n\u001b[0m    ^\u001b[0m\n\u001b[0;31mSyntaxError\u001b[0m\u001b[0;31m:\u001b[0m '(' was never closed\n"
          ]
        }
      ]
    },
    {
      "cell_type": "code",
      "source": [
        "try:\n",
        "  a=input(\"enter input:\")\n",
        "  b=a.split('+')\n",
        "  sum=0\n",
        "  for i in b:\n",
        "    sum=sum+eval(i)\n",
        "  print(sum)\n",
        "except TypeError:#it will execute when the input is string\n",
        "  print(\"the input should not be string\")\n",
        "except:# it will execute when the input is with complex.\n",
        "  print(\"invalid expression\")\n"
      ],
      "metadata": {
        "colab": {
          "base_uri": "https://localhost:8080/"
        },
        "id": "kcgC7ATFW1jz",
        "outputId": "386a026c-997a-473b-9c3e-e796db552dec"
      },
      "execution_count": null,
      "outputs": [
        {
          "output_type": "stream",
          "name": "stdout",
          "text": [
            "enter input:5+\"ranjith\"\n",
            "the input should not be string\n"
          ]
        }
      ]
    },
    {
      "cell_type": "code",
      "source": [
        "#  Find  outputs  (Home  work)\n",
        "a = ['15' , '36' , '48']\n",
        "print(':' . join(a))#15:36:48\n",
        "b = ('Hyd' , 'is' , 'green' , 'city')\n",
        "print(' ' . join(b))#Hyd is green city\n",
        "c = {'10' , '20' , '15' , '25' , '52'}\n",
        "print(',' . join(c))#10,20,15,25,52\n",
        "d = ['www' , 'gmail', 'com']\n",
        "print('.' . join(d))#www.gmail.com\n",
        "e = [15 , 36 , 48]#error because only strings has join method\n",
        "# print(':' . join(e))\n",
        "f = ['Sankar' , 'Dayal' , 'Sarma']\n",
        "print('' . join(f))#SankarDayalSarma\n",
        "g = range(5)\n",
        "# print('-'.join(g))#error because only strings has join method"
      ],
      "metadata": {
        "colab": {
          "base_uri": "https://localhost:8080/"
        },
        "id": "0xZG79-cW1hR",
        "outputId": "d6acbbac-2dc2-45dd-e735-d4c46e4a0c35"
      },
      "execution_count": null,
      "outputs": [
        {
          "output_type": "stream",
          "name": "stdout",
          "text": [
            "15:36:48\n",
            "Hyd is green city\n",
            "10,15,25,20,52\n",
            "www.gmail.com\n",
            "SankarDayalSarma\n"
          ]
        }
      ]
    },
    {
      "cell_type": "code",
      "source": [
        "# endswith()  method  demo  progrram (Home  work)\n",
        "a = 'Hyd is green city'\n",
        "print(a . endswith('city'))#True\n",
        "print(a . endswith('town'))#False\n",
        "print(a . endswith('green' , 3 , 12))#True\n",
        "print(a . endswith('green' , 3 , 13))#False\n",
        "print(a . endswith(' ',3,13))#false"
      ],
      "metadata": {
        "id": "Ow8foa5OW1ev",
        "colab": {
          "base_uri": "https://localhost:8080/"
        },
        "outputId": "ecea3454-1572-4e20-d95e-94238a55193e"
      },
      "execution_count": null,
      "outputs": [
        {
          "output_type": "stream",
          "name": "stdout",
          "text": [
            "True\n",
            "False\n",
            "True\n",
            "False\n",
            "False\n"
          ]
        }
      ]
    },
    {
      "cell_type": "code",
      "source": [],
      "metadata": {
        "id": "QZjidol3W1ca"
      },
      "execution_count": null,
      "outputs": []
    },
    {
      "cell_type": "markdown",
      "source": [
        "## **for the below programs just excepting the output**"
      ],
      "metadata": {
        "id": "ULCdwOYwiX-f"
      }
    },
    {
      "cell_type": "code",
      "source": [
        "# What  are  the  outputs  if  input  is   [25 , 10.8 , 'Hyd' , True]   (Home  work)\n",
        "a = input('Enter  list  :  ')\n",
        "print(type(a))#list\n",
        "print(a)#[25 , 10.8 , 'Hyd' , True]\n",
        "b = eval(a)\n",
        "print(b)#[25 , 10.8 , 'Hyd' , True]\n",
        "print(type(b))#<class list>"
      ],
      "metadata": {
        "colab": {
          "base_uri": "https://localhost:8080/"
        },
        "id": "qWLti9AtW1XE",
        "outputId": "152e464b-1d5a-40bc-bd4c-7b881c31b430"
      },
      "execution_count": null,
      "outputs": [
        {
          "output_type": "stream",
          "name": "stdout",
          "text": [
            "Enter  list  :  [25 , 10.8 , 'Hyd' , True]\n",
            "<class 'str'>\n",
            "[25 , 10.8 , 'Hyd' , True]\n",
            "[25, 10.8, 'Hyd', True]\n",
            "<class 'list'>\n"
          ]
        }
      ]
    },
    {
      "cell_type": "code",
      "source": [
        "#  Find  outputs (Home  work)\n",
        "a = [10, 20, 15, 18]\n",
        "b = a\n",
        "print(a  is  b)#False\n",
        "print(a  ==  b)#True\n",
        "b[2]=12#[10, 20, 12, 18]\n",
        "# print(b)\n",
        "print(a)#[10, 20, 15, 18]"
      ],
      "metadata": {
        "colab": {
          "base_uri": "https://localhost:8080/"
        },
        "id": "nsJkoUQMW1Uf",
        "outputId": "5583eae2-7741-4913-a9cd-4696f0d3954b"
      },
      "execution_count": null,
      "outputs": [
        {
          "output_type": "stream",
          "name": "stdout",
          "text": [
            "True\n",
            "True\n",
            "[10, 20, 12, 18]\n"
          ]
        }
      ]
    },
    {
      "cell_type": "code",
      "source": [
        "#  Find  outputs  (Home  work)\n",
        "a = [10 , 20 , 15 , 18]\n",
        "b = [100 , 200 , 150]\n",
        "print(a + b)#[110,220,165,18] or error\n",
        "print(a + 5)#error\n",
        "print(a + '5')#error\n",
        "print([10 , 20]+(30,40))#error"
      ],
      "metadata": {
        "colab": {
          "base_uri": "https://localhost:8080/"
        },
        "id": "oBqJgXLji3U5",
        "outputId": "6bb97c37-72c8-4f30-8c6b-7747e236a127"
      },
      "execution_count": null,
      "outputs": [
        {
          "output_type": "stream",
          "name": "stdout",
          "text": [
            "[10, 20, 15, 18, 100, 200, 150, 5]\n"
          ]
        }
      ]
    },
    {
      "cell_type": "code",
      "source": [
        "#  Tricky  program\n",
        "#  Find  outputs\n",
        "a = [1,2,3]\n",
        "b = [4,5,6]\n",
        "print(a , id(a))#[1,2,3] say 1000\n",
        "a += b #[1,2,3,4,5,6]\n",
        "print(a,id(a)) #[1,2,3,4,5,6] same 1000"
      ],
      "metadata": {
        "colab": {
          "base_uri": "https://localhost:8080/"
        },
        "id": "_hi8NsM4i3R5",
        "outputId": "cb962976-9da0-49aa-d896-6d66d8d6c0c7"
      },
      "execution_count": null,
      "outputs": [
        {
          "output_type": "stream",
          "name": "stdout",
          "text": [
            "[1, 2, 3] 137344771468992\n",
            "[1, 2, 3, 4, 5, 6] 137344771468992\n"
          ]
        }
      ]
    },
    {
      "cell_type": "code",
      "source": [
        "#  Tricky  program\n",
        "#  Find  outputs\n",
        "a = [1,2,3]\n",
        "b = [4,5,6]\n",
        "print(a , id(a))#[1,2,3] say 1000\n",
        "a  = a + b #[1,2,3,4,5,6]\n",
        "print(a,id(a)) #[1,2,3,4,5,6] same 1000"
      ],
      "metadata": {
        "colab": {
          "base_uri": "https://localhost:8080/"
        },
        "id": "sIyzKQhZi3QF",
        "outputId": "006b6ef8-9282-45b8-efbf-99ede8b7eac2"
      },
      "execution_count": null,
      "outputs": [
        {
          "output_type": "stream",
          "name": "stdout",
          "text": [
            "[1, 2, 3] 137344771019904\n",
            "[1, 2, 3, 4, 5, 6] 137344783938944\n"
          ]
        }
      ]
    },
    {
      "cell_type": "code",
      "source": [
        "# List  packing\n",
        "a = 25\n",
        "b = 10.8\n",
        "c = 'Hyd'\n",
        "d = True\n",
        "e = [a , b , c , d]\n",
        "print(e)#[25,10.8,'Hyd',True]\n",
        "print(type(e))#<class list>"
      ],
      "metadata": {
        "colab": {
          "base_uri": "https://localhost:8080/"
        },
        "id": "U4Y_KMJli3Nl",
        "outputId": "959e2f58-d219-4b50-be93-ce173e9432e1"
      },
      "execution_count": null,
      "outputs": [
        {
          "output_type": "stream",
          "name": "stdout",
          "text": [
            "[25, 10.8, 'Hyd', True]\n",
            "<class 'list'>\n"
          ]
        }
      ]
    },
    {
      "cell_type": "code",
      "source": [
        "# Find  outputs\n",
        "list = [25 , 10.8 , 'Hyd' ,  True]\n",
        "a , *b , c = list\n",
        "print('a : ' , a)  #  a :  25\n",
        "print('b : ' , b) #  b : [10.8 , 'Hyd']\n",
        "print('c : ' , c) #  c :  True\n",
        "print(type(b))#<class list>\n",
        "x , *y = list\n",
        "print('x : ' , x)#25\n",
        "print('y : ' , y)#[10.8,\"Hyd\",True]\n",
        "*p , q = list\n",
        "print('p : ' , p)#[25,10.8,\"Hyd\"]\n",
        "print('q : ',q)#True or 1.0"
      ],
      "metadata": {
        "colab": {
          "base_uri": "https://localhost:8080/"
        },
        "id": "cKHT_ur0i3LC",
        "outputId": "b7b16664-dd97-4684-ec1c-071f1a2cce47"
      },
      "execution_count": null,
      "outputs": [
        {
          "output_type": "stream",
          "name": "stdout",
          "text": [
            "a :  25\n",
            "b :  [10.8, 'Hyd']\n",
            "c :  True\n",
            "<class 'list'>\n",
            "x :  25\n",
            "y :  [10.8, 'Hyd', True]\n",
            "p :  [25, 10.8, 'Hyd']\n",
            "q :  True\n"
          ]
        }
      ]
    },
    {
      "cell_type": "code",
      "source": [
        "list = [25 , 10.8 , 'Hyd' ,  True,\"ranjith\",33,3+4j,\"addakula\"]\n",
        "a , *b[1:4] , c = list\n",
        "print('a : ' , a)  #  a :  25\n",
        "print('b : ' , b) #  b : [10.8 , 'Hyd']\n",
        "print('c : ' , c) #  c :  True"
      ],
      "metadata": {
        "colab": {
          "base_uri": "https://localhost:8080/"
        },
        "id": "GjWfoSmui3Ij",
        "outputId": "071e0bcf-8cea-41e2-b5ac-b6e7118c3316"
      },
      "execution_count": null,
      "outputs": [
        {
          "output_type": "stream",
          "name": "stdout",
          "text": [
            "a :  25\n",
            "b :  [10.8, 10.8, 'Hyd', True, 'ranjith', 33, (3+4j), 'ranjith', 33, (3+4j), 'Hyd', True, 'ranjith', 33, (3+4j), 'Hyd', True, 'ranjith', 33, (3+4j), 'Hyd', True, 'ranjith', 33, (3+4j), 33, (3+4j), (3+4j), (3+4j)]\n",
            "c :  addakula\n"
          ]
        }
      ]
    },
    {
      "cell_type": "code",
      "source": [
        "# Find  outputs  (Home  work)\n",
        "list = [25 , 10.8 , 'Hyd' , True]\n",
        "a , b , c , d , e = list#error\n",
        "a , b , *c , d , e = list#error\n",
        "print('a : ' , a)\n",
        "print('b : ' , b)\n",
        "print('c : ' , c)\n",
        "print('d : ' , d)\n",
        "print('e : ' , e)\n",
        "a , b , *c , d,e,f=list#error"
      ],
      "metadata": {
        "colab": {
          "base_uri": "https://localhost:8080/"
        },
        "id": "9ukIsCvoitqX",
        "outputId": "86581f1d-728b-4acc-adc6-ab9bab1ecd41"
      },
      "execution_count": null,
      "outputs": [
        {
          "output_type": "stream",
          "name": "stdout",
          "text": [
            "a :  25\n",
            "b :  [10.8, 10.8, 'Hyd', True, 'ranjith', 33, (3+4j), 'ranjith', 33, (3+4j), 'Hyd', True, 'ranjith', 33, (3+4j), 'Hyd', True, 'ranjith', 33, (3+4j), 'Hyd', True, 'ranjith', 33, (3+4j), 33, (3+4j), (3+4j), (3+4j)]\n",
            "c :  addakula\n",
            "d :  True\n",
            "e :  [25, 10.8, 'Hyd', True]\n",
            "nothing\n"
          ]
        }
      ]
    },
    {
      "cell_type": "code",
      "source": [
        "# Find  outputs  (Home  work)\n",
        "list = [25 , 10.8 , 'Hyd' , True]\n",
        "a , b , _  , d = list\n",
        "print('a : ' , a)#25\n",
        "print('b : ' , b)#10.8\n",
        "print('_ :  ' , _)#\"Hyd\"\n",
        "print('d : ',d)#True"
      ],
      "metadata": {
        "colab": {
          "base_uri": "https://localhost:8080/"
        },
        "id": "L8Kyx2A_qlAQ",
        "outputId": "70ac689e-2d2f-4bc6-fc45-3ce4ce7ea785"
      },
      "execution_count": null,
      "outputs": [
        {
          "output_type": "stream",
          "name": "stdout",
          "text": [
            "a :  25\n",
            "b :  10.8\n",
            "_ :   Hyd\n",
            "d :  True\n"
          ]
        }
      ]
    },
    {
      "cell_type": "code",
      "source": [
        "# Find  outputs (Home  work)\n",
        "list = [25 , 10.8 , 'Hyd' , True , 3 + 4j]\n",
        "a , b , a , d , a = list\n",
        "print('a : ' , a)\n",
        "print('b : ' , b)\n",
        "print('d : ',d)"
      ],
      "metadata": {
        "colab": {
          "base_uri": "https://localhost:8080/"
        },
        "id": "Z6N_Q68fqk8P",
        "outputId": "17ab938b-136d-46db-f7bd-2b1068c270c0"
      },
      "execution_count": null,
      "outputs": [
        {
          "output_type": "stream",
          "name": "stdout",
          "text": [
            "a :  (3+4j)\n",
            "b :  10.8\n",
            "d :  True\n"
          ]
        }
      ]
    },
    {
      "cell_type": "markdown",
      "source": [
        "# List functions and methods"
      ],
      "metadata": {
        "id": "tQPQGgYvZdTq"
      }
    },
    {
      "cell_type": "code",
      "source": [
        "#  len()  function demo   program  (Home  work)\n",
        "a = [ 25, 10.8, 'Hyd', True]\n",
        "print(len(a))#4\n",
        "b = []\n",
        "print(len(b))#empty list(0)\n",
        "c = [[10 , 20] , 30 , 40]\n",
        "print(len(c))#3\n",
        "\n",
        "\n",
        "'''\n",
        "What  does  len(list)  do ?  --->  Returns  number  of  elements  in  the  list\n",
        "'''"
      ],
      "metadata": {
        "id": "8M6MCg4hqk5z",
        "outputId": "638e9477-032c-4371-fd48-a3ece2e8d052",
        "colab": {
          "base_uri": "https://localhost:8080/",
          "height": 87
        }
      },
      "execution_count": 1,
      "outputs": [
        {
          "output_type": "stream",
          "name": "stdout",
          "text": [
            "4\n",
            "0\n",
            "3\n"
          ]
        },
        {
          "output_type": "execute_result",
          "data": {
            "text/plain": [
              "'\\nWhat  does  len(list)  do ?  --->  Returns  number  of  elements  in  the  list\\n'"
            ],
            "application/vnd.google.colaboratory.intrinsic+json": {
              "type": "string"
            }
          },
          "metadata": {},
          "execution_count": 1
        }
      ]
    },
    {
      "cell_type": "code",
      "source": [
        "# sum()  function  demo  program  (Home  work)\n",
        "a = [25 , 10.8 , True]\n",
        "print(sum(a))#36.8\n",
        "b= [3 + 4j , 5 + 6j]\n",
        "print(sum(b))#[8+10j]\n",
        "c = [25 , 10.8 , True , 3 + 4j , False]\n",
        "print(sum(c))#39.8+4j\n",
        "d = [10 , 20 , 15 , 18]\n",
        "print(sum(d))#53\n",
        "e = [25 , 10.8 , 'Hyd' , True]\n",
        "# print(sum(e))#error\n",
        "\n",
        "\n",
        "'''\n",
        "What  does  sum(list)  do ?  ---> Returns  sum  of  list  elements\n",
        "'''"
      ],
      "metadata": {
        "id": "0Pbk0ITGZcJJ",
        "outputId": "7417d4c6-c422-46cf-c6c5-aae8b476959d",
        "colab": {
          "base_uri": "https://localhost:8080/",
          "height": 105
        }
      },
      "execution_count": 3,
      "outputs": [
        {
          "output_type": "stream",
          "name": "stdout",
          "text": [
            "36.8\n",
            "(8+10j)\n",
            "(39.8+4j)\n",
            "63\n"
          ]
        },
        {
          "output_type": "execute_result",
          "data": {
            "text/plain": [
              "'\\nWhat  does  sum(list)  do ?  ---> Returns  sum  of  list  elements\\n'"
            ],
            "application/vnd.google.colaboratory.intrinsic+json": {
              "type": "string"
            }
          },
          "metadata": {},
          "execution_count": 3
        }
      ]
    },
    {
      "cell_type": "code",
      "source": [
        "#  Find  outputs\n",
        "a = [[10 , 20 , 15 , 18]]\n",
        "# print(sum(a))\n",
        "b=a[0]\n",
        "print(sum(b))\n",
        "# print(How  to  determine  sum  of  inner  list  elements)\n",
        "# print(How  to  determine  sum  of  inner  list  elements  in  another  way)"
      ],
      "metadata": {
        "id": "PwJzwEH5ZcGS",
        "outputId": "65ca026f-27e2-484c-e940-0cbea2e29c10",
        "colab": {
          "base_uri": "https://localhost:8080/"
        }
      },
      "execution_count": 7,
      "outputs": [
        {
          "output_type": "stream",
          "name": "stdout",
          "text": [
            "63\n"
          ]
        }
      ]
    },
    {
      "cell_type": "code",
      "source": [
        "# max()  and  min()  functions  demo  program  (Home  work)\n",
        "a = [10 , 20 , 15 , 18 , 30, 5 , 12]\n",
        "print(max(a))#30\n",
        "print(min(a))#5\n",
        "b = ['Rama' , 'Sita' , 'Rajesh' , 'Kiran' , 'Amar' , 'Vamsi' , 'Manohar']\n",
        "print(max(b))#vamsi\n",
        "print(min(b))#Amar\n",
        "c = [25 , 10.8 ,  3 + 4j , True]\n",
        "# print(max(c))#10.8 or error\n",
        "d = [25 , '35']\n",
        "# print(max(d))#error\n",
        "# print(max([]))#error\n",
        "# print(min([]))#error"
      ],
      "metadata": {
        "id": "gpZKyMguZcDJ",
        "outputId": "64643031-5101-4417-8b05-9797e007a55a",
        "colab": {
          "base_uri": "https://localhost:8080/"
        }
      },
      "execution_count": 11,
      "outputs": [
        {
          "output_type": "stream",
          "name": "stdout",
          "text": [
            "30\n",
            "5\n",
            "Vamsi\n",
            "Amar\n"
          ]
        }
      ]
    },
    {
      "cell_type": "code",
      "source": [
        "# list()  function  demo  program\n",
        "a = (10 , 20 , 15, 18)\n",
        "b = list(a)\n",
        "print(b)#[10 , 20 , 15, 18]\n",
        "print(type(b))#class list>\n",
        "print(a  is  b)#False\n",
        "print(a == b)#False"
      ],
      "metadata": {
        "id": "k5ywMgKXZcAx",
        "outputId": "7135028d-4b83-413d-dc77-d04675031be3",
        "colab": {
          "base_uri": "https://localhost:8080/"
        }
      },
      "execution_count": 14,
      "outputs": [
        {
          "output_type": "stream",
          "name": "stdout",
          "text": [
            "[10, 20, 15, 18]\n",
            "<class 'list'>\n",
            "False\n",
            "False\n"
          ]
        }
      ]
    },
    {
      "cell_type": "code",
      "source": [
        "#  Find  outputs (Home  work)\n",
        "a = range(4 , 10 , 2)\n",
        "b = list(a)\n",
        "print(b)\n",
        "print(type(b))\n",
        "a = list('Vamsi')\n",
        "print(a)\n",
        "a = list()\n",
        "print(a)\n",
        "print(list(25))\n",
        "print(list(10.8))\n",
        "print(list(True))\n",
        "print(list(None))\n",
        "\n",
        "\n",
        "'''\n",
        "1) What  does  list(sequence)  do ?  --->  Converts  sequence  to  list  and  returns  list\n",
        "\n",
        "2) What  does  list(no-args)  do ?  ---> Returns  an  empty  list\n",
        "\n",
        "3) What  does  list(non-sequence)  do ?  --->  Throws  error\n",
        "'''"
      ],
      "metadata": {
        "id": "2zTuZ-_Aqk3D"
      },
      "execution_count": null,
      "outputs": []
    },
    {
      "cell_type": "code",
      "source": [],
      "metadata": {
        "id": "V1s_LmZIqk0X"
      },
      "execution_count": null,
      "outputs": []
    },
    {
      "cell_type": "code",
      "source": [],
      "metadata": {
        "id": "XKyx_bVtqkxX"
      },
      "execution_count": null,
      "outputs": []
    },
    {
      "cell_type": "code",
      "source": [],
      "metadata": {
        "id": "W1U1wBLCqkud"
      },
      "execution_count": null,
      "outputs": []
    }
  ]
}