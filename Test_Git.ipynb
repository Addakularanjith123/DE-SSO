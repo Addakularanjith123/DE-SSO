{
  "nbformat": 4,
  "nbformat_minor": 0,
  "metadata": {
    "colab": {
      "provenance": [],
      "include_colab_link": true
    },
    "kernelspec": {
      "name": "python3",
      "display_name": "Python 3"
    },
    "language_info": {
      "name": "python"
    }
  },
  "cells": [
    {
      "cell_type": "markdown",
      "metadata": {
        "id": "view-in-github",
        "colab_type": "text"
      },
      "source": [
        "<a href=\"https://colab.research.google.com/github/Addakularanjith123/DE-SSO/blob/main/Test_Git.ipynb\" target=\"_parent\"><img src=\"https://colab.research.google.com/assets/colab-badge.svg\" alt=\"Open In Colab\"/></a>"
      ]
    },
    {
      "cell_type": "code",
      "execution_count": null,
      "metadata": {
        "id": "_BKnrtU6Qjce"
      },
      "outputs": [],
      "source": []
    },
    {
      "cell_type": "code",
      "source": [],
      "metadata": {
        "id": "STt965ZmQyMP"
      },
      "execution_count": null,
      "outputs": []
    },
    {
      "cell_type": "code",
      "source": [],
      "metadata": {
        "id": "mtDzYd8cT2ym"
      },
      "execution_count": null,
      "outputs": []
    },
    {
      "cell_type": "markdown",
      "source": [
        "bold text#print({10 , 20} + {30 , 40}) # Error : sets  cannot be concatenated  with  +  operator\n",
        "#print({10 : 'Hyd'} + {20 : 'Sec'}) # Error : dictionaries cannot be concatenated  with  + operator\n",
        "#print(range(4) + range(5))  # Error  :  range  objects  cannot be  concatenated\n",
        "#print(10 + '20') # Error :  Operand2  should  be  a  non-sequence   as  operand1   is  a  non-sequence\n",
        "#print([10 , 20 , 30] + 5) # Error :  list  and  int  can  not  be  concatenated\n",
        "#print([10 , 20 , 30] + (40 , 50 , 60)) # Error  :  list  and   tuple  can  not  be  concatenated\n"
      ],
      "metadata": {
        "id": "asNa__VKQrR5"
      }
    },
    {
      "cell_type": "code",
      "source": [
        "# Find outputs (Home work)\n",
        "print(10 + 20) # 30\n",
        "print(10.8 + 20.6) #  31.4\n",
        "print(3 + 4j + 5 + 6j) # 8+10j\n",
        "print(True + False) #  1 + 0 = 1\n",
        "print('Hyder' + 'abad') # Hyderabad\n",
        "print('Sankar' + 'Dayal' + 'Sarma') #SankarDayalSarma\n",
        "print('10' + '20') # 1020\n",
        "print([10 , 20 , 30] + [1 , 2 , 3]) # [10, 20, 30, 1, 2, 3]\n",
        "print((25 , 10.8 , 'Hyd') + (3 + 4j , True , None)) # (25, 10.8, 'Hyd', (3+4j), True, None)"
      ],
      "metadata": {
        "id": "-9CvjBskT66d",
        "outputId": "2be80ad0-5cb8-4c13-86da-05a2a6f33499",
        "colab": {
          "base_uri": "https://localhost:8080/"
        }
      },
      "execution_count": 1,
      "outputs": [
        {
          "output_type": "stream",
          "name": "stdout",
          "text": [
            "30\n",
            "31.400000000000002\n",
            "(8+10j)\n",
            "1\n",
            "Hyderabad\n",
            "SankarDayalSarma\n",
            "1020\n",
            "[10, 20, 30, 1, 2, 3]\n",
            "(25, 10.8, 'Hyd', (3+4j), True, None)\n"
          ]
        }
      ]
    },
    {
      "cell_type": "code",
      "source": [],
      "metadata": {
        "id": "Iq5-XgPAT6qW"
      },
      "execution_count": null,
      "outputs": []
    },
    {
      "cell_type": "markdown",
      "source": [
        "print(\"testing github\")"
      ],
      "metadata": {
        "id": "d29po_yAQ0c0"
      }
    }
  ]
}