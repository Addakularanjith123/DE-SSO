{
  "nbformat": 4,
  "nbformat_minor": 0,
  "metadata": {
    "colab": {
      "provenance": [],
      "gpuType": "T4",
      "authorship_tag": "ABX9TyO6s+UauKRbbB3IMzd9bH5K",
      "include_colab_link": true
    },
    "kernelspec": {
      "name": "python3",
      "display_name": "Python 3"
    },
    "language_info": {
      "name": "python"
    },
    "accelerator": "GPU"
  },
  "cells": [
    {
      "cell_type": "markdown",
      "metadata": {
        "id": "view-in-github",
        "colab_type": "text"
      },
      "source": [
        "<a href=\"https://colab.research.google.com/github/Addakularanjith123/DE-SSO/blob/main/Logical_Programs.ipynb\" target=\"_parent\"><img src=\"https://colab.research.google.com/assets/colab-badge.svg\" alt=\"Open In Colab\"/></a>"
      ]
    },
    {
      "cell_type": "code",
      "execution_count": null,
      "metadata": {
        "id": "7bLLh3Jnbmz-"
      },
      "outputs": [],
      "source": []
    },
    {
      "cell_type": "markdown",
      "source": [],
      "metadata": {
        "id": "goyGN1kobnvK"
      }
    },
    {
      "cell_type": "code",
      "source": [
        "'''\n",
        "Write  a  program  to  sort a  list  without  using  sorted()  function  and  sort()  method\n",
        "\n",
        "Input :  [10,20,30,25,40,35,12,5]\n",
        "Output :  [5,10,12,20,25,30,35,40]\n",
        "'''\n",
        "\n",
        "# Enter list:[10,20,15,12,5]\n",
        "# [5, 10, 12,15,20]\n",
        "\n",
        "\n",
        "print(\"using the sort method\")\n",
        "a=[10,20,30,25,40,35,12,5]\n",
        "a.sort()\n",
        "print(a)\n",
        "\n",
        "a=[10,20,30,25,40,35,12,5]\n",
        "for i in range(len(a)):\n",
        "  for j in range(0,len(a)-i-1):\n",
        "    if a[j]>a[j+1]:\n",
        "      a[j],a[j+1]=a[j+1],a[j]\n",
        "print(\"Sorted list is:\",a)\n",
        "\n"
      ],
      "metadata": {
        "colab": {
          "base_uri": "https://localhost:8080/"
        },
        "id": "czZ6Go2pbxMV",
        "outputId": "79bf44d2-e688-4f92-8617-924890b13fac"
      },
      "execution_count": null,
      "outputs": [
        {
          "output_type": "stream",
          "name": "stdout",
          "text": [
            "using the sort method\n",
            "[5, 10, 12, 20, 25, 30, 35, 40]\n"
          ]
        }
      ]
    },
    {
      "cell_type": "code",
      "source": [
        "'''\n",
        "Write  a  program  to  determine  n-th  largest  element   of   a   list\n",
        "\n",
        "Input1 :  [10,20,30,25,40,35,12,5]\n",
        "Input2 :  3  (3rd  largest)\n",
        "Output :  30\n",
        "'''\n",
        "# Enter list:[10,20,30,25,40,35,12,5]\n",
        "# Enter which largest which to be shown:4\n",
        "# 4th  largest element:25\n",
        "try:\n",
        "  a=eval(input(\"enter list\"))\n",
        "  print(a)\n",
        "  s=set(a)\n",
        "  n=int(input(\"enter the n-th largest number:\"))\n",
        "  for i in range(n):\n",
        "    large=max(s)\n",
        "    s.remove(large)\n",
        "  print(large)\n",
        "except:\n",
        "  print(\"Invalid input\")"
      ],
      "metadata": {
        "colab": {
          "base_uri": "https://localhost:8080/"
        },
        "id": "5n-AqloedGtr",
        "outputId": "b7413a8b-7e26-41df-ae6c-f81df694b7a7"
      },
      "execution_count": null,
      "outputs": [
        {
          "output_type": "stream",
          "name": "stdout",
          "text": [
            "enter list[]\n",
            "[]\n",
            "enter the n-th largest number:5\n",
            "Invalid input\n"
          ]
        }
      ]
    },
    {
      "cell_type": "code",
      "source": [
        "'''\n",
        "Write  a  program  to  merge  two  sorted  lists  to  produce  another  sorted  list\n",
        "\n",
        "\n",
        "                                0      1      2       3         4\n",
        "Eg:  List  'a'   --->  [10  ,  20  , 30   ,  40   ,  50]\n",
        "       List  'b'   --->  [5  ,  12  , 20   ,  37]\n",
        "\t                            0     1       2       3\n",
        "\t   List  'c' --->  [5 , 10 , 12 , 20 , 20 , 30 , 37 , 40 , 50]\n",
        "\n",
        "Hint1 :  Unsorted  lists  can  not  be  merged\n",
        "\n",
        "Hint2 :  Use  single  while  loop\n",
        "'''\n",
        "\n",
        "\n",
        "#with using sort method\n",
        "a=eval(input(\"enter a inputs:\"))\n",
        "b=eval(input(\"enter b inputs:\"))\n",
        "c=a+b\n",
        "c.sort()\n",
        "print(c)"
      ],
      "metadata": {
        "colab": {
          "base_uri": "https://localhost:8080/"
        },
        "id": "juAg3GHAlrbt",
        "outputId": "98a1935c-e8a4-4473-e307-de006a4b07f2"
      },
      "execution_count": null,
      "outputs": [
        {
          "output_type": "stream",
          "name": "stdout",
          "text": [
            "enter a inputs:[55,5,22,11]\n",
            "enter b inputs:[2,8,22,11,33]\n",
            "[2, 5, 8, 11, 11, 22, 22, 33, 55]\n"
          ]
        }
      ]
    },
    {
      "cell_type": "code",
      "source": [
        "\n",
        "#merge sort program\n",
        "'''\n",
        "Write  a  program  to  merge  two  sorted  lists  to  produce  another  sorted  list\n",
        "\n",
        "\n",
        "                                0      1      2       3         4\n",
        "Eg:  List  'a'   --->  [10  ,  20  , 30   ,  40   ,  50]\n",
        "       List  'b'   --->  [5  ,  12  , 20   ,  37]\n",
        "\t                            0     1       2       3\n",
        "\t   List  'c' --->  [5 , 10 , 12 , 20 , 20 , 30 , 37 , 40 , 50]\n",
        "\n",
        "Hint1 :  Unsorted  lists  can  not  be  merged\n",
        "\n",
        "Hint2 :  Use  single  while  loop\n",
        "'''\n",
        "\n",
        "#without using sort method and using while condition\n",
        "a=eval(input(\"enter a elements:\"))\n",
        "b=eval(input(\"enter b elements\"))\n",
        "a.sort()\n",
        "b.sort()\n",
        "i=j=0\n",
        "c=[]\n",
        "while i<len(a) and j<len(b):\n",
        "  if a[i]>b[j]:\n",
        "    c.append(b[j])\n",
        "    j=j+1\n",
        "  else:\n",
        "    c.append(a[i])\n",
        "    i=i+1\n",
        "c.extend(a[i:])\n",
        "c.extend(b[j:])\n",
        "print(c)"
      ],
      "metadata": {
        "colab": {
          "base_uri": "https://localhost:8080/"
        },
        "id": "OHsAgDqmJmRj",
        "outputId": "17767821-bc66-44a5-dacf-36ce197de32f"
      },
      "execution_count": null,
      "outputs": [
        {
          "output_type": "stream",
          "name": "stdout",
          "text": [
            "enter a elements:[5  ,  12  , 20   ,  37]\n",
            "enter b elements[10  ,  20  , 30   ,  40   ,  50]\n",
            "[5, 10, 12, 20, 20, 30, 37, 40, 50]\n"
          ]
        }
      ]
    },
    {
      "cell_type": "code",
      "source": [
        "'''\n",
        "Most  tricky  program\n",
        "Input :   List  of  strings\n",
        "              Eg: ['Swathi' , 'Anand' , 'Srinivas' , 'Zebra' , 'King' , 'Amar' ]\n",
        "Output :  Nested  list\n",
        "\t\t        i.e.  [['Swathi' , 'Srinivas'] , ['Anand' , 'Amar'] , ['Zebra'] , ['King']]\n",
        "\n",
        "Hint: Do  not  sort  the  lists\n",
        "\n",
        "1) b = ['S' , 'A' ,  , 'Z' , 'K' ]\n",
        "\n",
        "2) c = []\n",
        "\n",
        "3) Iteartion  1 :  d  = ['Swathi' , 'Srinivas']\n",
        "                           c =  [['Swathi' , 'Srinivas']]\n",
        "\n",
        "4) Iteartion  2 :  d  =  ['Anand' , 'Amar']\n",
        "                           c =   [['Swathi' , 'Srinivas'] , ['Anand' , 'Amar']]\n",
        "\n",
        "5) Iteartion  3 :  d  =  ['Zebra']\n",
        "                           c =   [['Swathi' , 'Srinivas'] , ['Anand' , 'Amar'] , ['Zebra']]\n",
        "\n",
        "6) Iteartion  4 :  d  =  ['King']\n",
        "                           c =   [['Swathi' , 'Srinivas'] , ['Anand' , 'Amar'] , ['Zebra'] , ['King']]\n",
        "'''\n",
        "\n",
        "\n",
        "# Enter  list  of  strings :  ['Swathi' , 'Anand' , 'Srinivas' , 'Zebra' , 'King' , 'Amar' ]\n",
        "# [['Swathi', 'Srinivas'], ['Anand', 'Amar'], ['Zebra'], ['King']]\n",
        "\n",
        "\n",
        "a=eval(input(\"enter the list of strings:\"))\n",
        "b=[]\n",
        "for i in a:\n",
        "  x=i[0]\n",
        "  if x not in b:\n",
        "    b.append(x)\n",
        "c=[]\n",
        "for j in b:\n",
        "  d=[]\n",
        "  for k in a:\n",
        "    if k.startswith(j):\n",
        "      d.append(k)\n",
        "  c.append(d)\n",
        "print(c)"
      ],
      "metadata": {
        "colab": {
          "base_uri": "https://localhost:8080/"
        },
        "id": "s5FfJ18zJmHc",
        "outputId": "5efce57a-9581-4eae-a2f9-c7a0b11b647b"
      },
      "execution_count": null,
      "outputs": [
        {
          "output_type": "stream",
          "name": "stdout",
          "text": [
            "enter the list of strings:['Swathi' , 'Anand' , 'Srinivas' , 'Zebra' , 'King' , 'Amar' ]\n",
            "[['Swathi', 'Srinivas'], ['Anand', 'Amar'], ['Zebra'], ['King']]\n"
          ]
        }
      ]
    },
    {
      "cell_type": "code",
      "source": [
        "a=eval(input(\"enter list of strings:\"))\n",
        "b=[]\n",
        "for str in a:\n",
        "  firstchar=str[0]\n",
        "  if firstchar not in b:\n",
        "    b.append(firstchar)\n",
        "c=[]\n",
        "for ch in b:\n",
        "  d=[]\n",
        "  for str in a:\n",
        "    if str.startswith(ch):\n",
        "      d.append(str)\n",
        "  c.append(d)\n",
        "print(c)"
      ],
      "metadata": {
        "colab": {
          "base_uri": "https://localhost:8080/"
        },
        "id": "RlPbCMTMJmD-",
        "outputId": "314b8ec7-6c6e-4f65-d1e7-198b7360ea9f"
      },
      "execution_count": null,
      "outputs": [
        {
          "output_type": "stream",
          "name": "stdout",
          "text": [
            "enter list of strings:['Swathi' , 'Anand' , 'Srinivas' , 'Zebra' , 'King' , 'Amar' ]\n",
            "[['Swathi', 'Srinivas'], ['Anand', 'Amar'], ['Zebra'], ['King']]\n"
          ]
        }
      ]
    },
    {
      "cell_type": "code",
      "source": [
        "'''\n",
        "Write  a  program  to  convert  a  nested  list  to  list  without  comprehension\n",
        "\n",
        "Let  input  be  [ [10 , 20] , [30 , 40 , 50] , [60 , 70 , 80 , 90]]\n",
        "What  is  the  output ?  --->  [10 , 20 , 30 , 40 , 50 , 60 , 70 , 80 , 90]\n",
        "'''\n",
        "# Enter nested list : [ [10 , 20] , [30 , 40 , 50] , [60 , 70 , 80 , 90]]\n",
        "# [10, 20, 30, 40, 50, 60, 70, 80, 90]\n",
        "\n",
        "\n",
        "a=eval(input(\"enter the nested list:\"))\n",
        "print(a)\n",
        "b=[]\n",
        "for i in a:\n",
        "  b.extend(i)\n",
        "print(b)"
      ],
      "metadata": {
        "colab": {
          "base_uri": "https://localhost:8080/"
        },
        "id": "j_G8FHUcJmBh",
        "outputId": "d54ce547-25d7-4bf6-8682-5ea27cd6fe42"
      },
      "execution_count": null,
      "outputs": [
        {
          "output_type": "stream",
          "name": "stdout",
          "text": [
            "enter the nested list:[ [10 , 20] , [30 , 40 , 50] , [60 , 70 , 80 , 90]]\n",
            "[[10, 20], [30, 40, 50], [60, 70, 80, 90]]\n",
            "[10, 20, 30, 40, 50, 60, 70, 80, 90]\n"
          ]
        }
      ]
    },
    {
      "cell_type": "code",
      "source": [
        "'''\n",
        "Write  a  program  to  convert  a  nested  list  to  list  with comprehension\n",
        "\n",
        "Let  input  be  [ [10 , 20] , [30 , 40 , 50] , [60 , 70 , 80 , 90]]\n",
        "What  is  the  output ?  --->  [10 , 20 , 30 , 40 , 50 , 60 , 70 , 80 , 90]\n",
        "'''\n",
        "# Enter nested list : [ [10 , 20] , [30 , 40 , 50] , [60 , 70 , 80 , 90]]\n",
        "# [10, 20, 30, 40, 50, 60, 70, 80, 90]\n",
        "a=eval(input(\"enter the nested list:\"))\n",
        "b=[y for x in a for y in x]\n",
        "print(b)"
      ],
      "metadata": {
        "colab": {
          "base_uri": "https://localhost:8080/"
        },
        "id": "0tDjdrT9Jl_k",
        "outputId": "a3510d1c-0e68-443c-945c-69f0a1a440a6"
      },
      "execution_count": null,
      "outputs": [
        {
          "output_type": "stream",
          "name": "stdout",
          "text": [
            "enter the nested list:[ [10 , 20] , [30 , 40 , 50] , [60 , 70 , 80 , 90]]\n",
            "[10, 20, 30, 40, 50, 60, 70, 80, 90]\n"
          ]
        }
      ]
    },
    {
      "cell_type": "code",
      "source": [
        "'''\n",
        "Write  a  program  to  concatenate  each  character  of  1st  string  with  every  character  of   2nd  string  without  comprehension\n",
        "\n",
        "Let  1st string  be  HYD  and   2nd string  be   PUNE\n",
        "What  is  the  result  ?  --->  ['HP' , 'HU' , 'HN' , 'HE' , 'YP' , 'YU' , 'YN' , 'YE' , 'DP' , 'DU' , 'DN' , 'DE']\n",
        "\n",
        "Hint: Same  as  previous  program\n",
        "'''\n",
        "#without comprehension\n",
        "a=eval(input(\"enter 1st string\"))\n",
        "b=eval(input(\"enter 2nd string\"))\n",
        "d=[]\n",
        "for i in a:\n",
        "  for j in b:\n",
        "    c=i+j\n",
        "    d.append(c)\n",
        "print(d)\n",
        "\n",
        "\n",
        "#with comprehension\n",
        "a=eval(input(\"enter 1st string\"))\n",
        "b=eval(input(\"enter 2nd string\"))\n",
        "c=[x+y for x in a for y in b]\n",
        "print(c)"
      ],
      "metadata": {
        "colab": {
          "base_uri": "https://localhost:8080/"
        },
        "id": "ygRCRGv6Jl8v",
        "outputId": "284c7e07-aae1-435d-93c5-0923dc81967e"
      },
      "execution_count": null,
      "outputs": [
        {
          "output_type": "stream",
          "name": "stdout",
          "text": [
            "enter 1st string\"HYD\"\n",
            "enter 2nd string\"PUNE\"\n",
            "['HP', 'HU', 'HN', 'HE', 'YP', 'YU', 'YN', 'YE', 'DP', 'DU', 'DN', 'DE']\n",
            "enter 1st string\"RANJITH\"\n",
            "enter 2nd string\"ADDAKULA\"\n",
            "['RA', 'RD', 'RD', 'RA', 'RK', 'RU', 'RL', 'RA', 'AA', 'AD', 'AD', 'AA', 'AK', 'AU', 'AL', 'AA', 'NA', 'ND', 'ND', 'NA', 'NK', 'NU', 'NL', 'NA', 'JA', 'JD', 'JD', 'JA', 'JK', 'JU', 'JL', 'JA', 'IA', 'ID', 'ID', 'IA', 'IK', 'IU', 'IL', 'IA', 'TA', 'TD', 'TD', 'TA', 'TK', 'TU', 'TL', 'TA', 'HA', 'HD', 'HD', 'HA', 'HK', 'HU', 'HL', 'HA']\n"
          ]
        }
      ]
    },
    {
      "cell_type": "code",
      "source": [
        "'''\n",
        "Write  a  program  to  append  each  word  of  the  sentence  and  its  length  to  a  list\n",
        "(word  should  be  in  capital  letters)  without  comprehension\n",
        "\n",
        "Let  input  be   hyd  is  green  city\n",
        "What  is  the  output ?  --->  [['HYD' , 3] , ['IS' , 2] , ['GREEN' , 5] , ['CITY', 4]]\n",
        "'''\n",
        "# Enter  any  sentence :  Students are getting bored\n",
        "# [['STUDENTS', 8], ['ARE', 3], ['GETTING', 7], ['BORED', 5]]\n",
        "\n",
        "\n",
        "a=input(\"enter any sentence:\")\n",
        "b=a.split()\n",
        "c=[]\n",
        "for i in b:\n",
        "  c.append([i.upper(),len(i)])\n",
        "print(b)"
      ],
      "metadata": {
        "colab": {
          "base_uri": "https://localhost:8080/"
        },
        "id": "0vtIijBHJl6E",
        "outputId": "803e3501-5aa5-4a89-a5c1-60f4e456499b"
      },
      "execution_count": null,
      "outputs": [
        {
          "output_type": "stream",
          "name": "stdout",
          "text": [
            "enter any sentence:Students are getting bored\n",
            "['Students', 'are', 'getting', 'bored']\n"
          ]
        }
      ]
    },
    {
      "cell_type": "code",
      "source": [
        "'''\n",
        "Write  a  program  to  delete  'all'  occurences  of  'x'  from  the  list\n",
        "\n",
        "Let  1st  input  be   [10 , 20 , 15 , 18 , 19 , 15 , 17 , 20 , 15 , 14]  and\n",
        "2nd  input  be  15\n",
        "What  is  the  output ?  ---> [10 , 20 ,  18 , 19 , 17 , 20 , 14]\n",
        "'''\n",
        "# Enter List  :  [10 , 20 , 15 , 18 , 19 , 15 , 17 , 20 , 15 , 14]\n",
        "# Enter  element  to  be  deleted : 15\n",
        "# List  without   15's :  [10, 20, 18, 19, 17, 20, 14]\n",
        "\n",
        "# a=eval(input(\"enter list:\"))\n",
        "# b=set(a)\n",
        "# n=eval(input(\"enter delete element\"))\n",
        "# if n in b:\n",
        "#   b.remove(n)\n",
        "# print(b)\n",
        "\n",
        "\n",
        "#without converting in to the set use while condition\n",
        "a=eval(input(\"enter list:\"))\n",
        "n=eval(input(\"enter delete element\"))\n",
        "while n in a:\n",
        "  a.remove(n)\n",
        "print(a)\n",
        "\n"
      ],
      "metadata": {
        "colab": {
          "base_uri": "https://localhost:8080/"
        },
        "id": "-8BCRq6WJlwI",
        "outputId": "0d0b46e8-8bc3-415a-edd6-6d78b39a4a1b"
      },
      "execution_count": null,
      "outputs": [
        {
          "output_type": "stream",
          "name": "stdout",
          "text": [
            "enter list:[10 , 20 , 15 , 18 , 19 , 15 , 17 , 20 , 15 , 14]\n",
            "enter delete element15\n",
            "[10, 20, 18, 19, 17, 20, 14]\n"
          ]
        }
      ]
    },
    {
      "cell_type": "code",
      "source": [
        "'''\n",
        "Write  a  program  to  sort  string  such  that  alphabets  in  alphabetical  order  and  digits  in  ascending  order\n",
        "\n",
        "Let  input  be  Z9K3PA7D51\n",
        "What  is  the  output ?  --->  ADKPZ13579\n",
        "\n",
        "1)What  is  the  result  after  input  is  sorted ?  --->  '13579ADKPZ'\n",
        "\n",
        "2) alpha = '' + 'A' + 'D' + 'K' + 'P' + 'Z'\n",
        "    digit = '' + '1' + '3' + '5' + '7' + '9'\n",
        "\n",
        "3) What  is  the  result  after  alpha  and  digit  are  concatenated ?  --->  'ADKPZ13579'\n",
        "'''\n",
        "\n",
        "a=input(\"enter input be\")\n",
        "b=c=\"\"\n",
        "for i in a:\n",
        "  if i.isalpha():\n",
        "    b=b+i\n",
        "  else:\n",
        "    c=c+i\n",
        "d=b+c\n",
        "print(d)"
      ],
      "metadata": {
        "colab": {
          "base_uri": "https://localhost:8080/"
        },
        "id": "ZQd9t3purJxU",
        "outputId": "b285e377-7455-4076-ef97-4937168809b9"
      },
      "execution_count": null,
      "outputs": [
        {
          "output_type": "stream",
          "name": "stdout",
          "text": [
            "enter input beZ9K3PA7D51\n",
            "ZKPAD93751\n"
          ]
        }
      ]
    },
    {
      "cell_type": "code",
      "source": [
        "'''\n",
        "Write  a  program  to  sort  string  in  alphabetical  order\n",
        "\n",
        "Let  input  be  RAJESH\n",
        "What  is  the  output ?  --->  AEHJRS\n",
        "'''\n",
        "\n",
        "a=input(\"enter input:\")\n",
        "b=sorted(a)\n",
        "print(b)\n",
        "c=\"\".join(b)\n",
        "print(c)"
      ],
      "metadata": {
        "colab": {
          "base_uri": "https://localhost:8080/"
        },
        "id": "W-AaRKourJt8",
        "outputId": "662a9509-184e-4452-ef95-79a094c68e14"
      },
      "execution_count": null,
      "outputs": [
        {
          "output_type": "stream",
          "name": "stdout",
          "text": [
            "enter input:RAJESH\n",
            "['A', 'E', 'H', 'J', 'R', 'S']\n",
            "AEHJRS\n"
          ]
        }
      ]
    },
    {
      "cell_type": "code",
      "source": [
        "'''\n",
        "Write  a  program  to  reverse  each  word  of  the  sentence\n",
        "\n",
        "1) Let  input  be  Hyd  is  green  city\n",
        "    What  is  the  output ?  ---> dyH si neerg ytic\n",
        "\n",
        "2) Hint: Use  for  each  loop  and  also  slice\n",
        "'''\n",
        "\n",
        "a=input(\"enter word\")\n",
        "b=a.split()\n",
        "c=\"\"\n",
        "for i in b:\n",
        "  c=c+i[::-1]+\" \" #d=i[::-1]\n",
        "  # c=c+d+\" \"\n",
        "print(c)"
      ],
      "metadata": {
        "colab": {
          "base_uri": "https://localhost:8080/"
        },
        "id": "JqKZHQrVrJrm",
        "outputId": "ebdf627d-ce20-42fd-a8c6-9fa99406601a"
      },
      "execution_count": null,
      "outputs": [
        {
          "output_type": "stream",
          "name": "stdout",
          "text": [
            "enter wordHyd  is  green  city\n",
            "dyH si neerg ytic \n"
          ]
        }
      ]
    },
    {
      "cell_type": "code",
      "source": [
        "'''\n",
        "Write  a  program  to  reverse  order  of  words  in  the  sentence  without  slice\n",
        "\n",
        "1) Let  input  be  Hyd  is  green  city\n",
        "    What  is  the  output ?  ---> city   green   is   Hyd\n",
        "\n",
        "2) What  is  the  result  of  input . split() ?  --->  ['Hyd' , 'is' , 'green' , 'city']   --->   Assume  that  it  is  'b'\n",
        "\n",
        "3) i        b[-i]           c\n",
        "   ---------------------------------------------\n",
        "                              ''\n",
        "   1        'city'         '' + 'city' + ' '=  'city '\n",
        "   2        'green'     'city ' + 'green' + ' ' = 'city green '\n",
        "   3        'is'            'city green ' + 'is' + ' ' =  'city green is '\n",
        "   4        'Hyd'        'city green is ' + 'Hyd' + ' ' = 'city green is Hyd '\n",
        "   --------------------------------------------------------\n",
        "'''\n",
        "a=input(\"enter word\")\n",
        "b=a.split()\n",
        "c=\"\"\n",
        "for i in range(1,len(b)+1):\n",
        "  c=c+b[-i]+\" \"\n",
        "print(c)\n"
      ],
      "metadata": {
        "colab": {
          "base_uri": "https://localhost:8080/"
        },
        "id": "joSPc2_ArJpN",
        "outputId": "f4d251ff-6f97-4e1a-e5a7-869d24f93e98"
      },
      "execution_count": null,
      "outputs": [
        {
          "output_type": "stream",
          "name": "stdout",
          "text": [
            "enter wordHyd  is  green  city\n",
            "city green is Hyd \n"
          ]
        }
      ]
    },
    {
      "cell_type": "code",
      "source": [
        "'''\n",
        "Write  a  program  to  reverse  a  string  without  slice\n",
        "\n",
        "1) Let  input  be   Hyd\n",
        "    What  is  the  output ?  --->  dyH\n",
        "\n",
        "2)   H       y      d\n",
        "      -3     -2     -1\n",
        "\n",
        "      i       a[-i]            b\n",
        "    ---------------------------------------\n",
        "                                ''\n",
        "     1        'd'             '' + 'd' = 'd'\n",
        "     2       'y'             'd' + 'y' = 'dy'\n",
        "     3       'H'            'dy' + 'H' = 'dyH'\n",
        "  ---------------------------------------------\n",
        "'''\n",
        "# Enter  any  string : Rama Rao\n",
        "# Reverse  String :   oaR amaR\n",
        "a=input(\"enter word\")\n",
        "# b=a.split()\n",
        "c=\"\"\n",
        "for i in range(1,len(a)+1):\n",
        "  c=c+a[-i]\n",
        "print(c)"
      ],
      "metadata": {
        "colab": {
          "base_uri": "https://localhost:8080/"
        },
        "id": "r_JJ8Lv8rJm6",
        "outputId": "749f3775-176d-44f0-a765-61d9d67bf3a4"
      },
      "execution_count": null,
      "outputs": [
        {
          "output_type": "stream",
          "name": "stdout",
          "text": [
            "enter wordRama Rao\n",
            "oaR amaR\n"
          ]
        }
      ]
    },
    {
      "cell_type": "code",
      "source": [
        "'''\n",
        "Write  a  program  to  print  distinct  vowels  of  the  string  without  using  set\n",
        "\n",
        "1) Let  input  be   RaMA  rAo\n",
        "    What  is  the  output ?  ---> AO\n",
        "\n",
        "2) Hint  1:  Same  as   prog3e  with  minor  changes\n",
        "\n",
        "3) What  does  'hyd' . upper()  do ? --->  Returns  'HYD'\n",
        "'''\n",
        "\n",
        "\n",
        "\n",
        "a=input(\"enter word\")\n",
        "x=a.upper()\n",
        "b=\"AEIOU\"\n",
        "c=\"\"\n",
        "for i in x:\n",
        "  if i in b and i not in c:\n",
        "    c=c+i\n",
        "print(c)\n"
      ],
      "metadata": {
        "colab": {
          "base_uri": "https://localhost:8080/"
        },
        "id": "rAdL_zCErJk2",
        "outputId": "c31b1379-7561-462c-bd62-03302452dcc2"
      },
      "execution_count": null,
      "outputs": [
        {
          "output_type": "stream",
          "name": "stdout",
          "text": [
            "enter wordRaMA  rAo\n",
            "AO\n"
          ]
        }
      ]
    },
    {
      "cell_type": "code",
      "source": [
        "'''\n",
        "Let  input  be  A4M3Z5D2\n",
        "\n",
        "What  is  the  output ?  --->  AEMPZ_DF\n",
        "\n",
        " 0     1     2     3    4    5    6     7\n",
        " A    4     M    3    Z    5    D     2\n",
        "\n",
        "\n",
        "   i       a[i]      a[i + 1]         out\n",
        "--------------------------------------------------------------------------------\n",
        "                                          ''\n",
        "  0       'A'           '4'          '' + 'A' + chr(65 + 4) = '' + 'A' + 'E' = 'AE'\n",
        "\n",
        "  2       'M'           '3'          'AE' + 'M' + chr(77 + 3) = 'AE' + 'M' + 'P' = 'AEMP'\n",
        "\n",
        "  4       'Z'           '5'          'AEMP' + 'Z' + chr(90 + 5) = 'AEMP' + 'Z' + '' = 'AEMPZ'\n",
        "\n",
        "  6       'D'           '2'          'AEMPZ_' + 'D' + chr(68 + 2) = 'AEMPZ_' + 'D' + 'F' = 'AEMPZ_DF'\n",
        "-----------------------------------------------------------------------------------\n",
        "Hint: Use  chr()  and  ord()  functions\n",
        "'''\n",
        "# Enter  any  string  with  alternate  character  and  digit  :  A4M3Z5D2\n",
        "# Result  :   AEMPZ_DF\n",
        "\n",
        "# Enter  any  string  with  alternate  character  and  digit  :  HYD\n",
        "# Pls  enter  string  with  alternate  char  and  digit\n",
        "\n",
        "\n",
        "try:\n",
        "  a=input(\"Enter  any  string  with  alternate  character  and  digit  :\")\n",
        "  b=\"\"\n",
        "  for i in range(0,len(a),2):\n",
        "    b=b+a[i]+chr(ord(a[i])+int(a[i+1]))\n",
        "  print(\"the result is:\",b)\n",
        "except:\n",
        "  print(\"Pls enter string with alternate char and digit\")"
      ],
      "metadata": {
        "id": "QW0eC06_rJim",
        "colab": {
          "base_uri": "https://localhost:8080/"
        },
        "outputId": "faa15503-cc6e-43fd-818c-00eec1c3c858"
      },
      "execution_count": 85,
      "outputs": [
        {
          "output_type": "stream",
          "name": "stdout",
          "text": [
            "Enter  any  string  with  alternate  character  and  digit  :A4M3Z5D2\n",
            "the result is: AEMPZ_DF\n"
          ]
        }
      ]
    },
    {
      "cell_type": "code",
      "source": [],
      "metadata": {
        "id": "jLkoE8dArJgQ"
      },
      "execution_count": null,
      "outputs": []
    },
    {
      "cell_type": "code",
      "source": [],
      "metadata": {
        "id": "j5HrxXaTrJeF"
      },
      "execution_count": null,
      "outputs": []
    },
    {
      "cell_type": "code",
      "source": [],
      "metadata": {
        "id": "bkmkVDJCrJbs"
      },
      "execution_count": null,
      "outputs": []
    }
  ]
}