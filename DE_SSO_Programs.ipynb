{
  "nbformat": 4,
  "nbformat_minor": 0,
  "metadata": {
    "colab": {
      "provenance": [],
      "authorship_tag": "ABX9TyMzJUx/cg+DGFROrVXUJlNf",
      "include_colab_link": true
    },
    "kernelspec": {
      "name": "python3",
      "display_name": "Python 3"
    },
    "language_info": {
      "name": "python"
    }
  },
  "cells": [
    {
      "cell_type": "markdown",
      "metadata": {
        "id": "view-in-github",
        "colab_type": "text"
      },
      "source": [
        "<a href=\"https://colab.research.google.com/github/Addakularanjith123/DE-SSO/blob/main/DE_SSO_Programs.ipynb\" target=\"_parent\"><img src=\"https://colab.research.google.com/assets/colab-badge.svg\" alt=\"Open In Colab\"/></a>"
      ]
    },
    {
      "cell_type": "code",
      "execution_count": 24,
      "metadata": {
        "colab": {
          "base_uri": "https://localhost:8080/"
        },
        "id": "z5c4EtZr1ia9",
        "outputId": "3bee24c6-9c8c-41cc-fd9d-e9dedc609eee"
      },
      "outputs": [
        {
          "output_type": "stream",
          "name": "stdout",
          "text": [
            "Enter a:5\n",
            "Enter b:\"Ranjith\"\n",
            "values before swapping a=5 b=Ranjith\n",
            "values after swapping a=Ranjith b=5\n"
          ]
        }
      ],
      "source": [
        "a=eval(input(\"Enter a:\"))\n",
        "b=eval(input(\"Enter b:\"))\n",
        "print(f'values before swapping a={a} b={b}')\n",
        "# a=b\n",
        "# b=a\n",
        "a,b=b,a\n",
        "print(f'values after swapping a={a} b={b}')"
      ]
    },
    {
      "cell_type": "code",
      "source": [
        "#  Find  outputs  (Home  work)\n",
        "x = 25\n",
        "y = F'{x}'\n",
        "print(y) #25\n",
        "print(type(y)) #<class str>\n",
        "x = 10.8\n",
        "y = F'{x}'\n",
        "print(y) #10.8\n",
        "print(type(y)) #<class str>\n",
        "x = [10,20,30,40]\n",
        "y = F'{x}'\n",
        "print(y) #[10,20,30,40]\n",
        "print(type(y)) ##<class str>"
      ],
      "metadata": {
        "colab": {
          "base_uri": "https://localhost:8080/"
        },
        "id": "8WU9fQnl4eqf",
        "outputId": "a58261e4-ecf3-4f66-df98-21b226354cb8"
      },
      "execution_count": 25,
      "outputs": [
        {
          "output_type": "stream",
          "name": "stdout",
          "text": [
            "25\n",
            "<class 'str'>\n",
            "10.8\n",
            "<class 'str'>\n",
            "[10, 20, 30, 40]\n",
            "<class 'str'>\n"
          ]
        }
      ]
    },
    {
      "cell_type": "code",
      "source": [
        "#Find  outputs  (Home  work)\n",
        "a ,  b , c = 25 , 10.8 , 'Hyd'\n",
        "print(F'{a}  \\t   {b}   \\t  {c}') #25 10.8  'Hyd'\n",
        "print(F'a = {a}  \\t  b  =  {b}  \\t  c  =  {c}') # a=25  b=10.8  c='Hyd'\n",
        "print(F'{a=}  \\t   {b=}   \\t  {c=}') #25 10.8  'Hyd'\n",
        "print(F'{a:}  \\t   {b:}   \\t  {c:}') #Error\n",
        "print('a  =  {a}  \\t  b  =  {b}  \\t  c  =   {c}') # a=25  b=10.8  c='Hyd'\n",
        "print(F'a  =  a  \\t  b  =  b  \\t  c  =  c') #Error\n",
        "# print(F'{x =}  \\t   {y =}   \\t  {z=}') #Error"
      ],
      "metadata": {
        "colab": {
          "base_uri": "https://localhost:8080/"
        },
        "id": "Z_1gmtM84flf",
        "outputId": "f9d07d58-3ab3-4c8f-eb77-e33e5106d82e"
      },
      "execution_count": 19,
      "outputs": [
        {
          "output_type": "stream",
          "name": "stdout",
          "text": [
            "25  \t   10.8   \t  Hyd\n",
            "a = 25  \t  b  =  10.8  \t  c  =  Hyd\n",
            "a=25  \t   b=10.8   \t  c='Hyd'\n",
            "25  \t   10.8   \t  Hyd\n",
            "a  =  {a}  \t  b  =  {b}  \t  c  =   {c}\n",
            "a  =  a  \t  b  =  b  \t  c  =  c\n"
          ]
        }
      ]
    },
    {
      "cell_type": "code",
      "source": [
        "x = 25\n",
        "print(F'{x}')  #  25\n",
        "print(F'{{x}}')   #  {x}\n",
        "print(F'{{{x}}}')  #   {25}\n",
        "print(F'{{{{x}}}}') # {{x}}\n",
        "print(F'{{{{{x}}}}}') #{{25}}\n",
        "print(F'{{{{{{x}}}}}}') # {{{x}}}\n",
        "print(F'{{{{{{{x}}}}}}}') # {{{25}}}\n",
        "print(F'{{{{{{{{x}}}}}}}}') #{{{{x}}}}\n",
        "\n",
        "\n",
        "'''\n",
        "1) What  is  printed  when  'x'  is  in  even  number  of  braces ?  --->  'x'  itself\n",
        "\n",
        "2) What  is  printed  when  'x'  is  in  odd  number  of  braces ?  --->  Value   of  'x'  in  the  form  of  string\n",
        "\n",
        "3) How  many  braces  are  printed  in  the  output ?  --->  Number  of  braces  //  2\n",
        "'''\n"
      ],
      "metadata": {
        "colab": {
          "base_uri": "https://localhost:8080/",
          "height": 192
        },
        "id": "T8_ydPbw4fn9",
        "outputId": "cf4583c4-3c9b-4808-f1d7-03b78f340575"
      },
      "execution_count": 21,
      "outputs": [
        {
          "output_type": "stream",
          "name": "stdout",
          "text": [
            "25\n",
            "{x}\n",
            "{25}\n",
            "{{x}}\n",
            "{{25}}\n",
            "{{{x}}}\n",
            "{{{25}}}\n",
            "{{{{x}}}}\n"
          ]
        },
        {
          "output_type": "execute_result",
          "data": {
            "text/plain": [
              "\"\\n1) What  is  printed  when  'x'  is  in  even  number  of  braces ?  --->  'x'  itself\\n\\n2) What  is  printed  when  'x'  is  in  odd  number  of  braces ?  --->  Value   of  'x'  in  the  form  of  string\\n\\n3) How  many  braces  are  printed  in  the  output ?  --->  Number  of  braces\\xa0\\xa0//\\xa0\\xa02\\n\""
            ],
            "application/vnd.google.colaboratory.intrinsic+json": {
              "type": "string"
            }
          },
          "metadata": {},
          "execution_count": 21
        }
      ]
    },
    {
      "cell_type": "code",
      "source": [
        "'''Hint:  Use  F  string  to  print  results\n",
        "\n",
        "Let  inputs  be  10  and  7,\n",
        "What  is  the  sum ?  --->  17\n",
        "What  is  the  difference ?  --->  3\n",
        "What  is  the  product ?  ---> 70\n",
        "What  is  the  quotient ?  --->  1.42\n",
        "What  is  the  remainder ?  --->  3\n",
        "What  is  the  largest  number ?  ---> 10\n",
        "What  is  the  smallest  number ?  --->  7\n",
        "What  is  the  sqrt  of  1st  input ?  --->  3.16\n",
        "What  is  the  result  of  power?  --->  10000000\n",
        "What  is  the  gcd  of  2  numbers ?  ---> 1\n",
        "What  is  the  factorial   of  1st  input ?  ---> 10!\n",
        "'''\n",
        "import builtins\n",
        "import math\n",
        "intput1=eval(input(\"enter input1 value\"))\n",
        "input2=eval(input(\"enter input2 value\"))\n",
        "print(f'sum of {intput1} and {input2} is {intput1+input2}')\n",
        "print(f'difference of {intput1} and {input2} is {intput1-input2}')\n",
        "print(f'product of {intput1} and {input2} is {intput1*input2}')\n",
        "print(f'quotient of {intput1} and {input2} is {intput1/input2}')\n",
        "print(f'remainder of {intput1} and {input2} is {intput1%input2}')\n",
        "print(f'largest of {intput1} and {input2} is {max(intput1,input2)}')\n",
        "print(f'smallest of {intput1} and {input2} is {min(intput1,input2)}')\n",
        "print(f'sqrt of {intput1} is {intput1**0.5}')\n",
        "print(f'{intput1} power {input2} is {intput1**input2}')\n",
        "print(f'gcd of {intput1} and {input2} is {math.gcd(intput1,input2)}')\n",
        "print(f'factorial of {intput1} is {math.factorial(intput1)}')"
      ],
      "metadata": {
        "id": "0LaI36QP4fqZ"
      },
      "execution_count": null,
      "outputs": []
    },
    {
      "cell_type": "code",
      "source": [],
      "metadata": {
        "id": "RzhvHds74fs2"
      },
      "execution_count": null,
      "outputs": []
    },
    {
      "cell_type": "code",
      "source": [],
      "metadata": {
        "id": "OHQyCyhUAN_P"
      },
      "execution_count": null,
      "outputs": []
    },
    {
      "cell_type": "code",
      "source": [],
      "metadata": {
        "id": "09dnqksiAOB0"
      },
      "execution_count": null,
      "outputs": []
    },
    {
      "cell_type": "code",
      "source": [],
      "metadata": {
        "id": "5yHTMeXGAOEl"
      },
      "execution_count": null,
      "outputs": []
    },
    {
      "cell_type": "code",
      "source": [],
      "metadata": {
        "id": "8FuPtocpAOHS"
      },
      "execution_count": null,
      "outputs": []
    },
    {
      "cell_type": "code",
      "source": [],
      "metadata": {
        "id": "08rcLBqGAOKD"
      },
      "execution_count": null,
      "outputs": []
    },
    {
      "cell_type": "code",
      "source": [],
      "metadata": {
        "id": "Mf7YIiq6AOM4"
      },
      "execution_count": null,
      "outputs": []
    },
    {
      "cell_type": "code",
      "source": [],
      "metadata": {
        "id": "SjT-l72NAOPp"
      },
      "execution_count": null,
      "outputs": []
    },
    {
      "cell_type": "code",
      "source": [],
      "metadata": {
        "id": "Ya2iojB4AOSs"
      },
      "execution_count": null,
      "outputs": []
    },
    {
      "cell_type": "code",
      "source": [],
      "metadata": {
        "id": "dqP5RDr4AOVp"
      },
      "execution_count": null,
      "outputs": []
    },
    {
      "cell_type": "code",
      "source": [],
      "metadata": {
        "id": "Fu6QMRQlAOYa"
      },
      "execution_count": null,
      "outputs": []
    },
    {
      "cell_type": "code",
      "source": [],
      "metadata": {
        "id": "SeIbN3AKAObt"
      },
      "execution_count": null,
      "outputs": []
    },
    {
      "cell_type": "code",
      "source": [],
      "metadata": {
        "id": "VSip5j7u4fva"
      },
      "execution_count": null,
      "outputs": []
    },
    {
      "cell_type": "code",
      "source": [],
      "metadata": {
        "id": "sp1Ym_g34fzF"
      },
      "execution_count": null,
      "outputs": []
    },
    {
      "cell_type": "code",
      "source": [],
      "metadata": {
        "id": "X1JDW-dp4f1_"
      },
      "execution_count": null,
      "outputs": []
    },
    {
      "cell_type": "code",
      "source": [],
      "metadata": {
        "id": "ftv6gJ9y4f4i"
      },
      "execution_count": null,
      "outputs": []
    },
    {
      "cell_type": "code",
      "source": [
        "'''Hint:  Use  F  string  to  print  results\n",
        "\n",
        "Let  inputs  be  10  and  7,\n",
        "What  is  the  sum ?  --->  17\n",
        "What  is  the  difference ?  --->  3\n",
        "What  is  the  product ?  ---> 70\n",
        "What  is  the  quotient ?  --->  1.42\n",
        "What  is  the  remainder ?  --->  3\n",
        "What  is  the  largest  number ?  ---> 10\n",
        "What  is  the  smallest  number ?  --->  7\n",
        "What  is  the  sqrt  of  1st  input ?  --->  3.16\n",
        "What  is  the  result  of  power?  --->  10000000\n",
        "What  is  the  gcd  of  2  numbers ?  ---> 1\n",
        "What  is  the  factorial   of  1st  input ?  ---> 10!\n",
        "'''\n",
        "import builtins\n",
        "import math\n",
        "intput1=eval(input(\"enter input1 value\"))\n",
        "input2=eval(input(\"enter input2 value\"))\n",
        "\n",
        "\n",
        "\n",
        "\n",
        "\n",
        "\n",
        "\n",
        "\n",
        "\n",
        "\n",
        "\n",
        "\n",
        "\n",
        "\n",
        "\n",
        "\n",
        "\n",
        "\n",
        "\n",
        "\n",
        "a=eval(input(\"Enter a:\"))\n",
        "b=eval(input(\"Enter b:\"))\n",
        "print(f'values before swapping a={a} b={b}')\n",
        "# a=b\n",
        "# b=a\n",
        "a,b=b,a\n",
        "print(f'values after swapping a={a} b={b}')\n"
      ],
      "metadata": {
        "colab": {
          "base_uri": "https://localhost:8080/"
        },
        "id": "yV1w93Fx4f7x",
        "outputId": "e02c1a00-9730-441a-e0e5-c18058688970"
      },
      "execution_count": 26,
      "outputs": [
        {
          "name": "stdout",
          "output_type": "stream",
          "text": [
            "enter input1 value55\n",
            "enter input2 value44\n"
          ]
        }
      ]
    },
    {
      "cell_type": "code",
      "source": [
        "'''Hint:  Use  F  string  to  print  results\n",
        "\n",
        "Let  inputs  be  10  and  7,\n",
        "What  is  the  sum ?  --->  17\n",
        "What  is  the  difference ?  --->  3\n",
        "What  is  the  product ?  ---> 70\n",
        "What  is  the  quotient ?  --->  1.42\n",
        "What  is  the  remainder ?  --->  3\n",
        "What  is  the  largest  number ?  ---> 10\n",
        "What  is  the  smallest  number ?  --->  7\n",
        "What  is  the  sqrt  of  1st  input ?  --->  3.16\n",
        "What  is  the  result  of  power?  --->  10000000\n",
        "What  is  the  gcd  of  2  numbers ?  ---> 1\n",
        "What  is  the  factorial   of  1st  input ?  ---> 10!\n",
        "'''\n",
        "import builtins\n",
        "import math\n",
        "input1=eval(input(\"enter input1 value:\"))\n",
        "input2=eval(input(\"enter input2 value:\"))\n",
        "print(f'the sum of {input1} and {input2} is {input1+input2}')\n",
        "print(f'the difference of {input1} and {input2} is {input1-input2}')\n",
        "print(f'the product of {input1} and {input2} is {input1*input2}')\n",
        "print(f'the quotient of {input1} and {input2} is {input1/input2:.2f}')\n",
        "print(f'the remainder of {input1} and {input2} is {input1%input2}')\n",
        "print(f'the maximum of {input1} and {input2} is {builtins.max(input1,input2)}')\n",
        "print(f'the minimum of {input1} and {input2} is {builtins.min(input1,input2)}')\n",
        "print(f'the square root of {input1} is {math.sqrt(input1):.2f}')\n",
        "print(f'the power of {input1} and {input2} is {builtins.pow(input1,input2)}')\n",
        "print(f'the gcd of {input1} and {input2} is {math.gcd(input1,input2)}')\n",
        "print(f'the factorial of {input1} and {input2} is {math.factorial(input1)}')"
      ],
      "metadata": {
        "colab": {
          "base_uri": "https://localhost:8080/"
        },
        "id": "vb22FmOX4f_M",
        "outputId": "2ed75153-31e3-4220-8730-476398042c8b"
      },
      "execution_count": 24,
      "outputs": [
        {
          "output_type": "stream",
          "name": "stdout",
          "text": [
            "enter input1 value:10\n",
            "enter input2 value:7\n",
            "the sum of 10 and 7 is 17\n",
            "the difference of 10 and 7 is 3\n",
            "the product of 10 and 7 is 70\n",
            "the quotient of 10 and 7 is 1.43\n",
            "the remainder of 10 and 7 is 3\n",
            "the maximum of 10 and 7 is 10\n",
            "the square root of 10 is 3.16\n",
            "the power of 10 and 7 is 10000000\n",
            "the gcd of 10 and 7 is 1\n",
            "the gcd of 10 and 7 is 3628800\n"
          ]
        }
      ]
    },
    {
      "cell_type": "code",
      "source": [
        "import builtins\n",
        "import math\n",
        "input1=eval(input(\"enter input1 value:\"))\n",
        "input2=eval(input(\"enter input2 value:\"))\n",
        "print(f'{input1} + {input2} = {input1+input2}')\n",
        "print(f'{input1} - {input2} = {input1-input2}')\n",
        "print(f'{input1} * {input2} = {input1*input2}')\n",
        "print(f'{input1} / {input2} = {input1/input2}')\n",
        "print(f'{input1} % {input2} = {input1%input2}')\n",
        "print(f'max({input1},{input2})={builtins.max(input1,input2)}')\n",
        "print(f'min({input1},{input2})={builtins.min(input1,input2)}')\n",
        "print(f'{input1}^{input2}={builtins.pow(input1,input2)}')\n",
        "print(f'sqrt({input1})={math.sqrt(input1)}')\n",
        "print(f'gcd({input1},{input2})={math.gcd(input1,input2)}')\n",
        "print(f'fact({input1})={math.factorial(input1)}')"
      ],
      "metadata": {
        "colab": {
          "base_uri": "https://localhost:8080/"
        },
        "id": "vl1R6G9D3v-r",
        "outputId": "b669d428-b59a-4553-822d-0ce3e4c483ea"
      },
      "execution_count": 30,
      "outputs": [
        {
          "output_type": "stream",
          "name": "stdout",
          "text": [
            "enter input1 value:10\n",
            "enter input2 value:7\n",
            "10 + 7 = 17\n",
            "10 - 7 = 3\n",
            "10 * 7 = 70\n",
            "10 / 7 = 1.4285714285714286\n",
            "10 % 7 = 3\n",
            "max(10,7)=10\n",
            "min(10,7)=7\n",
            "10^7=10000000\n",
            "sqrt(10)=3.1622776601683795\n",
            "gcd(10,7)=1\n",
            "fact(10)=3628800\n"
          ]
        }
      ]
    },
    {
      "cell_type": "code",
      "source": [
        "'''\n",
        "Write  a  program  to  swap  values  of  any  two  objects  in  a  single  statement  without  using  3rd  object\n",
        "\n",
        "Let  'x'  be  25  and  'y'  be   'Hyd'\n",
        "What  are  'x'  and  'y'  after  swap ?  ---> Hyd  and  25\n",
        "\n",
        "Hint:  Swap  references  but  not  objects\n",
        "\n",
        "\n",
        "Enter  1st  input :  25\n",
        "Enter  2nd  input : Hyd\n",
        "Before  swap :  x='25'            y='Hyd'\n",
        "After  swap :  x='Hyd'            y='25'\n",
        "'''\n",
        "x=input(f'{\"Enter x value\"}')\n",
        "y=input(f'{\"Enter y value\"}')\n",
        "print(f\" Before swap x= '{x}'    y= '{y}' \") #print(f' Before swap x= '{x}'    y= '{y}' ) the comment print gives error because interpreter upto(f'.....swap x=') as fstringend {x}' for this it gives error\n",
        "x,y=y,x\n",
        "print(f\"After swap:x='{x}'    y='{y}'\")"
      ],
      "metadata": {
        "colab": {
          "base_uri": "https://localhost:8080/"
        },
        "id": "-mBxQd1hE8w5",
        "outputId": "bac35ed4-558e-433e-b01e-580914d22cb1"
      },
      "execution_count": 17,
      "outputs": [
        {
          "output_type": "stream",
          "name": "stdout",
          "text": [
            "Enter x value25\n",
            "Enter y valueHyd\n",
            " Before swap x= '25'    y= 'Hyd' \n",
            "After swap:x='Hyd'    y='25'\n"
          ]
        }
      ]
    },
    {
      "cell_type": "code",
      "source": [
        "'''\n",
        "Write  a  program  to  determine  largest  of  three  inputs  without  using  max()  function\n",
        "\n",
        "1) What  is  the  output  if  inputs  are  10 , 20  and  15 ?   --->  20\n",
        "\n",
        "2) What  is  the  output  if  inputs  are  35.8 , 42.8  and  27.9 ?   --->  42.8\n",
        "\n",
        "3) What  is  the  output  if  inputs  are  'RAMA'  , 'RAKESH'  and  'RAJESH' ?   --->  'RAMA'\n",
        "\n",
        "4) What  is   the  output  if  inputs  are  [10 , 20 , 15 , 18]  , [10 , 20 , 32, 19]  and  [10 , 20 , 25, 17] ?  ---> [10 , 20 , 32 , 19]\n",
        "\n",
        "5) Inputs  can  be  integers , floats , strings  and  so  on\n",
        "\n",
        "6) Use  nested  ternary  operator\n",
        "'''\n",
        "\n"
      ],
      "metadata": {
        "id": "j70eaqVXzfeI"
      },
      "execution_count": null,
      "outputs": []
    },
    {
      "cell_type": "code",
      "source": [],
      "metadata": {
        "id": "1nRD-_882w3p"
      },
      "execution_count": null,
      "outputs": []
    },
    {
      "cell_type": "code",
      "source": [],
      "metadata": {
        "id": "043F-8gJ37Un"
      },
      "execution_count": null,
      "outputs": []
    },
    {
      "cell_type": "code",
      "source": [
        "x=eval(input(\"enter x value:\"))\n",
        "y=eval(input(\"enter y value:\"))\n",
        "print(f'{x}')\n",
        "print(f'{y}')"
      ],
      "metadata": {
        "colab": {
          "base_uri": "https://localhost:8080/"
        },
        "id": "W-cK-_4932ov",
        "outputId": "0160d7e1-bcb9-4b58-b122-f741afbb1aa6"
      },
      "execution_count": 23,
      "outputs": [
        {
          "output_type": "stream",
          "name": "stdout",
          "text": [
            "enter x value4\n",
            "enter y value\"ranjith\"\n",
            "4\n",
            "ranjith\n"
          ]
        }
      ]
    },
    {
      "cell_type": "code",
      "source": [
        "'''\n",
        "(Home  work)\n",
        "Write  a  program  to  swap  values  of  two  objects  without  using  3rd  object\n",
        "\n",
        "Hint: One  addition  and  two  subtractions\n",
        "\n",
        "x = 25\n",
        "y =  10\n",
        "'''\n",
        "\n",
        "\n",
        "x=eval(input(\"enter x value\"))\n",
        "y=eval(input(\"enter y value\"))\n",
        "print(f\" Before swap x= '{x}'    y= '{y}' \")\n",
        "x=x+y\n",
        "y=x-y\n",
        "x=x-y\n",
        "print(f\" After swap x= '{x}'    y= '{y}' \")"
      ],
      "metadata": {
        "colab": {
          "base_uri": "https://localhost:8080/",
          "height": 263
        },
        "id": "OKiT4SLJ2xoN",
        "outputId": "124594ce-0162-40e0-d038-c543fe80983e"
      },
      "execution_count": 24,
      "outputs": [
        {
          "output_type": "stream",
          "name": "stdout",
          "text": [
            "enter x value5\n",
            "enter y value\"ranjith\"\n",
            " Before swap x= '5'    y= 'ranjith' \n"
          ]
        },
        {
          "output_type": "error",
          "ename": "TypeError",
          "evalue": "unsupported operand type(s) for +: 'int' and 'str'",
          "traceback": [
            "\u001b[0;31m---------------------------------------------------------------------------\u001b[0m",
            "\u001b[0;31mTypeError\u001b[0m                                 Traceback (most recent call last)",
            "\u001b[0;32m/tmp/ipython-input-24-2982571341.py\u001b[0m in \u001b[0;36m<cell line: 0>\u001b[0;34m()\u001b[0m\n\u001b[1;32m     13\u001b[0m \u001b[0my\u001b[0m\u001b[0;34m=\u001b[0m\u001b[0meval\u001b[0m\u001b[0;34m(\u001b[0m\u001b[0minput\u001b[0m\u001b[0;34m(\u001b[0m\u001b[0;34m\"enter y value\"\u001b[0m\u001b[0;34m)\u001b[0m\u001b[0;34m)\u001b[0m\u001b[0;34m\u001b[0m\u001b[0;34m\u001b[0m\u001b[0m\n\u001b[1;32m     14\u001b[0m \u001b[0mprint\u001b[0m\u001b[0;34m(\u001b[0m\u001b[0;34mf\" Before swap x= '{x}'    y= '{y}' \"\u001b[0m\u001b[0;34m)\u001b[0m\u001b[0;34m\u001b[0m\u001b[0;34m\u001b[0m\u001b[0m\n\u001b[0;32m---> 15\u001b[0;31m \u001b[0mx\u001b[0m\u001b[0;34m=\u001b[0m\u001b[0mx\u001b[0m\u001b[0;34m+\u001b[0m\u001b[0my\u001b[0m\u001b[0;34m\u001b[0m\u001b[0;34m\u001b[0m\u001b[0m\n\u001b[0m\u001b[1;32m     16\u001b[0m \u001b[0my\u001b[0m\u001b[0;34m=\u001b[0m\u001b[0mx\u001b[0m\u001b[0;34m-\u001b[0m\u001b[0my\u001b[0m\u001b[0;34m\u001b[0m\u001b[0;34m\u001b[0m\u001b[0m\n\u001b[1;32m     17\u001b[0m \u001b[0mx\u001b[0m\u001b[0;34m=\u001b[0m\u001b[0mx\u001b[0m\u001b[0;34m-\u001b[0m\u001b[0my\u001b[0m\u001b[0;34m\u001b[0m\u001b[0;34m\u001b[0m\u001b[0m\n",
            "\u001b[0;31mTypeError\u001b[0m: unsupported operand type(s) for +: 'int' and 'str'"
          ]
        }
      ]
    },
    {
      "cell_type": "code",
      "source": [],
      "metadata": {
        "id": "0aDPnqcR2xyW"
      },
      "execution_count": null,
      "outputs": []
    },
    {
      "cell_type": "code",
      "source": [],
      "metadata": {
        "id": "T3UCgKBx2x7q"
      },
      "execution_count": null,
      "outputs": []
    },
    {
      "cell_type": "code",
      "source": [],
      "metadata": {
        "id": "Dladasr-2yEA"
      },
      "execution_count": null,
      "outputs": []
    },
    {
      "cell_type": "code",
      "source": [],
      "metadata": {
        "id": "v20y09ox2yNR"
      },
      "execution_count": null,
      "outputs": []
    },
    {
      "cell_type": "code",
      "source": [],
      "metadata": {
        "id": "o0P4OtxT2yVb"
      },
      "execution_count": null,
      "outputs": []
    }
  ]
}